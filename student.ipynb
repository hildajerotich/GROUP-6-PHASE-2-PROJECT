{
 "cells": [
  {
   "cell_type": "markdown",
   "id": "c03ce0fa",
   "metadata": {},
   "source": [
    "## Final Project Submission\n",
    "\n",
    "Please fill out:\n",
    "* Student name: Erick Kibugi, Hilda Jerotich, David Muriithi, Alice Muia, Emmanuel Kipleting, Boniface Njeri, Barnice Wandeto \n",
    "* Student pace: part time \n",
    "* Scheduled project review date/time: \n",
    "* Instructor name: George Kamundia\n",
    "* Blog post URL:\n"
   ]
  },
  {
   "cell_type": "markdown",
   "id": "384a5c99",
   "metadata": {},
   "source": [
    "## Introduction\n",
    "Golden Arc Pictures is preparing to launch a new movie studio with the goal of producing original video content. However, the company currently lacks experience in film production. This analysis will explore various datasets related to the movie industry to uncover trends, patterns, and audience preferences. The insights gained will be translated into actionable recommendations that the head of Golden Arc Pictures’s new studio can use to make informed decisions about the types of films to develop."
   ]
  },
  {
   "cell_type": "code",
   "execution_count": 1,
   "id": "6276dbb3",
   "metadata": {},
   "outputs": [],
   "source": [
    "#importing the required libraries\n",
    "import pandas as pd\n",
    "import numpy as np\n",
    "import gzip\n",
    "import sqlite3\n",
    "import seaborn as sns\n"
   ]
  },
  {
   "cell_type": "markdown",
   "id": "cae640c1",
   "metadata": {},
   "source": [
    "## Data loading, extraction and analysis"
   ]
  },
  {
   "cell_type": "markdown",
   "id": "165eeea7",
   "metadata": {},
   "source": [
    "For the first dataset, we are dealing with tmdd.movies.csv.gz "
   ]
  },
  {
   "cell_type": "code",
   "execution_count": 2,
   "id": "3435f69e",
   "metadata": {},
   "outputs": [
    {
     "data": {
      "application/vnd.microsoft.datawrangler.viewer.v0+json": {
       "columns": [
        {
         "name": "index",
         "rawType": "int64",
         "type": "integer"
        },
        {
         "name": "Unnamed: 0",
         "rawType": "int64",
         "type": "integer"
        },
        {
         "name": "genre_ids",
         "rawType": "object",
         "type": "string"
        },
        {
         "name": "id",
         "rawType": "int64",
         "type": "integer"
        },
        {
         "name": "original_language",
         "rawType": "object",
         "type": "string"
        },
        {
         "name": "original_title",
         "rawType": "object",
         "type": "string"
        },
        {
         "name": "popularity",
         "rawType": "float64",
         "type": "float"
        },
        {
         "name": "release_date",
         "rawType": "object",
         "type": "string"
        },
        {
         "name": "title",
         "rawType": "object",
         "type": "string"
        },
        {
         "name": "vote_average",
         "rawType": "float64",
         "type": "float"
        },
        {
         "name": "vote_count",
         "rawType": "int64",
         "type": "integer"
        }
       ],
       "ref": "af8b1deb-742b-41d9-997a-2a783301e5c8",
       "rows": [
        [
         "0",
         "0",
         "[12, 14, 10751]",
         "12444",
         "en",
         "Harry Potter and the Deathly Hallows: Part 1",
         "33.533",
         "2010-11-19",
         "Harry Potter and the Deathly Hallows: Part 1",
         "7.7",
         "10788"
        ],
        [
         "1",
         "1",
         "[14, 12, 16, 10751]",
         "10191",
         "en",
         "How to Train Your Dragon",
         "28.734",
         "2010-03-26",
         "How to Train Your Dragon",
         "7.7",
         "7610"
        ],
        [
         "2",
         "2",
         "[12, 28, 878]",
         "10138",
         "en",
         "Iron Man 2",
         "28.515",
         "2010-05-07",
         "Iron Man 2",
         "6.8",
         "12368"
        ],
        [
         "3",
         "3",
         "[16, 35, 10751]",
         "862",
         "en",
         "Toy Story",
         "28.005",
         "1995-11-22",
         "Toy Story",
         "7.9",
         "10174"
        ],
        [
         "4",
         "4",
         "[28, 878, 12]",
         "27205",
         "en",
         "Inception",
         "27.92",
         "2010-07-16",
         "Inception",
         "8.3",
         "22186"
        ]
       ],
       "shape": {
        "columns": 10,
        "rows": 5
       }
      },
      "text/html": [
       "<div>\n",
       "<style scoped>\n",
       "    .dataframe tbody tr th:only-of-type {\n",
       "        vertical-align: middle;\n",
       "    }\n",
       "\n",
       "    .dataframe tbody tr th {\n",
       "        vertical-align: top;\n",
       "    }\n",
       "\n",
       "    .dataframe thead th {\n",
       "        text-align: right;\n",
       "    }\n",
       "</style>\n",
       "<table border=\"1\" class=\"dataframe\">\n",
       "  <thead>\n",
       "    <tr style=\"text-align: right;\">\n",
       "      <th></th>\n",
       "      <th>Unnamed: 0</th>\n",
       "      <th>genre_ids</th>\n",
       "      <th>id</th>\n",
       "      <th>original_language</th>\n",
       "      <th>original_title</th>\n",
       "      <th>popularity</th>\n",
       "      <th>release_date</th>\n",
       "      <th>title</th>\n",
       "      <th>vote_average</th>\n",
       "      <th>vote_count</th>\n",
       "    </tr>\n",
       "  </thead>\n",
       "  <tbody>\n",
       "    <tr>\n",
       "      <th>0</th>\n",
       "      <td>0</td>\n",
       "      <td>[12, 14, 10751]</td>\n",
       "      <td>12444</td>\n",
       "      <td>en</td>\n",
       "      <td>Harry Potter and the Deathly Hallows: Part 1</td>\n",
       "      <td>33.533</td>\n",
       "      <td>2010-11-19</td>\n",
       "      <td>Harry Potter and the Deathly Hallows: Part 1</td>\n",
       "      <td>7.7</td>\n",
       "      <td>10788</td>\n",
       "    </tr>\n",
       "    <tr>\n",
       "      <th>1</th>\n",
       "      <td>1</td>\n",
       "      <td>[14, 12, 16, 10751]</td>\n",
       "      <td>10191</td>\n",
       "      <td>en</td>\n",
       "      <td>How to Train Your Dragon</td>\n",
       "      <td>28.734</td>\n",
       "      <td>2010-03-26</td>\n",
       "      <td>How to Train Your Dragon</td>\n",
       "      <td>7.7</td>\n",
       "      <td>7610</td>\n",
       "    </tr>\n",
       "    <tr>\n",
       "      <th>2</th>\n",
       "      <td>2</td>\n",
       "      <td>[12, 28, 878]</td>\n",
       "      <td>10138</td>\n",
       "      <td>en</td>\n",
       "      <td>Iron Man 2</td>\n",
       "      <td>28.515</td>\n",
       "      <td>2010-05-07</td>\n",
       "      <td>Iron Man 2</td>\n",
       "      <td>6.8</td>\n",
       "      <td>12368</td>\n",
       "    </tr>\n",
       "    <tr>\n",
       "      <th>3</th>\n",
       "      <td>3</td>\n",
       "      <td>[16, 35, 10751]</td>\n",
       "      <td>862</td>\n",
       "      <td>en</td>\n",
       "      <td>Toy Story</td>\n",
       "      <td>28.005</td>\n",
       "      <td>1995-11-22</td>\n",
       "      <td>Toy Story</td>\n",
       "      <td>7.9</td>\n",
       "      <td>10174</td>\n",
       "    </tr>\n",
       "    <tr>\n",
       "      <th>4</th>\n",
       "      <td>4</td>\n",
       "      <td>[28, 878, 12]</td>\n",
       "      <td>27205</td>\n",
       "      <td>en</td>\n",
       "      <td>Inception</td>\n",
       "      <td>27.920</td>\n",
       "      <td>2010-07-16</td>\n",
       "      <td>Inception</td>\n",
       "      <td>8.3</td>\n",
       "      <td>22186</td>\n",
       "    </tr>\n",
       "  </tbody>\n",
       "</table>\n",
       "</div>"
      ],
      "text/plain": [
       "   Unnamed: 0            genre_ids     id original_language  \\\n",
       "0           0      [12, 14, 10751]  12444                en   \n",
       "1           1  [14, 12, 16, 10751]  10191                en   \n",
       "2           2        [12, 28, 878]  10138                en   \n",
       "3           3      [16, 35, 10751]    862                en   \n",
       "4           4        [28, 878, 12]  27205                en   \n",
       "\n",
       "                                 original_title  popularity release_date  \\\n",
       "0  Harry Potter and the Deathly Hallows: Part 1      33.533   2010-11-19   \n",
       "1                      How to Train Your Dragon      28.734   2010-03-26   \n",
       "2                                    Iron Man 2      28.515   2010-05-07   \n",
       "3                                     Toy Story      28.005   1995-11-22   \n",
       "4                                     Inception      27.920   2010-07-16   \n",
       "\n",
       "                                          title  vote_average  vote_count  \n",
       "0  Harry Potter and the Deathly Hallows: Part 1           7.7       10788  \n",
       "1                      How to Train Your Dragon           7.7        7610  \n",
       "2                                    Iron Man 2           6.8       12368  \n",
       "3                                     Toy Story           7.9       10174  \n",
       "4                                     Inception           8.3       22186  "
      ]
     },
     "execution_count": 2,
     "metadata": {},
     "output_type": "execute_result"
    }
   ],
   "source": [
    "df_tmdb_mov = pd.read_csv('tmdb.movies.csv')\n",
    "df_tmdb_mov.head()"
   ]
  },
  {
   "cell_type": "code",
   "execution_count": 3,
   "id": "469824df",
   "metadata": {},
   "outputs": [
    {
     "name": "stdout",
     "output_type": "stream",
     "text": [
      "<class 'pandas.core.frame.DataFrame'>\n",
      "RangeIndex: 26517 entries, 0 to 26516\n",
      "Data columns (total 10 columns):\n",
      " #   Column             Non-Null Count  Dtype  \n",
      "---  ------             --------------  -----  \n",
      " 0   Unnamed: 0         26517 non-null  int64  \n",
      " 1   genre_ids          26517 non-null  object \n",
      " 2   id                 26517 non-null  int64  \n",
      " 3   original_language  26517 non-null  object \n",
      " 4   original_title     26517 non-null  object \n",
      " 5   popularity         26517 non-null  float64\n",
      " 6   release_date       26517 non-null  object \n",
      " 7   title              26517 non-null  object \n",
      " 8   vote_average       26517 non-null  float64\n",
      " 9   vote_count         26517 non-null  int64  \n",
      "dtypes: float64(2), int64(3), object(5)\n",
      "memory usage: 2.0+ MB\n"
     ]
    },
    {
     "data": {
      "application/vnd.microsoft.datawrangler.viewer.v0+json": {
       "columns": [
        {
         "name": "index",
         "rawType": "object",
         "type": "string"
        },
        {
         "name": "0",
         "rawType": "int64",
         "type": "integer"
        }
       ],
       "ref": "2f8fc328-b27f-42c9-a429-7ff669a4f392",
       "rows": [
        [
         "Unnamed: 0",
         "0"
        ],
        [
         "genre_ids",
         "0"
        ],
        [
         "id",
         "0"
        ],
        [
         "original_language",
         "0"
        ],
        [
         "original_title",
         "0"
        ],
        [
         "popularity",
         "0"
        ],
        [
         "release_date",
         "0"
        ],
        [
         "title",
         "0"
        ],
        [
         "vote_average",
         "0"
        ],
        [
         "vote_count",
         "0"
        ]
       ],
       "shape": {
        "columns": 1,
        "rows": 10
       }
      },
      "text/plain": [
       "Unnamed: 0           0\n",
       "genre_ids            0\n",
       "id                   0\n",
       "original_language    0\n",
       "original_title       0\n",
       "popularity           0\n",
       "release_date         0\n",
       "title                0\n",
       "vote_average         0\n",
       "vote_count           0\n",
       "dtype: int64"
      ]
     },
     "execution_count": 3,
     "metadata": {},
     "output_type": "execute_result"
    }
   ],
   "source": [
    "# with the following lines of code, we aim to investigate the dataset and understand its structure, size, and data types.\n",
    "df_tmdb_mov.info()\n",
    "df_tmdb_mov.shape\n",
    "df_tmdb_mov.duplicated().sum()\n",
    "df_tmdb_mov.isnull().sum()"
   ]
  },
  {
   "cell_type": "markdown",
   "id": "f8c6f3ab",
   "metadata": {},
   "source": [
    "As a result, we have observed there are no duplicates, no null values and date format is YYYY-MM-DD."
   ]
  },
  {
   "cell_type": "code",
   "execution_count": 4,
   "id": "0a89d312",
   "metadata": {},
   "outputs": [
    {
     "name": "stdout",
     "output_type": "stream",
     "text": [
      "en    23291\n",
      "fr      507\n",
      "es      455\n",
      "ru      298\n",
      "ja      265\n",
      "      ...  \n",
      "yi        1\n",
      "ha        1\n",
      "bo        1\n",
      "kk        1\n",
      "hz        1\n",
      "Name: original_language, Length: 76, dtype: int64\n"
     ]
    }
   ],
   "source": [
    "# We will now check the number of movies available in each language.\n",
    "count_by_language = df_tmdb_mov['original_language'].value_counts()\n",
    "print(count_by_language)"
   ]
  },
  {
   "cell_type": "markdown",
   "id": "be7b0ce5",
   "metadata": {},
   "source": [
    "## Data visualization"
   ]
  },
  {
   "cell_type": "code",
   "execution_count": 5,
   "id": "25dafc1f",
   "metadata": {},
   "outputs": [
    {
     "data": {
      "image/png": "[encoded data removed]",
      "text/plain": [
       "<Figure size 720x432 with 1 Axes>"
      ]
     },
     "metadata": {
      "needs_background": "light"
     },
     "output_type": "display_data"
    }
   ],
   "source": [
    "# the following is a simple bar plot to visualize the count of movies by original language\n",
    "import matplotlib.pyplot as plt\n",
    "top_languages = df_tmdb_mov['original_language'].value_counts().nlargest(5).index\n",
    "filtered_df = df_tmdb_mov[df_tmdb_mov['original_language'].isin(top_languages)]\n",
    "\n",
    "plt.figure(figsize=(10, 6))\n",
    "sns.barplot(data=filtered_df, x='original_language', y='popularity')\n",
    "plt.title('Popularity by Top Original Languages')\n",
    "plt.xlabel('Original Language')\n",
    "plt.ylabel('Popularity')\n",
    "plt.tight_layout()\n",
    "plt.show()"
   ]
  },
  {
   "cell_type": "markdown",
   "id": "81af8f18",
   "metadata": {},
   "source": [
    "Inference: Japanese is obsereved to have a higher popularity despite having less movie counts compares to a language like English that is the most common.  "
   ]
  },
  {
   "cell_type": "markdown",
   "id": "ab5d1df7",
   "metadata": {},
   "source": [
    "### Checking for normality"
   ]
  },
  {
   "cell_type": "code",
   "execution_count": 6,
   "id": "ef7b6e00",
   "metadata": {},
   "outputs": [
    {
     "name": "stdout",
     "output_type": "stream",
     "text": [
      "\n",
      "Language: en\n"
     ]
    },
    {
     "data": {
      "image/png": "[encoded data removed]",
      "text/plain": [
       "<Figure size 432x288 with 1 Axes>"
      ]
     },
     "metadata": {
      "needs_background": "light"
     },
     "output_type": "display_data"
    },
    {
     "name": "stdout",
     "output_type": "stream",
     "text": [
      "\n",
      "Language: fr\n"
     ]
    },
    {
     "data": {
      "image/png": "[encoded data removed]",
      "text/plain": [
       "<Figure size 432x288 with 1 Axes>"
      ]
     },
     "metadata": {
      "needs_background": "light"
     },
     "output_type": "display_data"
    },
    {
     "name": "stdout",
     "output_type": "stream",
     "text": [
      "\n",
      "Language: es\n"
     ]
    },
    {
     "data": {
      "image/png": "[encoded data removed]",
      "text/plain": [
       "<Figure size 432x288 with 1 Axes>"
      ]
     },
     "metadata": {
      "needs_background": "light"
     },
     "output_type": "display_data"
    },
    {
     "name": "stdout",
     "output_type": "stream",
     "text": [
      "\n",
      "Language: ru\n"
     ]
    },
    {
     "data": {
      "image/png": "[encoded data removed]",
      "text/plain": [
       "<Figure size 432x288 with 1 Axes>"
      ]
     },
     "metadata": {
      "needs_background": "light"
     },
     "output_type": "display_data"
    },
    {
     "name": "stdout",
     "output_type": "stream",
     "text": [
      "\n",
      "Language: ja\n"
     ]
    },
    {
     "data": {
      "image/png": "[encoded data removed]",
      "text/plain": [
       "<Figure size 432x288 with 1 Axes>"
      ]
     },
     "metadata": {
      "needs_background": "light"
     },
     "output_type": "display_data"
    }
   ],
   "source": [
    "top_languages = df_tmdb_mov['original_language'].value_counts().nlargest(5).index\n",
    "\n",
    "for lang in top_languages:\n",
    "    lang_data = df_tmdb_mov[df_tmdb_mov['original_language'] == lang]['popularity']\n",
    "    \n",
    "    print(f'\\nLanguage: {lang}')\n",
    "\n",
    "    # Histogram\n",
    "    sns.histplot(lang_data, kde=True)\n",
    "    plt.title(f'Popularity Distribution - {lang}')\n",
    "    plt.xlabel('Popularity')\n",
    "    plt.ylabel('Frequency')\n",
    "    plt.show()"
   ]
  },
  {
   "cell_type": "markdown",
   "id": "b8639cc3",
   "metadata": {},
   "source": [
    "###  Hypothesis testing"
   ]
  },
  {
   "cell_type": "code",
   "execution_count": 7,
   "id": "755bd7d2",
   "metadata": {},
   "outputs": [
    {
     "name": "stdout",
     "output_type": "stream",
     "text": [
      "ANOVA test: F-statistic = 34.246, p-value = 0.0000\n"
     ]
    }
   ],
   "source": [
    "# Group popularity by language\n",
    "groups = [filtered_df[filtered_df['original_language'] == lang]['popularity'] for lang in top_languages]\n",
    "\n",
    "from scipy.stats import f_oneway\n",
    "# Perform one-way ANOVA\n",
    "f_stat, p_val = f_oneway(*groups)\n",
    "\n",
    "print(f\"ANOVA test: F-statistic = {f_stat:.3f}, p-value = {p_val:.4f}\")"
   ]
  },
  {
   "cell_type": "markdown",
   "id": "be4797f0",
   "metadata": {},
   "source": [
    "There is a significant difference in average popularity among languages since p<0.05"
   ]
  },
  {
   "cell_type": "markdown",
   "id": "c4f8c9a1",
   "metadata": {},
   "source": [
    "## The second dataset"
   ]
  },
  {
   "cell_type": "markdown",
   "id": "ac920a63",
   "metadata": {},
   "source": [
    "The second dataset under investigation is 'tn.movie_budgets.csv'."
   ]
  },
  {
   "cell_type": "markdown",
   "id": "fc7ac0d7",
   "metadata": {},
   "source": [
    "### Data loading, extraction, cleaning and analysis"
   ]
  },
  {
   "cell_type": "code",
   "execution_count": 8,
   "id": "e7b2e7ea",
   "metadata": {},
   "outputs": [
    {
     "data": {
      "application/vnd.microsoft.datawrangler.viewer.v0+json": {
       "columns": [
        {
         "name": "index",
         "rawType": "int64",
         "type": "integer"
        },
        {
         "name": "id",
         "rawType": "int64",
         "type": "integer"
        },
        {
         "name": "release_date",
         "rawType": "object",
         "type": "string"
        },
        {
         "name": "movie",
         "rawType": "object",
         "type": "string"
        },
        {
         "name": "production_budget",
         "rawType": "int64",
         "type": "integer"
        },
        {
         "name": "domestic_gross",
         "rawType": "int64",
         "type": "integer"
        },
        {
         "name": "worldwide_gross",
         "rawType": "int64",
         "type": "integer"
        },
        {
         "name": "revenue",
         "rawType": "int64",
         "type": "integer"
        },
        {
         "name": "profit",
         "rawType": "int64",
         "type": "integer"
        },
        {
         "name": "roi",
         "rawType": "float64",
         "type": "float"
        },
        {
         "name": "release_year",
         "rawType": "int64",
         "type": "integer"
        },
        {
         "name": "release_month",
         "rawType": "int64",
         "type": "integer"
        }
       ],
       "ref": "6342f57d-651d-42e0-b731-a592a097ffe2",
       "rows": [
        [
         "0",
         "1",
         "1959-07-18",
         "The Nun's Story",
         "3500000",
         "12800000",
         "12800000",
         "25600000",
         "22100000",
         "6.314285714285713",
         "1959",
         "7"
        ],
        [
         "1",
         "1",
         "1962-06-13",
         "Lolita",
         "2000000",
         "9250000",
         "9250000",
         "18500000",
         "16500000",
         "8.25",
         "1962",
         "6"
        ],
        [
         "2",
         "1",
         "1974-02-07",
         "Blazing Saddles",
         "2600000",
         "119500000",
         "119500000",
         "239000000",
         "236400000",
         "90.92307692307692",
         "1974",
         "2"
        ],
        [
         "3",
         "1",
         "1978-06-16",
         "Jaws 2",
         "20000000",
         "102922376",
         "208900376",
         "311822752",
         "291822752",
         "14.5911376",
         "1978",
         "6"
        ],
        [
         "4",
         "1",
         "1980-11-14",
         "Raging Bull",
         "18000000",
         "23380203",
         "23380203",
         "46760406",
         "28760406",
         "1.5978003333333333",
         "1980",
         "11"
        ]
       ],
       "shape": {
        "columns": 11,
        "rows": 5
       }
      },
      "text/html": [
       "<div>\n",
       "<style scoped>\n",
       "    .dataframe tbody tr th:only-of-type {\n",
       "        vertical-align: middle;\n",
       "    }\n",
       "\n",
       "    .dataframe tbody tr th {\n",
       "        vertical-align: top;\n",
       "    }\n",
       "\n",
       "    .dataframe thead th {\n",
       "        text-align: right;\n",
       "    }\n",
       "</style>\n",
       "<table border=\"1\" class=\"dataframe\">\n",
       "  <thead>\n",
       "    <tr style=\"text-align: right;\">\n",
       "      <th></th>\n",
       "      <th>id</th>\n",
       "      <th>release_date</th>\n",
       "      <th>movie</th>\n",
       "      <th>production_budget</th>\n",
       "      <th>domestic_gross</th>\n",
       "      <th>worldwide_gross</th>\n",
       "      <th>revenue</th>\n",
       "      <th>profit</th>\n",
       "      <th>roi</th>\n",
       "      <th>release_year</th>\n",
       "      <th>release_month</th>\n",
       "    </tr>\n",
       "  </thead>\n",
       "  <tbody>\n",
       "    <tr>\n",
       "      <th>0</th>\n",
       "      <td>1</td>\n",
       "      <td>1959-07-18</td>\n",
       "      <td>The Nun's Story</td>\n",
       "      <td>3500000</td>\n",
       "      <td>12800000</td>\n",
       "      <td>12800000</td>\n",
       "      <td>25600000</td>\n",
       "      <td>22100000</td>\n",
       "      <td>6.314286</td>\n",
       "      <td>1959</td>\n",
       "      <td>7</td>\n",
       "    </tr>\n",
       "    <tr>\n",
       "      <th>1</th>\n",
       "      <td>1</td>\n",
       "      <td>1962-06-13</td>\n",
       "      <td>Lolita</td>\n",
       "      <td>2000000</td>\n",
       "      <td>9250000</td>\n",
       "      <td>9250000</td>\n",
       "      <td>18500000</td>\n",
       "      <td>16500000</td>\n",
       "      <td>8.250000</td>\n",
       "      <td>1962</td>\n",
       "      <td>6</td>\n",
       "    </tr>\n",
       "    <tr>\n",
       "      <th>2</th>\n",
       "      <td>1</td>\n",
       "      <td>1974-02-07</td>\n",
       "      <td>Blazing Saddles</td>\n",
       "      <td>2600000</td>\n",
       "      <td>119500000</td>\n",
       "      <td>119500000</td>\n",
       "      <td>239000000</td>\n",
       "      <td>236400000</td>\n",
       "      <td>90.923077</td>\n",
       "      <td>1974</td>\n",
       "      <td>2</td>\n",
       "    </tr>\n",
       "    <tr>\n",
       "      <th>3</th>\n",
       "      <td>1</td>\n",
       "      <td>1978-06-16</td>\n",
       "      <td>Jaws 2</td>\n",
       "      <td>20000000</td>\n",
       "      <td>102922376</td>\n",
       "      <td>208900376</td>\n",
       "      <td>311822752</td>\n",
       "      <td>291822752</td>\n",
       "      <td>14.591138</td>\n",
       "      <td>1978</td>\n",
       "      <td>6</td>\n",
       "    </tr>\n",
       "    <tr>\n",
       "      <th>4</th>\n",
       "      <td>1</td>\n",
       "      <td>1980-11-14</td>\n",
       "      <td>Raging Bull</td>\n",
       "      <td>18000000</td>\n",
       "      <td>23380203</td>\n",
       "      <td>23380203</td>\n",
       "      <td>46760406</td>\n",
       "      <td>28760406</td>\n",
       "      <td>1.597800</td>\n",
       "      <td>1980</td>\n",
       "      <td>11</td>\n",
       "    </tr>\n",
       "  </tbody>\n",
       "</table>\n",
       "</div>"
      ],
      "text/plain": [
       "   id release_date            movie  production_budget  domestic_gross  \\\n",
       "0   1   1959-07-18  The Nun's Story            3500000        12800000   \n",
       "1   1   1962-06-13           Lolita            2000000         9250000   \n",
       "2   1   1974-02-07  Blazing Saddles            2600000       119500000   \n",
       "3   1   1978-06-16           Jaws 2           20000000       102922376   \n",
       "4   1   1980-11-14      Raging Bull           18000000        23380203   \n",
       "\n",
       "   worldwide_gross    revenue     profit        roi  release_year  \\\n",
       "0         12800000   25600000   22100000   6.314286          1959   \n",
       "1          9250000   18500000   16500000   8.250000          1962   \n",
       "2        119500000  239000000  236400000  90.923077          1974   \n",
       "3        208900376  311822752  291822752  14.591138          1978   \n",
       "4         23380203   46760406   28760406   1.597800          1980   \n",
       "\n",
       "   release_month  \n",
       "0              7  \n",
       "1              6  \n",
       "2              2  \n",
       "3              6  \n",
       "4             11  "
      ]
     },
     "execution_count": 8,
     "metadata": {},
     "output_type": "execute_result"
    }
   ],
   "source": [
    "df_tmdb_mov_bud = pd.read_csv('tn.movie_budgets.csv')\n",
    "df_tmdb_mov_bud.head()"
   ]
  },
  {
   "cell_type": "code",
   "execution_count": 9,
   "id": "53674594",
   "metadata": {},
   "outputs": [],
   "source": [
    "cols = ['production_budget', 'domestic_gross', 'worldwide_gross']\n",
    "for col in cols:\n",
    "    # Remove non-numeric characters\n",
    "    df_tmdb_mov_bud[col] = df_tmdb_mov_bud[col].replace('[\\$,]', '', regex=True)\n",
    "    # Convert to numeric, set errors='coerce' to handle bad data\n",
    "    df_tmdb_mov_bud[col] = pd.to_numeric(df_tmdb_mov_bud[col], errors='coerce')"
   ]
  },
  {
   "cell_type": "code",
   "execution_count": 10,
   "id": "efedc594",
   "metadata": {},
   "outputs": [],
   "source": [
    "cols = ['production_budget', 'domestic_gross', 'worldwide_gross']\n",
    "for col in cols:\n",
    "    df_tmdb_mov_bud[col] = df_tmdb_mov_bud[col].replace('[\\$,]', '', regex=True).astype(int)"
   ]
  },
  {
   "cell_type": "code",
   "execution_count": 11,
   "id": "cf9f8a5f",
   "metadata": {},
   "outputs": [],
   "source": [
    "## Remove rows where 'budget' values are missing or zero\n",
    "df_tmdb_mov_bud = df_tmdb_mov_bud.dropna(subset=['domestic_gross','worldwide_gross', 'production_budget'])\n",
    "df_tmdb_mov_bud = df_tmdb_mov_bud[\n",
    "    (df_tmdb_mov_bud['domestic_gross'] != 0) &\n",
    "    (df_tmdb_mov_bud['worldwide_gross'] != 0) &\n",
    "    (df_tmdb_mov_bud['production_budget'] != 0)\n",
    "]"
   ]
  },
  {
   "cell_type": "code",
   "execution_count": 12,
   "id": "b5c03c08",
   "metadata": {},
   "outputs": [],
   "source": [
    "# create a new column 'revenue' as the sum of 'domestic_gross' and 'worldwide_gross'\n",
    "df_tmdb_mov_bud['revenue'] = df_tmdb_mov_bud['domestic_gross'] + df_tmdb_mov_bud['worldwide_gross']"
   ]
  },
  {
   "cell_type": "code",
   "execution_count": 13,
   "id": "9edddef8",
   "metadata": {},
   "outputs": [],
   "source": [
    "# create a new column 'revenue' as the sum of 'domestic_gross' and 'worldwide_gross'\n",
    "df_tmdb_mov_bud['revenue'] = df_tmdb_mov_bud['domestic_gross'] + df_tmdb_mov_bud['worldwide_gross']"
   ]
  },
  {
   "cell_type": "code",
   "execution_count": 14,
   "id": "84a7b6d6",
   "metadata": {},
   "outputs": [],
   "source": [
    "# create ROI = (revenue - production_budget) / production_budget\n",
    "df_tmdb_mov_bud['roi'] = (df_tmdb_mov_bud['revenue'] - df_tmdb_mov_bud['production_budget']) / df_tmdb_mov_bud['production_budget']"
   ]
  },
  {
   "cell_type": "markdown",
   "id": "9adbb5f9",
   "metadata": {},
   "source": [
    "# Convert 'release_date' to datetime\n",
    "df_tmdb_mov_bud['release_date'] = pd.to_datetime(df_tmdb_mov_bud['release_date'], errors='coerce')\n",
    "\n",
    "# Extract year and month into new columns\n",
    "df_tmdb_mov_bud['release_year'] = df_tmdb_mov_bud['release_date'].dt.year\n",
    "df_tmdb_mov_bud['release_month'] = df_tmdb_mov_bud['release_date'].dt.month"
   ]
  },
  {
   "cell_type": "code",
   "execution_count": 15,
   "id": "2f520593",
   "metadata": {},
   "outputs": [
    {
     "name": "stdout",
     "output_type": "stream",
     "text": [
      "<class 'pandas.core.frame.DataFrame'>\n",
      "Int64Index: 5234 entries, 0 to 5233\n",
      "Data columns (total 11 columns):\n",
      " #   Column             Non-Null Count  Dtype  \n",
      "---  ------             --------------  -----  \n",
      " 0   id                 5234 non-null   int64  \n",
      " 1   release_date       5234 non-null   object \n",
      " 2   movie              5234 non-null   object \n",
      " 3   production_budget  5234 non-null   int32  \n",
      " 4   domestic_gross     5234 non-null   int32  \n",
      " 5   worldwide_gross    5234 non-null   int32  \n",
      " 6   revenue            5234 non-null   int32  \n",
      " 7   profit             5234 non-null   int64  \n",
      " 8   roi                5234 non-null   float64\n",
      " 9   release_year       5234 non-null   int64  \n",
      " 10  release_month      5234 non-null   int64  \n",
      "dtypes: float64(1), int32(4), int64(4), object(2)\n",
      "memory usage: 408.9+ KB\n"
     ]
    },
    {
     "data": {
      "application/vnd.microsoft.datawrangler.viewer.v0+json": {
       "columns": [
        {
         "name": "index",
         "rawType": "object",
         "type": "string"
        },
        {
         "name": "0",
         "rawType": "int64",
         "type": "integer"
        }
       ],
       "ref": "0287f7cc-c79a-4584-a4ba-93dd4232f3d3",
       "rows": [
        [
         "id",
         "0"
        ],
        [
         "release_date",
         "0"
        ],
        [
         "movie",
         "0"
        ],
        [
         "production_budget",
         "0"
        ],
        [
         "domestic_gross",
         "0"
        ],
        [
         "worldwide_gross",
         "0"
        ],
        [
         "revenue",
         "0"
        ],
        [
         "profit",
         "0"
        ],
        [
         "roi",
         "0"
        ],
        [
         "release_year",
         "0"
        ],
        [
         "release_month",
         "0"
        ]
       ],
       "shape": {
        "columns": 1,
        "rows": 11
       }
      },
      "text/plain": [
       "id                   0\n",
       "release_date         0\n",
       "movie                0\n",
       "production_budget    0\n",
       "domestic_gross       0\n",
       "worldwide_gross      0\n",
       "revenue              0\n",
       "profit               0\n",
       "roi                  0\n",
       "release_year         0\n",
       "release_month        0\n",
       "dtype: int64"
      ]
     },
     "execution_count": 15,
     "metadata": {},
     "output_type": "execute_result"
    }
   ],
   "source": [
    "df_tmdb_mov_bud.info()\n",
    "df_tmdb_mov_bud.shape\n",
    "df_tmdb_mov_bud.duplicated().sum()\n",
    "df_tmdb_mov_bud.isnull().sum()"
   ]
  },
  {
   "cell_type": "markdown",
   "id": "293096a1",
   "metadata": {},
   "source": []
  },
  {
   "cell_type": "code",
   "execution_count": 16,
   "id": "fa9261eb",
   "metadata": {},
   "outputs": [
    {
     "data": {
      "application/vnd.microsoft.datawrangler.viewer.v0+json": {
       "columns": [
        {
         "name": "index",
         "rawType": "int64",
         "type": "integer"
        },
        {
         "name": "id",
         "rawType": "int64",
         "type": "integer"
        },
        {
         "name": "release_date",
         "rawType": "object",
         "type": "string"
        },
        {
         "name": "movie",
         "rawType": "object",
         "type": "string"
        },
        {
         "name": "production_budget",
         "rawType": "int32",
         "type": "integer"
        },
        {
         "name": "domestic_gross",
         "rawType": "int32",
         "type": "integer"
        },
        {
         "name": "worldwide_gross",
         "rawType": "int32",
         "type": "integer"
        },
        {
         "name": "revenue",
         "rawType": "int32",
         "type": "integer"
        },
        {
         "name": "profit",
         "rawType": "int64",
         "type": "integer"
        },
        {
         "name": "roi",
         "rawType": "float64",
         "type": "float"
        },
        {
         "name": "release_year",
         "rawType": "int64",
         "type": "integer"
        },
        {
         "name": "release_month",
         "rawType": "int64",
         "type": "integer"
        }
       ],
       "ref": "c796b893-157b-4358-adb2-63b39b81a941",
       "rows": [
        [
         "0",
         "1",
         "1959-07-18",
         "The Nun's Story",
         "3500000",
         "12800000",
         "12800000",
         "25600000",
         "22100000",
         "6.314285714285714",
         "1959",
         "7"
        ],
        [
         "1",
         "1",
         "1962-06-13",
         "Lolita",
         "2000000",
         "9250000",
         "9250000",
         "18500000",
         "16500000",
         "8.25",
         "1962",
         "6"
        ],
        [
         "2",
         "1",
         "1974-02-07",
         "Blazing Saddles",
         "2600000",
         "119500000",
         "119500000",
         "239000000",
         "236400000",
         "90.92307692307692",
         "1974",
         "2"
        ],
        [
         "3",
         "1",
         "1978-06-16",
         "Jaws 2",
         "20000000",
         "102922376",
         "208900376",
         "311822752",
         "291822752",
         "14.5911376",
         "1978",
         "6"
        ],
        [
         "4",
         "1",
         "1980-11-14",
         "Raging Bull",
         "18000000",
         "23380203",
         "23380203",
         "46760406",
         "28760406",
         "1.5978003333333333",
         "1980",
         "11"
        ]
       ],
       "shape": {
        "columns": 11,
        "rows": 5
       }
      },
      "text/html": [
       "<div>\n",
       "<style scoped>\n",
       "    .dataframe tbody tr th:only-of-type {\n",
       "        vertical-align: middle;\n",
       "    }\n",
       "\n",
       "    .dataframe tbody tr th {\n",
       "        vertical-align: top;\n",
       "    }\n",
       "\n",
       "    .dataframe thead th {\n",
       "        text-align: right;\n",
       "    }\n",
       "</style>\n",
       "<table border=\"1\" class=\"dataframe\">\n",
       "  <thead>\n",
       "    <tr style=\"text-align: right;\">\n",
       "      <th></th>\n",
       "      <th>id</th>\n",
       "      <th>release_date</th>\n",
       "      <th>movie</th>\n",
       "      <th>production_budget</th>\n",
       "      <th>domestic_gross</th>\n",
       "      <th>worldwide_gross</th>\n",
       "      <th>revenue</th>\n",
       "      <th>profit</th>\n",
       "      <th>roi</th>\n",
       "      <th>release_year</th>\n",
       "      <th>release_month</th>\n",
       "    </tr>\n",
       "  </thead>\n",
       "  <tbody>\n",
       "    <tr>\n",
       "      <th>0</th>\n",
       "      <td>1</td>\n",
       "      <td>1959-07-18</td>\n",
       "      <td>The Nun's Story</td>\n",
       "      <td>3500000</td>\n",
       "      <td>12800000</td>\n",
       "      <td>12800000</td>\n",
       "      <td>25600000</td>\n",
       "      <td>22100000</td>\n",
       "      <td>6.314286</td>\n",
       "      <td>1959</td>\n",
       "      <td>7</td>\n",
       "    </tr>\n",
       "    <tr>\n",
       "      <th>1</th>\n",
       "      <td>1</td>\n",
       "      <td>1962-06-13</td>\n",
       "      <td>Lolita</td>\n",
       "      <td>2000000</td>\n",
       "      <td>9250000</td>\n",
       "      <td>9250000</td>\n",
       "      <td>18500000</td>\n",
       "      <td>16500000</td>\n",
       "      <td>8.250000</td>\n",
       "      <td>1962</td>\n",
       "      <td>6</td>\n",
       "    </tr>\n",
       "    <tr>\n",
       "      <th>2</th>\n",
       "      <td>1</td>\n",
       "      <td>1974-02-07</td>\n",
       "      <td>Blazing Saddles</td>\n",
       "      <td>2600000</td>\n",
       "      <td>119500000</td>\n",
       "      <td>119500000</td>\n",
       "      <td>239000000</td>\n",
       "      <td>236400000</td>\n",
       "      <td>90.923077</td>\n",
       "      <td>1974</td>\n",
       "      <td>2</td>\n",
       "    </tr>\n",
       "    <tr>\n",
       "      <th>3</th>\n",
       "      <td>1</td>\n",
       "      <td>1978-06-16</td>\n",
       "      <td>Jaws 2</td>\n",
       "      <td>20000000</td>\n",
       "      <td>102922376</td>\n",
       "      <td>208900376</td>\n",
       "      <td>311822752</td>\n",
       "      <td>291822752</td>\n",
       "      <td>14.591138</td>\n",
       "      <td>1978</td>\n",
       "      <td>6</td>\n",
       "    </tr>\n",
       "    <tr>\n",
       "      <th>4</th>\n",
       "      <td>1</td>\n",
       "      <td>1980-11-14</td>\n",
       "      <td>Raging Bull</td>\n",
       "      <td>18000000</td>\n",
       "      <td>23380203</td>\n",
       "      <td>23380203</td>\n",
       "      <td>46760406</td>\n",
       "      <td>28760406</td>\n",
       "      <td>1.597800</td>\n",
       "      <td>1980</td>\n",
       "      <td>11</td>\n",
       "    </tr>\n",
       "  </tbody>\n",
       "</table>\n",
       "</div>"
      ],
      "text/plain": [
       "   id release_date            movie  production_budget  domestic_gross  \\\n",
       "0   1   1959-07-18  The Nun's Story            3500000        12800000   \n",
       "1   1   1962-06-13           Lolita            2000000         9250000   \n",
       "2   1   1974-02-07  Blazing Saddles            2600000       119500000   \n",
       "3   1   1978-06-16           Jaws 2           20000000       102922376   \n",
       "4   1   1980-11-14      Raging Bull           18000000        23380203   \n",
       "\n",
       "   worldwide_gross    revenue     profit        roi  release_year  \\\n",
       "0         12800000   25600000   22100000   6.314286          1959   \n",
       "1          9250000   18500000   16500000   8.250000          1962   \n",
       "2        119500000  239000000  236400000  90.923077          1974   \n",
       "3        208900376  311822752  291822752  14.591138          1978   \n",
       "4         23380203   46760406   28760406   1.597800          1980   \n",
       "\n",
       "   release_month  \n",
       "0              7  \n",
       "1              6  \n",
       "2              2  \n",
       "3              6  \n",
       "4             11  "
      ]
     },
     "execution_count": 16,
     "metadata": {},
     "output_type": "execute_result"
    }
   ],
   "source": [
    "df_tmdb_mov_bud_sorted = df_tmdb_mov_bud.sort_values(\n",
    "    by=['id','release_date','production_budget', 'domestic_gross', 'worldwide_gross','release_year','release_month', 'revenue', 'profit', 'roi'],\n",
    "    ascending=True)\n",
    "df_tmdb_mov_bud_sorted.head()"
   ]
  },
  {
   "cell_type": "code",
   "execution_count": 17,
   "id": "2f72f9cd",
   "metadata": {},
   "outputs": [
    {
     "data": {
      "text/plain": [
       "425000000"
      ]
     },
     "execution_count": 17,
     "metadata": {},
     "output_type": "execute_result"
    }
   ],
   "source": [
    "df_tmdb_mov_bud['production_budget'].max()"
   ]
  },
  {
   "cell_type": "code",
   "execution_count": 18,
   "id": "41024faf",
   "metadata": {},
   "outputs": [],
   "source": [
    "#Saving df_tmdb_mov_bud_sorted as a csv file\n",
    "df_tmdb_mov_bud_sorted.to_csv('tn.movie_budgets.csv', index= False)"
   ]
  },
  {
   "cell_type": "markdown",
   "id": "e67a76db",
   "metadata": {},
   "source": [
    "### Data visualization"
   ]
  },
  {
   "cell_type": "code",
   "execution_count": 19,
   "id": "d82a938b",
   "metadata": {},
   "outputs": [],
   "source": [
    "# Create labeled budget range column\n",
    "bin_edges = [0, 10_000_000, 50_000_000, 100_000_000, 200_000_000, 300_000_000, 425_000_000]\n",
    "bin_labels = ['0–10M', '10M–50M', '50M–100M', '100M–200M', '200M–300M', '300M–425M']\n",
    "df_tmdb_mov_bud['budget_range'] = pd.cut(df_tmdb_mov_bud['production_budget'], bins=bin_edges, labels=bin_labels, include_lowest=True)"
   ]
  },
  {
   "cell_type": "code",
   "execution_count": 20,
   "id": "0bb4c9c4",
   "metadata": {},
   "outputs": [
    {
     "data": {
      "image/png": "[encoded data removed]",
      "text/plain": [
       "<Figure size 720x432 with 1 Axes>"
      ]
     },
     "metadata": {
      "needs_background": "light"
     },
     "output_type": "display_data"
    }
   ],
   "source": [
    "plt.figure(figsize=(10, 6))\n",
    "sns.barplot(data=df_tmdb_mov_bud, x='budget_range', y='roi', palette='viridis')\n",
    "\n",
    "plt.title('ROI by Production Budget Range')\n",
    "plt.xlabel('Production Budget Range')\n",
    "plt.ylabel('ROI')\n",
    "plt.xticks(rotation=0, fontsize=10)  # Keep horizontal and readable\n",
    "plt.tight_layout()\n",
    "plt.show()"
   ]
  },
  {
   "cell_type": "markdown",
   "id": "7aa0e242",
   "metadata": {},
   "source": [
    "The lower budgeted movies have the highest return on interest compared to the highest budgeted movies which have lowest return on interest."
   ]
  },
  {
   "cell_type": "markdown",
   "id": "124469db",
   "metadata": {},
   "source": [
    "### Hypothesis testing"
   ]
  },
  {
   "cell_type": "code",
   "execution_count": 21,
   "id": "4f3d691f",
   "metadata": {},
   "outputs": [
    {
     "name": "stdout",
     "output_type": "stream",
     "text": [
      "ANOVA: F = 10.263, p = 0.0000\n"
     ]
    }
   ],
   "source": [
    "# Group ROI by range\n",
    "groups = [group['roi'] for _, group in df_tmdb_mov_bud.groupby('budget_range')]\n",
    "\n",
    "# ANOVA\n",
    "f_stat, p_val = f_oneway(*groups)\n",
    "print(f\"ANOVA: F = {f_stat:.3f}, p = {p_val:.4f}\")"
   ]
  },
  {
   "cell_type": "markdown",
   "id": "fec54b3c",
   "metadata": {},
   "source": [
    "There is a statistical significance in ROI across budget ranges since p<0.05"
   ]
  },
  {
   "cell_type": "markdown",
   "id": "7e441ce3",
   "metadata": {},
   "source": [
    "## The third dataset"
   ]
  },
  {
   "cell_type": "markdown",
   "id": "9cf80ebc",
   "metadata": {},
   "source": [
    "The third dataset under investigation is 'bom.movie_gross.csv'."
   ]
  },
  {
   "cell_type": "markdown",
   "id": "f6ee556f",
   "metadata": {},
   "source": [
    "### Data loading, extraction, cleaning and analysis"
   ]
  },
  {
   "cell_type": "code",
   "execution_count": 22,
   "id": "85fd75b1",
   "metadata": {},
   "outputs": [
    {
     "data": {
      "application/vnd.microsoft.datawrangler.viewer.v0+json": {
       "columns": [
        {
         "name": "index",
         "rawType": "int64",
         "type": "integer"
        },
        {
         "name": "title",
         "rawType": "object",
         "type": "string"
        },
        {
         "name": "studio",
         "rawType": "object",
         "type": "string"
        },
        {
         "name": "domestic_gross",
         "rawType": "float64",
         "type": "float"
        },
        {
         "name": "foreign_gross",
         "rawType": "float64",
         "type": "float"
        },
        {
         "name": "year",
         "rawType": "int64",
         "type": "integer"
        },
        {
         "name": "revenue",
         "rawType": "float64",
         "type": "float"
        }
       ],
       "ref": "e97c17eb-0a9a-4a5f-aeaf-7e0a536f390a",
       "rows": [
        [
         "0",
         "Toy Story 3",
         "BV",
         "415000000.0",
         "652000000.0",
         "2010",
         "1067000000.0"
        ],
        [
         "1",
         "Alice in Wonderland (2010)",
         "BV",
         "334200000.0",
         "691300000.0",
         "2010",
         "1025500000.0"
        ],
        [
         "2",
         "Harry Potter and the Deathly Hallows Part 1",
         "WB",
         "296000000.0",
         "664300000.0",
         "2010",
         "960300000.0"
        ],
        [
         "3",
         "Inception",
         "WB",
         "292600000.0",
         "535700000.0",
         "2010",
         "828300000.0"
        ],
        [
         "4",
         "Shrek Forever After",
         "P/DW",
         "238700000.0",
         "513900000.0",
         "2010",
         "752600000.0"
        ],
        [
         "5",
         "The Twilight Saga: Eclipse",
         "Sum.",
         "300500000.0",
         "398000000.0",
         "2010",
         "698500000.0"
        ],
        [
         "6",
         "Iron Man 2",
         "Par.",
         "312400000.0",
         "311500000.0",
         "2010",
         "623900000.0"
        ],
        [
         "7",
         "Tangled",
         "BV",
         "200800000.0",
         "391000000.0",
         "2010",
         "591800000.0"
        ],
        [
         "8",
         "Despicable Me",
         "Uni.",
         "251500000.0",
         "291600000.0",
         "2010",
         "543100000.0"
        ],
        [
         "9",
         "How to Train Your Dragon",
         "P/DW",
         "217600000.0",
         "277300000.0",
         "2010",
         "494900000.0"
        ],
        [
         "10",
         "Clash of the Titans (2010)",
         "WB",
         "163200000.0",
         "330000000.0",
         "2010",
         "493200000.0"
        ],
        [
         "11",
         "The Chronicles of Narnia: The Voyage of the Dawn Treader",
         "Fox",
         "104400000.0",
         "311300000.0",
         "2010",
         "415700000.0"
        ],
        [
         "12",
         "The King's Speech",
         "Wein.",
         "135500000.0",
         "275400000.0",
         "2010",
         "410900000.0"
        ],
        [
         "13",
         "Tron Legacy",
         "BV",
         "172100000.0",
         "228000000.0",
         "2010",
         "400100000.0"
        ],
        [
         "14",
         "The Karate Kid",
         "Sony",
         "176600000.0",
         "182500000.0",
         "2010",
         "359100000.0"
        ],
        [
         "15",
         "Prince of Persia: The Sands of Time",
         "BV",
         "90800000.0",
         "245600000.0",
         "2010",
         "336400000.0"
        ],
        [
         "16",
         "Black Swan",
         "FoxS",
         "107000000.0",
         "222400000.0",
         "2010",
         "329400000.0"
        ],
        [
         "17",
         "Megamind",
         "P/DW",
         "148400000.0",
         "173500000.0",
         "2010",
         "321900000.0"
        ],
        [
         "18",
         "Robin Hood",
         "Uni.",
         "105300000.0",
         "216400000.0",
         "2010",
         "321700000.0"
        ],
        [
         "19",
         "The Last Airbender",
         "Par.",
         "131800000.0",
         "187900000.0",
         "2010",
         "319700000.0"
        ],
        [
         "20",
         "Little Fockers",
         "Uni.",
         "148400000.0",
         "162200000.0",
         "2010",
         "310600000.0"
        ],
        [
         "21",
         "Resident Evil: Afterlife",
         "SGem",
         "60100000.0",
         "240100000.0",
         "2010",
         "300200000.0"
        ],
        [
         "22",
         "Shutter Island",
         "Par.",
         "128000000.0",
         "166800000.0",
         "2010",
         "294800000.0"
        ],
        [
         "23",
         "Salt",
         "Sony",
         "118300000.0",
         "175200000.0",
         "2010",
         "293500000.0"
        ],
        [
         "24",
         "Sex and the City 2",
         "WB (NL)",
         "95300000.0",
         "193000000.0",
         "2010",
         "288300000.0"
        ],
        [
         "25",
         "The Tourist",
         "Sony",
         "67600000.0",
         "210700000.0",
         "2010",
         "278300000.0"
        ],
        [
         "26",
         "The Expendables",
         "LGF",
         "103100000.0",
         "171400000.0",
         "2010",
         "274500000.0"
        ],
        [
         "27",
         "Grown Ups",
         "Sony",
         "162000000.0",
         "109400000.0",
         "2010",
         "271400000.0"
        ],
        [
         "28",
         "Knight & Day",
         "Fox",
         "76400000.0",
         "185500000.0",
         "2010",
         "261900000.0"
        ],
        [
         "29",
         "True Grit",
         "Par.",
         "171200000.0",
         "81000000.0",
         "2010",
         "252200000.0"
        ],
        [
         "30",
         "Gulliver's Travels",
         "Fox",
         "42800000.0",
         "194600000.0",
         "2010",
         "237400000.0"
        ],
        [
         "31",
         "Percy Jackson & The Olympians: The Lightning Thief",
         "Fox",
         "88800000.0",
         "137700000.0",
         "2010",
         "226500000.0"
        ],
        [
         "32",
         "The Social Network",
         "Sony",
         "97000000.0",
         "128000000.0",
         "2010",
         "225000000.0"
        ],
        [
         "33",
         "Valentine's Day",
         "WB (NL)",
         "110500000.0",
         "106000000.0",
         "2010",
         "216500000.0"
        ],
        [
         "34",
         "The Sorcerer's Apprentice",
         "BV",
         "63200000.0",
         "152100000.0",
         "2010",
         "215300000.0"
        ],
        [
         "35",
         "Due Date",
         "WB",
         "100500000.0",
         "111200000.0",
         "2010",
         "211700000.0"
        ],
        [
         "36",
         "Eat Pray Love",
         "Sony",
         "80600000.0",
         "124000000.0",
         "2010",
         "204600000.0"
        ],
        [
         "37",
         "Yogi Bear",
         "WB",
         "100200000.0",
         "101300000.0",
         "2010",
         "201500000.0"
        ],
        [
         "38",
         "Red",
         "Sum.",
         "90400000.0",
         "108600000.0",
         "2010",
         "199000000.0"
        ],
        [
         "39",
         "Paranormal Activity 2",
         "Par.",
         "84800000.0",
         "92800000.0",
         "2010",
         "177600000.0"
        ],
        [
         "40",
         "The A-Team",
         "Fox",
         "77200000.0",
         "100000000.0",
         "2010",
         "177200000.0"
        ],
        [
         "41",
         "Jackass 3-D",
         "Par.",
         "117200000.0",
         "54500000.0",
         "2010",
         "171700000.0"
        ],
        [
         "42",
         "The Other Guys",
         "Sony",
         "119200000.0",
         "51200000.0",
         "2010",
         "170400000.0"
        ],
        [
         "43",
         "Unstoppable",
         "Fox",
         "81600000.0",
         "86200000.0",
         "2010",
         "167800000.0"
        ],
        [
         "44",
         "Step Up 3-D",
         "BV",
         "42400000.0",
         "116900000.0",
         "2010",
         "159300000.0"
        ],
        [
         "45",
         "The Book of Eli",
         "WB",
         "94800000.0",
         "62300000.0",
         "2010",
         "157100000.0"
        ],
        [
         "46",
         "The Town",
         "WB",
         "92200000.0",
         "61800000.0",
         "2010",
         "154000000.0"
        ],
        [
         "47",
         "Date Night",
         "Fox",
         "98700000.0",
         "53600000.0",
         "2010",
         "152300000.0"
        ],
        [
         "48",
         "Legend of the Guardians: The Owls of Ga'Hoole",
         "WB",
         "55700000.0",
         "84400000.0",
         "2010",
         "140100000.0"
        ],
        [
         "49",
         "The Wolfman",
         "Uni.",
         "62000000.0",
         "77800000.0",
         "2010",
         "139800000.0"
        ]
       ],
       "shape": {
        "columns": 6,
        "rows": 2007
       }
      },
      "text/html": [
       "<div>\n",
       "<style scoped>\n",
       "    .dataframe tbody tr th:only-of-type {\n",
       "        vertical-align: middle;\n",
       "    }\n",
       "\n",
       "    .dataframe tbody tr th {\n",
       "        vertical-align: top;\n",
       "    }\n",
       "\n",
       "    .dataframe thead th {\n",
       "        text-align: right;\n",
       "    }\n",
       "</style>\n",
       "<table border=\"1\" class=\"dataframe\">\n",
       "  <thead>\n",
       "    <tr style=\"text-align: right;\">\n",
       "      <th></th>\n",
       "      <th>title</th>\n",
       "      <th>studio</th>\n",
       "      <th>domestic_gross</th>\n",
       "      <th>foreign_gross</th>\n",
       "      <th>year</th>\n",
       "      <th>revenue</th>\n",
       "    </tr>\n",
       "  </thead>\n",
       "  <tbody>\n",
       "    <tr>\n",
       "      <th>0</th>\n",
       "      <td>Toy Story 3</td>\n",
       "      <td>BV</td>\n",
       "      <td>415000000.0</td>\n",
       "      <td>652000000.0</td>\n",
       "      <td>2010</td>\n",
       "      <td>1.067000e+09</td>\n",
       "    </tr>\n",
       "    <tr>\n",
       "      <th>1</th>\n",
       "      <td>Alice in Wonderland (2010)</td>\n",
       "      <td>BV</td>\n",
       "      <td>334200000.0</td>\n",
       "      <td>691300000.0</td>\n",
       "      <td>2010</td>\n",
       "      <td>1.025500e+09</td>\n",
       "    </tr>\n",
       "    <tr>\n",
       "      <th>2</th>\n",
       "      <td>Harry Potter and the Deathly Hallows Part 1</td>\n",
       "      <td>WB</td>\n",
       "      <td>296000000.0</td>\n",
       "      <td>664300000.0</td>\n",
       "      <td>2010</td>\n",
       "      <td>9.603000e+08</td>\n",
       "    </tr>\n",
       "    <tr>\n",
       "      <th>3</th>\n",
       "      <td>Inception</td>\n",
       "      <td>WB</td>\n",
       "      <td>292600000.0</td>\n",
       "      <td>535700000.0</td>\n",
       "      <td>2010</td>\n",
       "      <td>8.283000e+08</td>\n",
       "    </tr>\n",
       "    <tr>\n",
       "      <th>4</th>\n",
       "      <td>Shrek Forever After</td>\n",
       "      <td>P/DW</td>\n",
       "      <td>238700000.0</td>\n",
       "      <td>513900000.0</td>\n",
       "      <td>2010</td>\n",
       "      <td>7.526000e+08</td>\n",
       "    </tr>\n",
       "    <tr>\n",
       "      <th>...</th>\n",
       "      <td>...</td>\n",
       "      <td>...</td>\n",
       "      <td>...</td>\n",
       "      <td>...</td>\n",
       "      <td>...</td>\n",
       "      <td>...</td>\n",
       "    </tr>\n",
       "    <tr>\n",
       "      <th>2002</th>\n",
       "      <td>I Still See You</td>\n",
       "      <td>LGF</td>\n",
       "      <td>1400.0</td>\n",
       "      <td>1500000.0</td>\n",
       "      <td>2018</td>\n",
       "      <td>1.501400e+06</td>\n",
       "    </tr>\n",
       "    <tr>\n",
       "      <th>2003</th>\n",
       "      <td>The Catcher Was a Spy</td>\n",
       "      <td>IFC</td>\n",
       "      <td>725000.0</td>\n",
       "      <td>229000.0</td>\n",
       "      <td>2018</td>\n",
       "      <td>9.540000e+05</td>\n",
       "    </tr>\n",
       "    <tr>\n",
       "      <th>2004</th>\n",
       "      <td>Time Freak</td>\n",
       "      <td>Grindstone</td>\n",
       "      <td>10000.0</td>\n",
       "      <td>256000.0</td>\n",
       "      <td>2018</td>\n",
       "      <td>2.660000e+05</td>\n",
       "    </tr>\n",
       "    <tr>\n",
       "      <th>2005</th>\n",
       "      <td>Reign of Judges: Title of Liberty - Concept Short</td>\n",
       "      <td>Darin Southa</td>\n",
       "      <td>93200.0</td>\n",
       "      <td>5200.0</td>\n",
       "      <td>2018</td>\n",
       "      <td>9.840000e+04</td>\n",
       "    </tr>\n",
       "    <tr>\n",
       "      <th>2006</th>\n",
       "      <td>Antonio Lopez 1970: Sex Fashion &amp; Disco</td>\n",
       "      <td>FM</td>\n",
       "      <td>43200.0</td>\n",
       "      <td>30000.0</td>\n",
       "      <td>2018</td>\n",
       "      <td>7.320000e+04</td>\n",
       "    </tr>\n",
       "  </tbody>\n",
       "</table>\n",
       "<p>2007 rows × 6 columns</p>\n",
       "</div>"
      ],
      "text/plain": [
       "                                                  title        studio  \\\n",
       "0                                           Toy Story 3            BV   \n",
       "1                            Alice in Wonderland (2010)            BV   \n",
       "2           Harry Potter and the Deathly Hallows Part 1            WB   \n",
       "3                                             Inception            WB   \n",
       "4                                   Shrek Forever After          P/DW   \n",
       "...                                                 ...           ...   \n",
       "2002                                    I Still See You           LGF   \n",
       "2003                              The Catcher Was a Spy           IFC   \n",
       "2004                                         Time Freak    Grindstone   \n",
       "2005  Reign of Judges: Title of Liberty - Concept Short  Darin Southa   \n",
       "2006            Antonio Lopez 1970: Sex Fashion & Disco            FM   \n",
       "\n",
       "      domestic_gross  foreign_gross  year       revenue  \n",
       "0        415000000.0    652000000.0  2010  1.067000e+09  \n",
       "1        334200000.0    691300000.0  2010  1.025500e+09  \n",
       "2        296000000.0    664300000.0  2010  9.603000e+08  \n",
       "3        292600000.0    535700000.0  2010  8.283000e+08  \n",
       "4        238700000.0    513900000.0  2010  7.526000e+08  \n",
       "...              ...            ...   ...           ...  \n",
       "2002          1400.0      1500000.0  2018  1.501400e+06  \n",
       "2003        725000.0       229000.0  2018  9.540000e+05  \n",
       "2004         10000.0       256000.0  2018  2.660000e+05  \n",
       "2005         93200.0         5200.0  2018  9.840000e+04  \n",
       "2006         43200.0        30000.0  2018  7.320000e+04  \n",
       "\n",
       "[2007 rows x 6 columns]"
      ]
     },
     "execution_count": 22,
     "metadata": {},
     "output_type": "execute_result"
    }
   ],
   "source": [
    "df_tmdb_mov_gross = pd.read_csv('bom.movie_gross.csv')\n",
    "df_tmdb_mov_gross"
   ]
  },
  {
   "cell_type": "code",
   "execution_count": 23,
   "id": "739095bb",
   "metadata": {},
   "outputs": [],
   "source": [
    "cols = ['domestic_gross', 'foreign_gross']\n",
    "for col in cols:\n",
    "    # Remove non-numeric characters\n",
    "    df_tmdb_mov_gross[col] = df_tmdb_mov_gross[col].replace('[\\$,]', '', regex=True)\n",
    "    # Convert to numeric, set errors='coerce' to handle bad data\n",
    "    df_tmdb_mov_gross[col] = pd.to_numeric(df_tmdb_mov_gross[col], errors='coerce')"
   ]
  },
  {
   "cell_type": "code",
   "execution_count": 24,
   "id": "83959e5f",
   "metadata": {},
   "outputs": [],
   "source": [
    "## Remove rows where 'revenue' or 'budget' are missing or zero\n",
    "df_tmdb_mov_gross = df_tmdb_mov_gross.dropna(subset=['domestic_gross','foreign_gross'])\n",
    "df_tmdb_mov_gross = df_tmdb_mov_gross[\n",
    "    (df_tmdb_mov_gross['domestic_gross'] != 0) &\n",
    "    (df_tmdb_mov_gross['foreign_gross'] != 0)\n",
    "]"
   ]
  },
  {
   "cell_type": "code",
   "execution_count": 25,
   "id": "b3fdb61f",
   "metadata": {},
   "outputs": [],
   "source": [
    "# creating the 'revenue' column by summing 'domestic_gross' and 'foreign_gross'\n",
    "df_tmdb_mov_gross['revenue'] = df_tmdb_mov_gross['domestic_gross'] + df_tmdb_mov_gross['foreign_gross']"
   ]
  },
  {
   "cell_type": "code",
   "execution_count": 26,
   "id": "eceed3a2",
   "metadata": {},
   "outputs": [
    {
     "name": "stdout",
     "output_type": "stream",
     "text": [
      "<class 'pandas.core.frame.DataFrame'>\n",
      "Int64Index: 2007 entries, 0 to 2006\n",
      "Data columns (total 6 columns):\n",
      " #   Column          Non-Null Count  Dtype  \n",
      "---  ------          --------------  -----  \n",
      " 0   title           2007 non-null   object \n",
      " 1   studio          2007 non-null   object \n",
      " 2   domestic_gross  2007 non-null   float64\n",
      " 3   foreign_gross   2007 non-null   float64\n",
      " 4   year            2007 non-null   int64  \n",
      " 5   revenue         2007 non-null   float64\n",
      "dtypes: float64(3), int64(1), object(2)\n",
      "memory usage: 109.8+ KB\n"
     ]
    },
    {
     "data": {
      "application/vnd.microsoft.datawrangler.viewer.v0+json": {
       "columns": [
        {
         "name": "index",
         "rawType": "object",
         "type": "string"
        },
        {
         "name": "0",
         "rawType": "int64",
         "type": "integer"
        }
       ],
       "ref": "f68994e3-97b4-4a34-8694-a14dfa537f95",
       "rows": [
        [
         "title",
         "0"
        ],
        [
         "studio",
         "0"
        ],
        [
         "domestic_gross",
         "0"
        ],
        [
         "foreign_gross",
         "0"
        ],
        [
         "year",
         "0"
        ],
        [
         "revenue",
         "0"
        ]
       ],
       "shape": {
        "columns": 1,
        "rows": 6
       }
      },
      "text/plain": [
       "title             0\n",
       "studio            0\n",
       "domestic_gross    0\n",
       "foreign_gross     0\n",
       "year              0\n",
       "revenue           0\n",
       "dtype: int64"
      ]
     },
     "execution_count": 26,
     "metadata": {},
     "output_type": "execute_result"
    }
   ],
   "source": [
    "df_tmdb_mov_gross.info()\n",
    "df_tmdb_mov_gross.shape\n",
    "df_tmdb_mov_gross.duplicated().sum()\n",
    "df_tmdb_mov_gross.isnull().sum()"
   ]
  },
  {
   "cell_type": "code",
   "execution_count": 27,
   "id": "10bd0444",
   "metadata": {},
   "outputs": [],
   "source": [
    "#Dropping rows with missing 'studio' values\n",
    "df_tmdb_mov_gross = df_tmdb_mov_gross.dropna(subset=['studio'])"
   ]
  },
  {
   "cell_type": "code",
   "execution_count": 28,
   "id": "9e6d2e29",
   "metadata": {},
   "outputs": [
    {
     "data": {
      "application/vnd.microsoft.datawrangler.viewer.v0+json": {
       "columns": [
        {
         "name": "index",
         "rawType": "object",
         "type": "string"
        },
        {
         "name": "0",
         "rawType": "int64",
         "type": "integer"
        }
       ],
       "ref": "cd2a5373-9841-41bc-bcee-315b4183a54f",
       "rows": [
        [
         "title",
         "0"
        ],
        [
         "studio",
         "0"
        ],
        [
         "domestic_gross",
         "0"
        ],
        [
         "foreign_gross",
         "0"
        ],
        [
         "year",
         "0"
        ],
        [
         "revenue",
         "0"
        ]
       ],
       "shape": {
        "columns": 1,
        "rows": 6
       }
      },
      "text/plain": [
       "title             0\n",
       "studio            0\n",
       "domestic_gross    0\n",
       "foreign_gross     0\n",
       "year              0\n",
       "revenue           0\n",
       "dtype: int64"
      ]
     },
     "execution_count": 28,
     "metadata": {},
     "output_type": "execute_result"
    }
   ],
   "source": [
    "df_tmdb_mov_gross.shape\n",
    "df_tmdb_mov_gross.isnull().sum()"
   ]
  },
  {
   "cell_type": "code",
   "execution_count": 29,
   "id": "114961bc",
   "metadata": {},
   "outputs": [
    {
     "data": {
      "application/vnd.microsoft.datawrangler.viewer.v0+json": {
       "columns": [
        {
         "name": "index",
         "rawType": "int64",
         "type": "integer"
        },
        {
         "name": "title",
         "rawType": "object",
         "type": "string"
        },
        {
         "name": "studio",
         "rawType": "object",
         "type": "string"
        },
        {
         "name": "domestic_gross",
         "rawType": "float64",
         "type": "float"
        },
        {
         "name": "foreign_gross",
         "rawType": "float64",
         "type": "float"
        },
        {
         "name": "year",
         "rawType": "int64",
         "type": "integer"
        },
        {
         "name": "revenue",
         "rawType": "float64",
         "type": "float"
        }
       ],
       "ref": "6043f30c-4c65-4098-add1-3f8181400aff",
       "rows": [
        [
         "0",
         "Toy Story 3",
         "BV",
         "415000000.0",
         "652000000.0",
         "2010",
         "1067000000.0"
        ],
        [
         "1",
         "Alice in Wonderland (2010)",
         "BV",
         "334200000.0",
         "691300000.0",
         "2010",
         "1025500000.0"
        ],
        [
         "2",
         "Harry Potter and the Deathly Hallows Part 1",
         "WB",
         "296000000.0",
         "664300000.0",
         "2010",
         "960300000.0"
        ],
        [
         "3",
         "Inception",
         "WB",
         "292600000.0",
         "535700000.0",
         "2010",
         "828300000.0"
        ],
        [
         "4",
         "Shrek Forever After",
         "P/DW",
         "238700000.0",
         "513900000.0",
         "2010",
         "752600000.0"
        ]
       ],
       "shape": {
        "columns": 6,
        "rows": 5
       }
      },
      "text/html": [
       "<div>\n",
       "<style scoped>\n",
       "    .dataframe tbody tr th:only-of-type {\n",
       "        vertical-align: middle;\n",
       "    }\n",
       "\n",
       "    .dataframe tbody tr th {\n",
       "        vertical-align: top;\n",
       "    }\n",
       "\n",
       "    .dataframe thead th {\n",
       "        text-align: right;\n",
       "    }\n",
       "</style>\n",
       "<table border=\"1\" class=\"dataframe\">\n",
       "  <thead>\n",
       "    <tr style=\"text-align: right;\">\n",
       "      <th></th>\n",
       "      <th>title</th>\n",
       "      <th>studio</th>\n",
       "      <th>domestic_gross</th>\n",
       "      <th>foreign_gross</th>\n",
       "      <th>year</th>\n",
       "      <th>revenue</th>\n",
       "    </tr>\n",
       "  </thead>\n",
       "  <tbody>\n",
       "    <tr>\n",
       "      <th>0</th>\n",
       "      <td>Toy Story 3</td>\n",
       "      <td>BV</td>\n",
       "      <td>415000000.0</td>\n",
       "      <td>652000000.0</td>\n",
       "      <td>2010</td>\n",
       "      <td>1.067000e+09</td>\n",
       "    </tr>\n",
       "    <tr>\n",
       "      <th>1</th>\n",
       "      <td>Alice in Wonderland (2010)</td>\n",
       "      <td>BV</td>\n",
       "      <td>334200000.0</td>\n",
       "      <td>691300000.0</td>\n",
       "      <td>2010</td>\n",
       "      <td>1.025500e+09</td>\n",
       "    </tr>\n",
       "    <tr>\n",
       "      <th>2</th>\n",
       "      <td>Harry Potter and the Deathly Hallows Part 1</td>\n",
       "      <td>WB</td>\n",
       "      <td>296000000.0</td>\n",
       "      <td>664300000.0</td>\n",
       "      <td>2010</td>\n",
       "      <td>9.603000e+08</td>\n",
       "    </tr>\n",
       "    <tr>\n",
       "      <th>3</th>\n",
       "      <td>Inception</td>\n",
       "      <td>WB</td>\n",
       "      <td>292600000.0</td>\n",
       "      <td>535700000.0</td>\n",
       "      <td>2010</td>\n",
       "      <td>8.283000e+08</td>\n",
       "    </tr>\n",
       "    <tr>\n",
       "      <th>4</th>\n",
       "      <td>Shrek Forever After</td>\n",
       "      <td>P/DW</td>\n",
       "      <td>238700000.0</td>\n",
       "      <td>513900000.0</td>\n",
       "      <td>2010</td>\n",
       "      <td>7.526000e+08</td>\n",
       "    </tr>\n",
       "  </tbody>\n",
       "</table>\n",
       "</div>"
      ],
      "text/plain": [
       "                                         title studio  domestic_gross  \\\n",
       "0                                  Toy Story 3     BV     415000000.0   \n",
       "1                   Alice in Wonderland (2010)     BV     334200000.0   \n",
       "2  Harry Potter and the Deathly Hallows Part 1     WB     296000000.0   \n",
       "3                                    Inception     WB     292600000.0   \n",
       "4                          Shrek Forever After   P/DW     238700000.0   \n",
       "\n",
       "   foreign_gross  year       revenue  \n",
       "0    652000000.0  2010  1.067000e+09  \n",
       "1    691300000.0  2010  1.025500e+09  \n",
       "2    664300000.0  2010  9.603000e+08  \n",
       "3    535700000.0  2010  8.283000e+08  \n",
       "4    513900000.0  2010  7.526000e+08  "
      ]
     },
     "execution_count": 29,
     "metadata": {},
     "output_type": "execute_result"
    }
   ],
   "source": [
    "df_tmdb_mov_gross.head()"
   ]
  },
  {
   "cell_type": "code",
   "execution_count": 30,
   "id": "9d6afbb3",
   "metadata": {},
   "outputs": [],
   "source": [
    "df_tmdb_mov_gross.to_csv('bom.movie_gross.csv', index=False)"
   ]
  },
  {
   "cell_type": "markdown",
   "id": "ac4d88d5",
   "metadata": {},
   "source": [
    "### Data visualization"
   ]
  },
  {
   "cell_type": "code",
   "execution_count": 31,
   "id": "9b57577d",
   "metadata": {},
   "outputs": [],
   "source": [
    "#Filtering to get the top studios\n",
    "top_studios = df_tmdb_mov_gross['studio'].value_counts().head(5).index\n",
    "df_filtered = df_tmdb_mov_gross[df_tmdb_mov_gross['studio'].isin(top_studios)].dropna(subset=['revenue'])"
   ]
  },
  {
   "cell_type": "code",
   "execution_count": 32,
   "id": "4ddaf565",
   "metadata": {},
   "outputs": [
    {
     "data": {
      "image/png": "[encoded data removed]",
      "text/plain": [
       "<Figure size 720x432 with 1 Axes>"
      ]
     },
     "metadata": {
      "needs_background": "light"
     },
     "output_type": "display_data"
    }
   ],
   "source": [
    "#Plotting a barplot\n",
    "plt.figure(figsize=(10, 6))\n",
    "sns.barplot(data=df_filtered, x='studio', y='revenue', palette='coolwarm')\n",
    "plt.title('Revenue by Studio')\n",
    "plt.xlabel('Studio')\n",
    "plt.ylabel('Revenue')\n",
    "plt.xticks(rotation=30)\n",
    "plt.tight_layout()\n",
    "plt.show()"
   ]
  },
  {
   "cell_type": "markdown",
   "id": "0a6a1f57",
   "metadata": {},
   "source": [
    "The BV studio has the highest revenue while the UNI studio has the lowest revenue."
   ]
  },
  {
   "cell_type": "markdown",
   "id": "e50e6638",
   "metadata": {},
   "source": [
    "### Checking for normality"
   ]
  },
  {
   "cell_type": "code",
   "execution_count": 33,
   "id": "a87de224",
   "metadata": {},
   "outputs": [
    {
     "data": {
      "image/png": "[encoded data removed]",
      "text/plain": [
       "<Figure size 576x360 with 1 Axes>"
      ]
     },
     "metadata": {
      "needs_background": "light"
     },
     "output_type": "display_data"
    }
   ],
   "source": [
    "plt.figure(figsize=(8, 5))\n",
    "sns.histplot(df_filtered['revenue'], kde=True, bins=30)\n",
    "plt.title('Revenue Distribution')\n",
    "plt.xlabel('Revenue')\n",
    "plt.ylabel('Count')\n",
    "plt.tight_layout()\n",
    "plt.show()"
   ]
  },
  {
   "cell_type": "markdown",
   "id": "0bd4a055",
   "metadata": {},
   "source": [
    "### Hypothesis testing"
   ]
  },
  {
   "cell_type": "code",
   "execution_count": 34,
   "id": "21c21382",
   "metadata": {},
   "outputs": [
    {
     "name": "stdout",
     "output_type": "stream",
     "text": [
      "ANOVA: F = 12.439, p = 0.0000\n"
     ]
    }
   ],
   "source": [
    "# Group revenue values by studio\n",
    "groups = [group['revenue'] for _, group in df_filtered.groupby('studio')]\n",
    "\n",
    "# Perform ANOVA\n",
    "f_stat, p_val = f_oneway(*groups)\n",
    "print(f\"ANOVA: F = {f_stat:.3f}, p = {p_val:.4f}\")"
   ]
  },
  {
   "cell_type": "markdown",
   "id": "641f63b9",
   "metadata": {},
   "source": [
    "At least 1 studio has significantly different average revenue, since p<0.05"
   ]
  },
  {
   "cell_type": "markdown",
   "id": "b0193e92",
   "metadata": {},
   "source": [
    "## The fourth dataset"
   ]
  },
  {
   "cell_type": "markdown",
   "id": "f50cc195",
   "metadata": {},
   "source": [
    "The fourth dataset under investigation  is 'rt.movie_info.tsv'"
   ]
  },
  {
   "cell_type": "code",
   "execution_count": 35,
   "id": "6b269298",
   "metadata": {},
   "outputs": [
    {
     "data": {
      "application/vnd.microsoft.datawrangler.viewer.v0+json": {
       "columns": [
        {
         "name": "index",
         "rawType": "int64",
         "type": "integer"
        },
        {
         "name": "id",
         "rawType": "int64",
         "type": "integer"
        },
        {
         "name": "synopsis",
         "rawType": "object",
         "type": "string"
        },
        {
         "name": "rating",
         "rawType": "object",
         "type": "string"
        },
        {
         "name": "genre",
         "rawType": "object",
         "type": "string"
        },
        {
         "name": "director",
         "rawType": "object",
         "type": "string"
        },
        {
         "name": "writer",
         "rawType": "object",
         "type": "string"
        },
        {
         "name": "theater_date",
         "rawType": "object",
         "type": "string"
        },
        {
         "name": "dvd_date",
         "rawType": "object",
         "type": "string"
        },
        {
         "name": "currency",
         "rawType": "object",
         "type": "string"
        },
        {
         "name": "box_office",
         "rawType": "object",
         "type": "string"
        },
        {
         "name": "runtime",
         "rawType": "object",
         "type": "string"
        },
        {
         "name": "studio",
         "rawType": "object",
         "type": "string"
        }
       ],
       "ref": "3431f968-971b-4b1c-8893-679db5341eaf",
       "rows": [
        [
         "0",
         "1",
         "This gritty, fast-paced, and innovative police drama earned five Academy Awards, including Best Picture, Best Adapted Screenplay (written by Ernest Tidyman), and Best Actor (Gene Hackman). Jimmy \"Popeye\" Doyle (Hackman) and his partner, Buddy Russo (Roy Scheider), are New York City police detectives on narcotics detail, trying to track down the source of heroin from Europe into the United States. Suave Alain Charnier (Fernando Rey) is the French drug kingpin who provides a large percentage of New York City's dope, and Pierre Nicoli (Marcel Bozzuffi) is a hired killer and Charnier's right-hand man. Acting on a hunch, Popeye and Buddy start tailing Sal Boca (Tony Lo Bianco) and his wife, Angie (Arlene Faber), who live pretty high for a couple whose corner store brings in about 7,000 dollars a year. It turns out Popeye's suspicions are right -- Sal and Angie are the New York agents for Charnier, who will be smuggling 32 million dollars' worth of heroin into the city in a car shipped over from France. The French Connection broke plenty of new ground for screen thrillers; Popeye Doyle was a highly unusual \"hero,\" an often violent, racist, and mean-spirited cop whose dedication to his job fell just short of dangerous obsession. The film's high point, a high-speed car chase with Popeye tailing an elevated train, was one of the most viscerally exciting screen moments of its day and set the stage for dozens of action sequences to follow. And the film's grimy realism (and downbeat ending) was a big change from the buff-and-shine gloss and good-guys-always-win heroics of most police dramas that preceded it. The French Connection was inspired by a true story, and Eddie Egan and Sonny Grosso, Popeye and Buddy's real life counterparts, both have small roles in the film. A sequel followed four years later.",
         "R",
         "Action and Adventure|Classics|Drama",
         "William Friedkin",
         "Ernest Tidyman",
         "Oct 9, 1971",
         "Sep 25, 2001",
         null,
         null,
         "104 minutes",
         null
        ],
        [
         "1",
         "3",
         "New York City, not-too-distant-future: Eric Packer, a 28 year-old finance golden boy dreaming of living in a civilization ahead of this one, watches a dark shadow cast over the firmament of the Wall Street galaxy, of which he is the uncontested king. As he is chauffeured across midtown Manhattan to get a haircut at his father's old barber, his anxious eyes are glued to the yuan's exchange rate: it is mounting against all expectations, destroying Eric's bet against it. Eric Packer is losing his empire with every tick of the clock. Meanwhile, an eruption of wild activity unfolds in the city's streets. Petrified as the threats of the real world infringe upon his cloud of virtual convictions, his paranoia intensifies during the course of his 24-hour cross-town odyssey. Packer starts to piece together clues that lead him to a most terrifying secret: his imminent assassination. -- (C) Official Site",
         "R",
         "Drama|Science Fiction and Fantasy",
         "David Cronenberg",
         "David Cronenberg|Don DeLillo",
         "Aug 17, 2012",
         "Jan 1, 2013",
         "$",
         "600,000",
         "108 minutes",
         "Entertainment One"
        ],
        [
         "2",
         "5",
         "Illeana Douglas delivers a superb performance as Denise Waverly, a fictional singer and songwriter whose life bears more than a passing resemblance to that of real-life pop star Carole King. Edna Buxton, the daughter of a Philadelphia steel tycoon, aspires to a career as a singer, and when against her mother's bidding she sings a sultry version of \"Hey There (You With the Stars in Your Eyes)\" (instead of Mom's choice, \"You'll Never Walk Alone\") at a talent contest, she wins a recording contact and moves to New York City. She cuts a record and gains a new stage name, Denise Waverly; however, she soon finds that girl singers are a dime a dozen in the Big Apple and her career as a vocalist goes nowhere. But she has a knack for writing songs, and eccentric producer Joel Milner (John Turturro) asks her to pen some songs for his upcoming projects. Teamed with Howard Caszatt (Eric Stoltz), a hipster songwriter who wants to express his political and social ideals through pop tunes, she finds both a successful collaborator and husband. While her work with Howard gains Denise writing credits on a string of hit records and respect within the industry, their marriage falls apart, and she becomes involved with Jay Phillips (Matt Dillon), the gifted but unstable leader of a popular West Coast surf music combo. Students of pop music history will have a ball with the various characters modeled after real-life rock legends, and the 1960s-style song score includes numbers written by Joni Mitchell and J. Mascis (of the band Dinosaur Jr.), as well as one-time King collaborator Gerry Goffin; a collaboration between Elvis Costello and Burt Bacharach, \"God Give Me Strength,\" led to a full album written by the two great tunesmiths.",
         "R",
         "Drama|Musical and Performing Arts",
         "Allison Anders",
         "Allison Anders",
         "Sep 13, 1996",
         "Apr 18, 2000",
         null,
         null,
         "116 minutes",
         null
        ],
        [
         "3",
         "6",
         "Michael Douglas runs afoul of a treacherous supervisor in this film version of Michael Crichton's novel. Douglas plays Tom Sanders, an executive at DigiCom, a leading computer software firm. DigiCom is about to launch a new virtual reality-based data storage system that is expected to revolutionize the industry, and Bob Garvin (Donald Sutherland), the owner of the company, is in the midst of negotiating a merger that could bring",
         "R",
         "Drama|Mystery and Suspense",
         "Barry Levinson",
         "Paul Attanasio|Michael Crichton",
         "Dec 9, 1994",
         "Aug 27, 1997",
         null,
         null,
         "128 minutes",
         null
        ],
        [
         "4",
         "7",
         null,
         "NR",
         "Drama|Romance",
         "Rodney Bennett",
         "Giles Cooper",
         null,
         null,
         null,
         null,
         "200 minutes",
         null
        ]
       ],
       "shape": {
        "columns": 12,
        "rows": 5
       }
      },
      "text/html": [
       "<div>\n",
       "<style scoped>\n",
       "    .dataframe tbody tr th:only-of-type {\n",
       "        vertical-align: middle;\n",
       "    }\n",
       "\n",
       "    .dataframe tbody tr th {\n",
       "        vertical-align: top;\n",
       "    }\n",
       "\n",
       "    .dataframe thead th {\n",
       "        text-align: right;\n",
       "    }\n",
       "</style>\n",
       "<table border=\"1\" class=\"dataframe\">\n",
       "  <thead>\n",
       "    <tr style=\"text-align: right;\">\n",
       "      <th></th>\n",
       "      <th>id</th>\n",
       "      <th>synopsis</th>\n",
       "      <th>rating</th>\n",
       "      <th>genre</th>\n",
       "      <th>director</th>\n",
       "      <th>writer</th>\n",
       "      <th>theater_date</th>\n",
       "      <th>dvd_date</th>\n",
       "      <th>currency</th>\n",
       "      <th>box_office</th>\n",
       "      <th>runtime</th>\n",
       "      <th>studio</th>\n",
       "    </tr>\n",
       "  </thead>\n",
       "  <tbody>\n",
       "    <tr>\n",
       "      <th>0</th>\n",
       "      <td>1</td>\n",
       "      <td>This gritty, fast-paced, and innovative police...</td>\n",
       "      <td>R</td>\n",
       "      <td>Action and Adventure|Classics|Drama</td>\n",
       "      <td>William Friedkin</td>\n",
       "      <td>Ernest Tidyman</td>\n",
       "      <td>Oct 9, 1971</td>\n",
       "      <td>Sep 25, 2001</td>\n",
       "      <td>NaN</td>\n",
       "      <td>NaN</td>\n",
       "      <td>104 minutes</td>\n",
       "      <td>NaN</td>\n",
       "    </tr>\n",
       "    <tr>\n",
       "      <th>1</th>\n",
       "      <td>3</td>\n",
       "      <td>New York City, not-too-distant-future: Eric Pa...</td>\n",
       "      <td>R</td>\n",
       "      <td>Drama|Science Fiction and Fantasy</td>\n",
       "      <td>David Cronenberg</td>\n",
       "      <td>David Cronenberg|Don DeLillo</td>\n",
       "      <td>Aug 17, 2012</td>\n",
       "      <td>Jan 1, 2013</td>\n",
       "      <td>$</td>\n",
       "      <td>600,000</td>\n",
       "      <td>108 minutes</td>\n",
       "      <td>Entertainment One</td>\n",
       "    </tr>\n",
       "    <tr>\n",
       "      <th>2</th>\n",
       "      <td>5</td>\n",
       "      <td>Illeana Douglas delivers a superb performance ...</td>\n",
       "      <td>R</td>\n",
       "      <td>Drama|Musical and Performing Arts</td>\n",
       "      <td>Allison Anders</td>\n",
       "      <td>Allison Anders</td>\n",
       "      <td>Sep 13, 1996</td>\n",
       "      <td>Apr 18, 2000</td>\n",
       "      <td>NaN</td>\n",
       "      <td>NaN</td>\n",
       "      <td>116 minutes</td>\n",
       "      <td>NaN</td>\n",
       "    </tr>\n",
       "    <tr>\n",
       "      <th>3</th>\n",
       "      <td>6</td>\n",
       "      <td>Michael Douglas runs afoul of a treacherous su...</td>\n",
       "      <td>R</td>\n",
       "      <td>Drama|Mystery and Suspense</td>\n",
       "      <td>Barry Levinson</td>\n",
       "      <td>Paul Attanasio|Michael Crichton</td>\n",
       "      <td>Dec 9, 1994</td>\n",
       "      <td>Aug 27, 1997</td>\n",
       "      <td>NaN</td>\n",
       "      <td>NaN</td>\n",
       "      <td>128 minutes</td>\n",
       "      <td>NaN</td>\n",
       "    </tr>\n",
       "    <tr>\n",
       "      <th>4</th>\n",
       "      <td>7</td>\n",
       "      <td>NaN</td>\n",
       "      <td>NR</td>\n",
       "      <td>Drama|Romance</td>\n",
       "      <td>Rodney Bennett</td>\n",
       "      <td>Giles Cooper</td>\n",
       "      <td>NaN</td>\n",
       "      <td>NaN</td>\n",
       "      <td>NaN</td>\n",
       "      <td>NaN</td>\n",
       "      <td>200 minutes</td>\n",
       "      <td>NaN</td>\n",
       "    </tr>\n",
       "  </tbody>\n",
       "</table>\n",
       "</div>"
      ],
      "text/plain": [
       "   id                                           synopsis rating  \\\n",
       "0   1  This gritty, fast-paced, and innovative police...      R   \n",
       "1   3  New York City, not-too-distant-future: Eric Pa...      R   \n",
       "2   5  Illeana Douglas delivers a superb performance ...      R   \n",
       "3   6  Michael Douglas runs afoul of a treacherous su...      R   \n",
       "4   7                                                NaN     NR   \n",
       "\n",
       "                                 genre          director  \\\n",
       "0  Action and Adventure|Classics|Drama  William Friedkin   \n",
       "1    Drama|Science Fiction and Fantasy  David Cronenberg   \n",
       "2    Drama|Musical and Performing Arts    Allison Anders   \n",
       "3           Drama|Mystery and Suspense    Barry Levinson   \n",
       "4                        Drama|Romance    Rodney Bennett   \n",
       "\n",
       "                            writer  theater_date      dvd_date currency  \\\n",
       "0                   Ernest Tidyman   Oct 9, 1971  Sep 25, 2001      NaN   \n",
       "1     David Cronenberg|Don DeLillo  Aug 17, 2012   Jan 1, 2013        $   \n",
       "2                   Allison Anders  Sep 13, 1996  Apr 18, 2000      NaN   \n",
       "3  Paul Attanasio|Michael Crichton   Dec 9, 1994  Aug 27, 1997      NaN   \n",
       "4                     Giles Cooper           NaN           NaN      NaN   \n",
       "\n",
       "  box_office      runtime             studio  \n",
       "0        NaN  104 minutes                NaN  \n",
       "1    600,000  108 minutes  Entertainment One  \n",
       "2        NaN  116 minutes                NaN  \n",
       "3        NaN  128 minutes                NaN  \n",
       "4        NaN  200 minutes                NaN  "
      ]
     },
     "execution_count": 35,
     "metadata": {},
     "output_type": "execute_result"
    }
   ],
   "source": [
    "# Load the data \n",
    "df_rt_mov = pd.read_csv('rt.movie_info.tsv', sep='\\t')\n",
    "df_rt_mov.head()"
   ]
  },
  {
   "cell_type": "code",
   "execution_count": 36,
   "id": "59c3effe",
   "metadata": {},
   "outputs": [],
   "source": [
    "# Remove missing or malformed data\n",
    "df_rt_mov = df_rt_mov.dropna(subset=['box_office'])\n",
    "\n",
    "# Convert box_office to numeric (remove $, commas)\n",
    "df_rt_mov['box_office'] = df_rt_mov['box_office'].replace('[\\$,]', '', regex=True).astype(float)"
   ]
  },
  {
   "cell_type": "code",
   "execution_count": 37,
   "id": "d766a9b9",
   "metadata": {},
   "outputs": [],
   "source": [
    "# Handle multiple genres per movie\n",
    "df_rt_mov['genre'] = df_rt_mov['genre'].str.split(', ')\n",
    "df_rt_mov_exploded =df_rt_mov.explode('genre')"
   ]
  },
  {
   "cell_type": "code",
   "execution_count": 38,
   "id": "f287b344",
   "metadata": {},
   "outputs": [],
   "source": [
    "df_rt_mov['genre_tuple'] = df_rt_mov['genre'].apply(lambda x: tuple(x) if isinstance(x, list) else x)\n",
    "df_rt_mov.drop_duplicates(subset=['genre_tuple'], inplace=True)"
   ]
  },
  {
   "cell_type": "code",
   "execution_count": 39,
   "id": "b869c9bc",
   "metadata": {},
   "outputs": [],
   "source": [
    "df_rt_mov_exploded = df_rt_mov.explode('genre')\n"
   ]
  },
  {
   "cell_type": "code",
   "execution_count": 40,
   "id": "0b90a936",
   "metadata": {},
   "outputs": [
    {
     "name": "stdout",
     "output_type": "stream",
     "text": [
      "<class 'pandas.core.frame.DataFrame'>\n",
      "Int64Index: 100 entries, 1 to 1518\n",
      "Data columns (total 13 columns):\n",
      " #   Column        Non-Null Count  Dtype  \n",
      "---  ------        --------------  -----  \n",
      " 0   id            100 non-null    int64  \n",
      " 1   synopsis      100 non-null    object \n",
      " 2   rating        100 non-null    object \n",
      " 3   genre         100 non-null    object \n",
      " 4   director      88 non-null     object \n",
      " 5   writer        73 non-null     object \n",
      " 6   theater_date  98 non-null     object \n",
      " 7   dvd_date      98 non-null     object \n",
      " 8   currency      100 non-null    object \n",
      " 9   box_office    100 non-null    float64\n",
      " 10  runtime       100 non-null    object \n",
      " 11  studio        89 non-null     object \n",
      " 12  genre_tuple   100 non-null    object \n",
      "dtypes: float64(1), int64(1), object(11)\n",
      "memory usage: 10.9+ KB\n"
     ]
    },
    {
     "data": {
      "application/vnd.microsoft.datawrangler.viewer.v0+json": {
       "columns": [
        {
         "name": "index",
         "rawType": "object",
         "type": "string"
        },
        {
         "name": "0",
         "rawType": "int64",
         "type": "integer"
        }
       ],
       "ref": "761b135b-2ab4-4847-8a68-f0a5363a87fb",
       "rows": [
        [
         "id",
         "0"
        ],
        [
         "synopsis",
         "0"
        ],
        [
         "rating",
         "0"
        ],
        [
         "genre",
         "0"
        ],
        [
         "director",
         "12"
        ],
        [
         "writer",
         "27"
        ],
        [
         "theater_date",
         "2"
        ],
        [
         "dvd_date",
         "2"
        ],
        [
         "currency",
         "0"
        ],
        [
         "box_office",
         "0"
        ],
        [
         "runtime",
         "0"
        ],
        [
         "studio",
         "11"
        ],
        [
         "genre_tuple",
         "0"
        ]
       ],
       "shape": {
        "columns": 1,
        "rows": 13
       }
      },
      "text/plain": [
       "id               0\n",
       "synopsis         0\n",
       "rating           0\n",
       "genre            0\n",
       "director        12\n",
       "writer          27\n",
       "theater_date     2\n",
       "dvd_date         2\n",
       "currency         0\n",
       "box_office       0\n",
       "runtime          0\n",
       "studio          11\n",
       "genre_tuple      0\n",
       "dtype: int64"
      ]
     },
     "execution_count": 40,
     "metadata": {},
     "output_type": "execute_result"
    }
   ],
   "source": [
    "df_rt_mov.info()\n",
    "df_rt_mov.shape\n",
    "df_rt_mov.isnull().sum()"
   ]
  },
  {
   "cell_type": "code",
   "execution_count": 41,
   "id": "591c3bf0",
   "metadata": {},
   "outputs": [],
   "source": [
    "df_rt_mov = df_rt_mov.dropna(subset=['director', 'studio', 'theater_date', 'dvd_date', 'writer'])"
   ]
  },
  {
   "cell_type": "code",
   "execution_count": 42,
   "id": "ef63cb72",
   "metadata": {},
   "outputs": [
    {
     "name": "stdout",
     "output_type": "stream",
     "text": [
      "<class 'pandas.core.frame.DataFrame'>\n",
      "Int64Index: 65 entries, 1 to 1518\n",
      "Data columns (total 13 columns):\n",
      " #   Column        Non-Null Count  Dtype  \n",
      "---  ------        --------------  -----  \n",
      " 0   id            65 non-null     int64  \n",
      " 1   synopsis      65 non-null     object \n",
      " 2   rating        65 non-null     object \n",
      " 3   genre         65 non-null     object \n",
      " 4   director      65 non-null     object \n",
      " 5   writer        65 non-null     object \n",
      " 6   theater_date  65 non-null     object \n",
      " 7   dvd_date      65 non-null     object \n",
      " 8   currency      65 non-null     object \n",
      " 9   box_office    65 non-null     float64\n",
      " 10  runtime       65 non-null     object \n",
      " 11  studio        65 non-null     object \n",
      " 12  genre_tuple   65 non-null     object \n",
      "dtypes: float64(1), int64(1), object(11)\n",
      "memory usage: 7.1+ KB\n"
     ]
    }
   ],
   "source": [
    "df_rt_mov.isnull().sum()\n",
    "df_rt_mov.info()"
   ]
  },
  {
   "cell_type": "code",
   "execution_count": 43,
   "id": "f39376a5",
   "metadata": {},
   "outputs": [],
   "source": [
    "df_rt_mov['runtime'] = df_rt_mov['runtime'].str.extract(r'(\\d+)').astype(int)"
   ]
  },
  {
   "cell_type": "markdown",
   "id": "bce2791f",
   "metadata": {},
   "source": [
    "### Data visualization"
   ]
  },
  {
   "cell_type": "code",
   "execution_count": 44,
   "id": "813607c8",
   "metadata": {},
   "outputs": [
    {
     "data": {
      "image/png": "[encoded data removed]",
      "text/plain": [
       "<Figure size 432x288 with 1 Axes>"
      ]
     },
     "metadata": {
      "needs_background": "light"
     },
     "output_type": "display_data"
    }
   ],
   "source": [
    "#Plotting a bar plot\n",
    "sns.barplot(x='rating', y='runtime', data=df_rt_mov)\n",
    "plt.title('Runtime Distribution by Rating')\n",
    "plt.xlabel('Rating')\n",
    "plt.ylabel('Runtime (minutes)')\n",
    "plt.show()"
   ]
  },
  {
   "cell_type": "markdown",
   "id": "34a2c9d8",
   "metadata": {},
   "source": [
    "~ NR- No Rating\n",
    "~ G- General audiences\n",
    "PG- Parental Guidance\n",
    "PG-13 - Parents strongly cautioned (some material inappropriate for under 13)\n",
    "R- Restricted (18+)"
   ]
  },
  {
   "cell_type": "markdown",
   "id": "8dd2b1da",
   "metadata": {},
   "source": [
    "### Checking for normality"
   ]
  },
  {
   "cell_type": "code",
   "execution_count": 45,
   "id": "37af594a",
   "metadata": {},
   "outputs": [
    {
     "data": {
      "image/png": "[encoded data removed]",
      "text/plain": [
       "<Figure size 576x360 with 1 Axes>"
      ]
     },
     "metadata": {
      "needs_background": "light"
     },
     "output_type": "display_data"
    }
   ],
   "source": [
    "from scipy import stats\n",
    "plt.figure(figsize=(8,5))\n",
    "sns.histplot(df_rt_mov['runtime'], kde=True, stat=\"density\", bins=30)\n",
    "mu, std = df_rt_mov['runtime'].mean(), df_rt_mov['runtime'].std()\n",
    "xmin, xmax = plt.xlim()\n",
    "x = np.linspace(xmin, xmax, 100)\n",
    "p = stats.norm.pdf(x, mu, std)\n",
    "plt.plot(x, p, 'r', linewidth=2)\n",
    "plt.title('Runtime Distribution with Normal Curve')\n",
    "plt.xlabel('Runtime (minutes)')\n",
    "plt.show()"
   ]
  },
  {
   "cell_type": "markdown",
   "id": "b76eb002",
   "metadata": {},
   "source": [
    "### Hypothesis testing"
   ]
  },
  {
   "cell_type": "code",
   "execution_count": 46,
   "id": "68cf50ee",
   "metadata": {},
   "outputs": [
    {
     "name": "stdout",
     "output_type": "stream",
     "text": [
      "ANOVA: F = 1.102, p = 0.3641\n"
     ]
    }
   ],
   "source": [
    "# Group revenue values by studio\n",
    "groups = [group['runtime'] for _, group in df_rt_mov.groupby('rating')]\n",
    "\n",
    "# Perform ANOVA\n",
    "f_stat, p_val = f_oneway(*groups)\n",
    "print(f\"ANOVA: F = {f_stat:.3f}, p = {p_val:.4f}\")"
   ]
  },
  {
   "cell_type": "markdown",
   "id": "166e5cae",
   "metadata": {},
   "source": [
    "Since p>0.05, we fail to reject the null hyppothesis, the medians are equal\n",
    "We lack enough statistical evidence that the medians differe across the different runtimes."
   ]
  },
  {
   "cell_type": "code",
   "execution_count": 47,
   "id": "7c9e0a16",
   "metadata": {},
   "outputs": [],
   "source": [
    "#Saving to csv\n",
    "df_rt_mov.to_csv('rt_mov_sorted.csv', index=False)"
   ]
  },
  {
   "cell_type": "markdown",
   "id": "af880790",
   "metadata": {},
   "source": []
  },
  {
   "cell_type": "markdown",
   "id": "ea8de6da",
   "metadata": {},
   "source": [
    "## The fifth dataset"
   ]
  },
  {
   "cell_type": "markdown",
   "id": "c9f0b0e8",
   "metadata": {},
   "source": [
    "The fifth dataset under investigation is the 'rt.reviews.tsv'."
   ]
  },
  {
   "cell_type": "markdown",
   "id": "fffdde35",
   "metadata": {},
   "source": [
    "### Data loading, extraction, cleaning and analysis"
   ]
  },
  {
   "cell_type": "code",
   "execution_count": 48,
   "id": "ad5efda5",
   "metadata": {},
   "outputs": [
    {
     "data": {
      "application/vnd.microsoft.datawrangler.viewer.v0+json": {
       "columns": [
        {
         "name": "index",
         "rawType": "int64",
         "type": "integer"
        },
        {
         "name": "id",
         "rawType": "int64",
         "type": "integer"
        },
        {
         "name": "review",
         "rawType": "object",
         "type": "string"
        },
        {
         "name": "rating",
         "rawType": "object",
         "type": "string"
        },
        {
         "name": "fresh",
         "rawType": "object",
         "type": "string"
        },
        {
         "name": "critic",
         "rawType": "object",
         "type": "string"
        },
        {
         "name": "top_critic",
         "rawType": "int64",
         "type": "integer"
        },
        {
         "name": "publisher",
         "rawType": "object",
         "type": "string"
        },
        {
         "name": "date",
         "rawType": "object",
         "type": "string"
        }
       ],
       "ref": "dff47085-e67a-4010-be0a-17c36ae57193",
       "rows": [
        [
         "0",
         "3",
         "A distinctly gallows take on contemporary financial mores, as one absurdly rich man's limo ride across town for a haircut functions as a state-of-the-nation discourse. ",
         "3/5",
         "fresh",
         "PJ Nabarro",
         "0",
         "Patrick Nabarro",
         "November 10, 2018"
        ],
        [
         "1",
         "3",
         "It's an allegory in search of a meaning that never arrives...It's just old-fashioned bad storytelling.",
         null,
         "rotten",
         "Annalee Newitz",
         "0",
         "io9.com",
         "May 23, 2018"
        ],
        [
         "2",
         "3",
         "... life lived in a bubble in financial dealings and digital communications and brief face-to-face conversations and sexual intermissions in a space shuttle of a limousine creeping through the gridlock of an anonymous New York City.",
         null,
         "fresh",
         "Sean Axmaker",
         "0",
         "Stream on Demand",
         "January 4, 2018"
        ],
        [
         "3",
         "3",
         "Continuing along a line introduced in last year's \"A Dangerous Method\", David Cronenberg pushes his cinema towards a talky abstraction in his uncanny, perversely funny and frighteningly insular adaptation of Don DeLillo, \"Cosmopolis\".",
         null,
         "fresh",
         "Daniel Kasman",
         "0",
         "MUBI",
         "November 16, 2017"
        ],
        [
         "4",
         "3",
         "... a perverse twist on neorealism... ",
         null,
         "fresh",
         null,
         "0",
         "Cinema Scope",
         "October 12, 2017"
        ]
       ],
       "shape": {
        "columns": 8,
        "rows": 5
       }
      },
      "text/html": [
       "<div>\n",
       "<style scoped>\n",
       "    .dataframe tbody tr th:only-of-type {\n",
       "        vertical-align: middle;\n",
       "    }\n",
       "\n",
       "    .dataframe tbody tr th {\n",
       "        vertical-align: top;\n",
       "    }\n",
       "\n",
       "    .dataframe thead th {\n",
       "        text-align: right;\n",
       "    }\n",
       "</style>\n",
       "<table border=\"1\" class=\"dataframe\">\n",
       "  <thead>\n",
       "    <tr style=\"text-align: right;\">\n",
       "      <th></th>\n",
       "      <th>id</th>\n",
       "      <th>review</th>\n",
       "      <th>rating</th>\n",
       "      <th>fresh</th>\n",
       "      <th>critic</th>\n",
       "      <th>top_critic</th>\n",
       "      <th>publisher</th>\n",
       "      <th>date</th>\n",
       "    </tr>\n",
       "  </thead>\n",
       "  <tbody>\n",
       "    <tr>\n",
       "      <th>0</th>\n",
       "      <td>3</td>\n",
       "      <td>A distinctly gallows take on contemporary fina...</td>\n",
       "      <td>3/5</td>\n",
       "      <td>fresh</td>\n",
       "      <td>PJ Nabarro</td>\n",
       "      <td>0</td>\n",
       "      <td>Patrick Nabarro</td>\n",
       "      <td>November 10, 2018</td>\n",
       "    </tr>\n",
       "    <tr>\n",
       "      <th>1</th>\n",
       "      <td>3</td>\n",
       "      <td>It's an allegory in search of a meaning that n...</td>\n",
       "      <td>NaN</td>\n",
       "      <td>rotten</td>\n",
       "      <td>Annalee Newitz</td>\n",
       "      <td>0</td>\n",
       "      <td>io9.com</td>\n",
       "      <td>May 23, 2018</td>\n",
       "    </tr>\n",
       "    <tr>\n",
       "      <th>2</th>\n",
       "      <td>3</td>\n",
       "      <td>... life lived in a bubble in financial dealin...</td>\n",
       "      <td>NaN</td>\n",
       "      <td>fresh</td>\n",
       "      <td>Sean Axmaker</td>\n",
       "      <td>0</td>\n",
       "      <td>Stream on Demand</td>\n",
       "      <td>January 4, 2018</td>\n",
       "    </tr>\n",
       "    <tr>\n",
       "      <th>3</th>\n",
       "      <td>3</td>\n",
       "      <td>Continuing along a line introduced in last yea...</td>\n",
       "      <td>NaN</td>\n",
       "      <td>fresh</td>\n",
       "      <td>Daniel Kasman</td>\n",
       "      <td>0</td>\n",
       "      <td>MUBI</td>\n",
       "      <td>November 16, 2017</td>\n",
       "    </tr>\n",
       "    <tr>\n",
       "      <th>4</th>\n",
       "      <td>3</td>\n",
       "      <td>... a perverse twist on neorealism...</td>\n",
       "      <td>NaN</td>\n",
       "      <td>fresh</td>\n",
       "      <td>NaN</td>\n",
       "      <td>0</td>\n",
       "      <td>Cinema Scope</td>\n",
       "      <td>October 12, 2017</td>\n",
       "    </tr>\n",
       "  </tbody>\n",
       "</table>\n",
       "</div>"
      ],
      "text/plain": [
       "   id                                             review rating   fresh  \\\n",
       "0   3  A distinctly gallows take on contemporary fina...    3/5   fresh   \n",
       "1   3  It's an allegory in search of a meaning that n...    NaN  rotten   \n",
       "2   3  ... life lived in a bubble in financial dealin...    NaN   fresh   \n",
       "3   3  Continuing along a line introduced in last yea...    NaN   fresh   \n",
       "4   3             ... a perverse twist on neorealism...     NaN   fresh   \n",
       "\n",
       "           critic  top_critic         publisher               date  \n",
       "0      PJ Nabarro           0   Patrick Nabarro  November 10, 2018  \n",
       "1  Annalee Newitz           0           io9.com       May 23, 2018  \n",
       "2    Sean Axmaker           0  Stream on Demand    January 4, 2018  \n",
       "3   Daniel Kasman           0              MUBI  November 16, 2017  \n",
       "4             NaN           0      Cinema Scope   October 12, 2017  "
      ]
     },
     "execution_count": 48,
     "metadata": {},
     "output_type": "execute_result"
    }
   ],
   "source": [
    "df_reviews = pd.read_csv('rt.reviews.tsv', sep='\\t', encoding='latin1')\n",
    "df_reviews.head()\n",
    "\n",
    "# encoding= 'latin1' is used to clear the utf-8 error"
   ]
  },
  {
   "cell_type": "code",
   "execution_count": 49,
   "id": "c4772800",
   "metadata": {},
   "outputs": [],
   "source": [
    "# Remove rows with missing or malformed data\n",
    "df_reviews = df_reviews.dropna(subset=['review', 'rating', 'critic', 'publisher'])"
   ]
  },
  {
   "cell_type": "code",
   "execution_count": 50,
   "id": "663f5a25",
   "metadata": {},
   "outputs": [
    {
     "name": "stdout",
     "output_type": "stream",
     "text": [
      "<class 'pandas.core.frame.DataFrame'>\n",
      "Int64Index: 33988 entries, 0 to 54424\n",
      "Data columns (total 8 columns):\n",
      " #   Column      Non-Null Count  Dtype \n",
      "---  ------      --------------  ----- \n",
      " 0   id          33988 non-null  int64 \n",
      " 1   review      33988 non-null  object\n",
      " 2   rating      33988 non-null  object\n",
      " 3   fresh       33988 non-null  object\n",
      " 4   critic      33988 non-null  object\n",
      " 5   top_critic  33988 non-null  int64 \n",
      " 6   publisher   33988 non-null  object\n",
      " 7   date        33988 non-null  object\n",
      "dtypes: int64(2), object(6)\n",
      "memory usage: 2.3+ MB\n"
     ]
    },
    {
     "data": {
      "application/vnd.microsoft.datawrangler.viewer.v0+json": {
       "columns": [
        {
         "name": "index",
         "rawType": "object",
         "type": "string"
        },
        {
         "name": "0",
         "rawType": "int64",
         "type": "integer"
        }
       ],
       "ref": "cfeec527-48d5-451a-a3f4-e561d024e67e",
       "rows": [
        [
         "id",
         "0"
        ],
        [
         "review",
         "0"
        ],
        [
         "rating",
         "0"
        ],
        [
         "fresh",
         "0"
        ],
        [
         "critic",
         "0"
        ],
        [
         "top_critic",
         "0"
        ],
        [
         "publisher",
         "0"
        ],
        [
         "date",
         "0"
        ]
       ],
       "shape": {
        "columns": 1,
        "rows": 8
       }
      },
      "text/plain": [
       "id            0\n",
       "review        0\n",
       "rating        0\n",
       "fresh         0\n",
       "critic        0\n",
       "top_critic    0\n",
       "publisher     0\n",
       "date          0\n",
       "dtype: int64"
      ]
     },
     "execution_count": 50,
     "metadata": {},
     "output_type": "execute_result"
    }
   ],
   "source": [
    "df_reviews.info()\n",
    "df_reviews.shape\n",
    "df_reviews.duplicated().sum()\n",
    "df_reviews.isnull().sum()"
   ]
  },
  {
   "cell_type": "code",
   "execution_count": 51,
   "id": "7b498a50",
   "metadata": {},
   "outputs": [],
   "source": [
    "import numpy as np\n",
    "\n",
    "def parse_rating(val):\n",
    "    if pd.isna(val):\n",
    "        return np.nan\n",
    "    if isinstance(val, str) and '/' in val:\n",
    "        try:\n",
    "            num, denom = val.split('/')\n",
    "            return float(num) / float(denom) * 5  # scale to 5 if needed\n",
    "        except:\n",
    "            return np.nan\n",
    "    try:\n",
    "        return float(val)\n",
    "    except:\n",
    "        return np.nan\n",
    "\n",
    "df_reviews['rating'] = df_reviews['rating'].apply(parse_rating).astype('float')"
   ]
  },
  {
   "cell_type": "code",
   "execution_count": 52,
   "id": "05c1e737",
   "metadata": {},
   "outputs": [],
   "source": [
    "# convert 'date' to datetime\n",
    "df_reviews['date'] = pd.to_datetime(df_reviews['date'], errors='coerce')\n",
    "# Extract year and month into new columns\n",
    "df_reviews['year'] = df_reviews['date'].dt.year\n",
    "df_reviews['month'] = df_reviews['date'].dt.month"
   ]
  },
  {
   "cell_type": "code",
   "execution_count": 53,
   "id": "ef90113d",
   "metadata": {},
   "outputs": [],
   "source": [
    "df_reviews = df_reviews.dropna()"
   ]
  },
  {
   "cell_type": "code",
   "execution_count": 54,
   "id": "67261504",
   "metadata": {},
   "outputs": [
    {
     "data": {
      "application/vnd.microsoft.datawrangler.viewer.v0+json": {
       "columns": [
        {
         "name": "index",
         "rawType": "int64",
         "type": "integer"
        },
        {
         "name": "id",
         "rawType": "int64",
         "type": "integer"
        },
        {
         "name": "review",
         "rawType": "object",
         "type": "string"
        },
        {
         "name": "rating",
         "rawType": "float64",
         "type": "float"
        },
        {
         "name": "fresh",
         "rawType": "object",
         "type": "string"
        },
        {
         "name": "critic",
         "rawType": "object",
         "type": "string"
        },
        {
         "name": "top_critic",
         "rawType": "int64",
         "type": "integer"
        },
        {
         "name": "publisher",
         "rawType": "object",
         "type": "string"
        },
        {
         "name": "date",
         "rawType": "datetime64[ns]",
         "type": "datetime"
        },
        {
         "name": "year",
         "rawType": "int64",
         "type": "integer"
        },
        {
         "name": "month",
         "rawType": "int64",
         "type": "integer"
        }
       ],
       "ref": "1738aa19-4cd9-4c0d-8e54-6cf564e074fa",
       "rows": [
        [
         "0",
         "3",
         "A distinctly gallows take on contemporary financial mores, as one absurdly rich man's limo ride across town for a haircut functions as a state-of-the-nation discourse. ",
         "3.0",
         "fresh",
         "PJ Nabarro",
         "0",
         "Patrick Nabarro",
         "2018-11-10 00:00:00",
         "2018",
         "11"
        ],
        [
         "7",
         "3",
         "Cronenberg is not a director to be daunted by a scenario in which the antihero spends most of his time in a stretch limo. Turning it into a film that interests anyone ... is another matter",
         "2.0",
         "rotten",
         "Matt Kelemen",
         "0",
         "Las Vegas CityLife",
         "2013-04-21 00:00:00",
         "2013",
         "4"
        ],
        [
         "12",
         "3",
         "Robert Pattinson works mighty hard to make Cosmopolis more than just an erudite slap at modern capitalism. The Twilight heartthrob ultimately fails to rescue a meandering story hitting stale versions of the same talking points.",
         "2.5",
         "rotten",
         "Christian Toto",
         "0",
         "Big Hollywood",
         "2013-01-15 00:00:00",
         "2013",
         "1"
        ],
        [
         "14",
         "3",
         "For those who like their Cronenberg thick and chewy",
         "3.75",
         "fresh",
         "Marty Mapes",
         "0",
         "Movie Habit",
         "2012-10-20 00:00:00",
         "2012",
         "10"
        ],
        [
         "15",
         "3",
         "For better or worse - often both - Cosmopolis is a quintessential David Cronenberg film. Cosmopolis is simultaneously fascinating and impenetrable, profound and absurd, labyrinthine yet intimate.",
         "3.0",
         "fresh",
         "Adam Ross",
         "0",
         "The Aristocrat",
         "2012-09-27 00:00:00",
         "2012",
         "9"
        ]
       ],
       "shape": {
        "columns": 10,
        "rows": 5
       }
      },
      "text/html": [
       "<div>\n",
       "<style scoped>\n",
       "    .dataframe tbody tr th:only-of-type {\n",
       "        vertical-align: middle;\n",
       "    }\n",
       "\n",
       "    .dataframe tbody tr th {\n",
       "        vertical-align: top;\n",
       "    }\n",
       "\n",
       "    .dataframe thead th {\n",
       "        text-align: right;\n",
       "    }\n",
       "</style>\n",
       "<table border=\"1\" class=\"dataframe\">\n",
       "  <thead>\n",
       "    <tr style=\"text-align: right;\">\n",
       "      <th></th>\n",
       "      <th>id</th>\n",
       "      <th>review</th>\n",
       "      <th>rating</th>\n",
       "      <th>fresh</th>\n",
       "      <th>critic</th>\n",
       "      <th>top_critic</th>\n",
       "      <th>publisher</th>\n",
       "      <th>date</th>\n",
       "      <th>year</th>\n",
       "      <th>month</th>\n",
       "    </tr>\n",
       "  </thead>\n",
       "  <tbody>\n",
       "    <tr>\n",
       "      <th>0</th>\n",
       "      <td>3</td>\n",
       "      <td>A distinctly gallows take on contemporary fina...</td>\n",
       "      <td>3.00</td>\n",
       "      <td>fresh</td>\n",
       "      <td>PJ Nabarro</td>\n",
       "      <td>0</td>\n",
       "      <td>Patrick Nabarro</td>\n",
       "      <td>2018-11-10</td>\n",
       "      <td>2018</td>\n",
       "      <td>11</td>\n",
       "    </tr>\n",
       "    <tr>\n",
       "      <th>7</th>\n",
       "      <td>3</td>\n",
       "      <td>Cronenberg is not a director to be daunted by ...</td>\n",
       "      <td>2.00</td>\n",
       "      <td>rotten</td>\n",
       "      <td>Matt Kelemen</td>\n",
       "      <td>0</td>\n",
       "      <td>Las Vegas CityLife</td>\n",
       "      <td>2013-04-21</td>\n",
       "      <td>2013</td>\n",
       "      <td>4</td>\n",
       "    </tr>\n",
       "    <tr>\n",
       "      <th>12</th>\n",
       "      <td>3</td>\n",
       "      <td>Robert Pattinson works mighty hard to make Cos...</td>\n",
       "      <td>2.50</td>\n",
       "      <td>rotten</td>\n",
       "      <td>Christian Toto</td>\n",
       "      <td>0</td>\n",
       "      <td>Big Hollywood</td>\n",
       "      <td>2013-01-15</td>\n",
       "      <td>2013</td>\n",
       "      <td>1</td>\n",
       "    </tr>\n",
       "    <tr>\n",
       "      <th>14</th>\n",
       "      <td>3</td>\n",
       "      <td>For those who like their Cronenberg thick and ...</td>\n",
       "      <td>3.75</td>\n",
       "      <td>fresh</td>\n",
       "      <td>Marty Mapes</td>\n",
       "      <td>0</td>\n",
       "      <td>Movie Habit</td>\n",
       "      <td>2012-10-20</td>\n",
       "      <td>2012</td>\n",
       "      <td>10</td>\n",
       "    </tr>\n",
       "    <tr>\n",
       "      <th>15</th>\n",
       "      <td>3</td>\n",
       "      <td>For better or worse - often both - Cosmopolis ...</td>\n",
       "      <td>3.00</td>\n",
       "      <td>fresh</td>\n",
       "      <td>Adam Ross</td>\n",
       "      <td>0</td>\n",
       "      <td>The Aristocrat</td>\n",
       "      <td>2012-09-27</td>\n",
       "      <td>2012</td>\n",
       "      <td>9</td>\n",
       "    </tr>\n",
       "  </tbody>\n",
       "</table>\n",
       "</div>"
      ],
      "text/plain": [
       "    id                                             review  rating   fresh  \\\n",
       "0    3  A distinctly gallows take on contemporary fina...    3.00   fresh   \n",
       "7    3  Cronenberg is not a director to be daunted by ...    2.00  rotten   \n",
       "12   3  Robert Pattinson works mighty hard to make Cos...    2.50  rotten   \n",
       "14   3  For those who like their Cronenberg thick and ...    3.75   fresh   \n",
       "15   3  For better or worse - often both - Cosmopolis ...    3.00   fresh   \n",
       "\n",
       "            critic  top_critic           publisher       date  year  month  \n",
       "0       PJ Nabarro           0     Patrick Nabarro 2018-11-10  2018     11  \n",
       "7     Matt Kelemen           0  Las Vegas CityLife 2013-04-21  2013      4  \n",
       "12  Christian Toto           0       Big Hollywood 2013-01-15  2013      1  \n",
       "14     Marty Mapes           0         Movie Habit 2012-10-20  2012     10  \n",
       "15       Adam Ross           0      The Aristocrat 2012-09-27  2012      9  "
      ]
     },
     "execution_count": 54,
     "metadata": {},
     "output_type": "execute_result"
    }
   ],
   "source": [
    "df_reviews.head()"
   ]
  },
  {
   "cell_type": "code",
   "execution_count": 55,
   "id": "6c38608a",
   "metadata": {},
   "outputs": [
    {
     "name": "stdout",
     "output_type": "stream",
     "text": [
      "<class 'pandas.core.frame.DataFrame'>\n",
      "Int64Index: 28226 entries, 0 to 54424\n",
      "Data columns (total 10 columns):\n",
      " #   Column      Non-Null Count  Dtype         \n",
      "---  ------      --------------  -----         \n",
      " 0   id          28226 non-null  int64         \n",
      " 1   review      28226 non-null  object        \n",
      " 2   rating      28226 non-null  float64       \n",
      " 3   fresh       28226 non-null  object        \n",
      " 4   critic      28226 non-null  object        \n",
      " 5   top_critic  28226 non-null  int64         \n",
      " 6   publisher   28226 non-null  object        \n",
      " 7   date        28226 non-null  datetime64[ns]\n",
      " 8   year        28226 non-null  int64         \n",
      " 9   month       28226 non-null  int64         \n",
      "dtypes: datetime64[ns](1), float64(1), int64(4), object(4)\n",
      "memory usage: 2.4+ MB\n"
     ]
    }
   ],
   "source": [
    "df_reviews.info()"
   ]
  },
  {
   "cell_type": "code",
   "execution_count": 56,
   "id": "cbb8d8ec",
   "metadata": {},
   "outputs": [],
   "source": [
    "df_reviews = df_reviews.to_csv('reviews.csv', index=False)"
   ]
  },
  {
   "cell_type": "markdown",
   "id": "6c36efdb",
   "metadata": {},
   "source": [
    "## The Sixth data set"
   ]
  },
  {
   "cell_type": "code",
   "execution_count": 57,
   "id": "518924ec",
   "metadata": {},
   "outputs": [
    {
     "data": {
      "application/vnd.microsoft.datawrangler.viewer.v0+json": {
       "columns": [
        {
         "name": "index",
         "rawType": "int64",
         "type": "integer"
        },
        {
         "name": "type",
         "rawType": "object",
         "type": "string"
        },
        {
         "name": "name",
         "rawType": "object",
         "type": "string"
        },
        {
         "name": "tbl_name",
         "rawType": "object",
         "type": "string"
        },
        {
         "name": "rootpage",
         "rawType": "int64",
         "type": "integer"
        },
        {
         "name": "sql",
         "rawType": "object",
         "type": "string"
        }
       ],
       "ref": "c5ffcfd5-f71e-477a-b75e-469ee558a7fd",
       "rows": [
        [
         "0",
         "table",
         "movie_basics",
         "movie_basics",
         "2",
         "CREATE TABLE \"movie_basics\" (\n\"movie_id\" TEXT,\n  \"primary_title\" TEXT,\n  \"original_title\" TEXT,\n  \"start_year\" INTEGER,\n  \"runtime_minutes\" REAL,\n  \"genres\" TEXT\n)"
        ],
        [
         "1",
         "table",
         "directors",
         "directors",
         "3",
         "CREATE TABLE \"directors\" (\n\"movie_id\" TEXT,\n  \"person_id\" TEXT\n)"
        ],
        [
         "2",
         "table",
         "known_for",
         "known_for",
         "4",
         "CREATE TABLE \"known_for\" (\n\"person_id\" TEXT,\n  \"movie_id\" TEXT\n)"
        ],
        [
         "3",
         "table",
         "movie_akas",
         "movie_akas",
         "5",
         "CREATE TABLE \"movie_akas\" (\n\"movie_id\" TEXT,\n  \"ordering\" INTEGER,\n  \"title\" TEXT,\n  \"region\" TEXT,\n  \"language\" TEXT,\n  \"types\" TEXT,\n  \"attributes\" TEXT,\n  \"is_original_title\" REAL\n)"
        ],
        [
         "4",
         "table",
         "movie_ratings",
         "movie_ratings",
         "6",
         "CREATE TABLE \"movie_ratings\" (\n\"movie_id\" TEXT,\n  \"averagerating\" REAL,\n  \"numvotes\" INTEGER\n)"
        ],
        [
         "5",
         "table",
         "persons",
         "persons",
         "7",
         "CREATE TABLE \"persons\" (\n\"person_id\" TEXT,\n  \"primary_name\" TEXT,\n  \"birth_year\" REAL,\n  \"death_year\" REAL,\n  \"primary_profession\" TEXT\n)"
        ],
        [
         "6",
         "table",
         "principals",
         "principals",
         "8",
         "CREATE TABLE \"principals\" (\n\"movie_id\" TEXT,\n  \"ordering\" INTEGER,\n  \"person_id\" TEXT,\n  \"category\" TEXT,\n  \"job\" TEXT,\n  \"characters\" TEXT\n)"
        ],
        [
         "7",
         "table",
         "writers",
         "writers",
         "9",
         "CREATE TABLE \"writers\" (\n\"movie_id\" TEXT,\n  \"person_id\" TEXT\n)"
        ]
       ],
       "shape": {
        "columns": 5,
        "rows": 8
       }
      },
      "text/html": [
       "<div>\n",
       "<style scoped>\n",
       "    .dataframe tbody tr th:only-of-type {\n",
       "        vertical-align: middle;\n",
       "    }\n",
       "\n",
       "    .dataframe tbody tr th {\n",
       "        vertical-align: top;\n",
       "    }\n",
       "\n",
       "    .dataframe thead th {\n",
       "        text-align: right;\n",
       "    }\n",
       "</style>\n",
       "<table border=\"1\" class=\"dataframe\">\n",
       "  <thead>\n",
       "    <tr style=\"text-align: right;\">\n",
       "      <th></th>\n",
       "      <th>type</th>\n",
       "      <th>name</th>\n",
       "      <th>tbl_name</th>\n",
       "      <th>rootpage</th>\n",
       "      <th>sql</th>\n",
       "    </tr>\n",
       "  </thead>\n",
       "  <tbody>\n",
       "    <tr>\n",
       "      <th>0</th>\n",
       "      <td>table</td>\n",
       "      <td>movie_basics</td>\n",
       "      <td>movie_basics</td>\n",
       "      <td>2</td>\n",
       "      <td>CREATE TABLE \"movie_basics\" (\\n\"movie_id\" TEXT...</td>\n",
       "    </tr>\n",
       "    <tr>\n",
       "      <th>1</th>\n",
       "      <td>table</td>\n",
       "      <td>directors</td>\n",
       "      <td>directors</td>\n",
       "      <td>3</td>\n",
       "      <td>CREATE TABLE \"directors\" (\\n\"movie_id\" TEXT,\\n...</td>\n",
       "    </tr>\n",
       "    <tr>\n",
       "      <th>2</th>\n",
       "      <td>table</td>\n",
       "      <td>known_for</td>\n",
       "      <td>known_for</td>\n",
       "      <td>4</td>\n",
       "      <td>CREATE TABLE \"known_for\" (\\n\"person_id\" TEXT,\\...</td>\n",
       "    </tr>\n",
       "    <tr>\n",
       "      <th>3</th>\n",
       "      <td>table</td>\n",
       "      <td>movie_akas</td>\n",
       "      <td>movie_akas</td>\n",
       "      <td>5</td>\n",
       "      <td>CREATE TABLE \"movie_akas\" (\\n\"movie_id\" TEXT,\\...</td>\n",
       "    </tr>\n",
       "    <tr>\n",
       "      <th>4</th>\n",
       "      <td>table</td>\n",
       "      <td>movie_ratings</td>\n",
       "      <td>movie_ratings</td>\n",
       "      <td>6</td>\n",
       "      <td>CREATE TABLE \"movie_ratings\" (\\n\"movie_id\" TEX...</td>\n",
       "    </tr>\n",
       "    <tr>\n",
       "      <th>5</th>\n",
       "      <td>table</td>\n",
       "      <td>persons</td>\n",
       "      <td>persons</td>\n",
       "      <td>7</td>\n",
       "      <td>CREATE TABLE \"persons\" (\\n\"person_id\" TEXT,\\n ...</td>\n",
       "    </tr>\n",
       "    <tr>\n",
       "      <th>6</th>\n",
       "      <td>table</td>\n",
       "      <td>principals</td>\n",
       "      <td>principals</td>\n",
       "      <td>8</td>\n",
       "      <td>CREATE TABLE \"principals\" (\\n\"movie_id\" TEXT,\\...</td>\n",
       "    </tr>\n",
       "    <tr>\n",
       "      <th>7</th>\n",
       "      <td>table</td>\n",
       "      <td>writers</td>\n",
       "      <td>writers</td>\n",
       "      <td>9</td>\n",
       "      <td>CREATE TABLE \"writers\" (\\n\"movie_id\" TEXT,\\n  ...</td>\n",
       "    </tr>\n",
       "  </tbody>\n",
       "</table>\n",
       "</div>"
      ],
      "text/plain": [
       "    type           name       tbl_name  rootpage  \\\n",
       "0  table   movie_basics   movie_basics         2   \n",
       "1  table      directors      directors         3   \n",
       "2  table      known_for      known_for         4   \n",
       "3  table     movie_akas     movie_akas         5   \n",
       "4  table  movie_ratings  movie_ratings         6   \n",
       "5  table        persons        persons         7   \n",
       "6  table     principals     principals         8   \n",
       "7  table        writers        writers         9   \n",
       "\n",
       "                                                 sql  \n",
       "0  CREATE TABLE \"movie_basics\" (\\n\"movie_id\" TEXT...  \n",
       "1  CREATE TABLE \"directors\" (\\n\"movie_id\" TEXT,\\n...  \n",
       "2  CREATE TABLE \"known_for\" (\\n\"person_id\" TEXT,\\...  \n",
       "3  CREATE TABLE \"movie_akas\" (\\n\"movie_id\" TEXT,\\...  \n",
       "4  CREATE TABLE \"movie_ratings\" (\\n\"movie_id\" TEX...  \n",
       "5  CREATE TABLE \"persons\" (\\n\"person_id\" TEXT,\\n ...  \n",
       "6  CREATE TABLE \"principals\" (\\n\"movie_id\" TEXT,\\...  \n",
       "7  CREATE TABLE \"writers\" (\\n\"movie_id\" TEXT,\\n  ...  "
      ]
     },
     "execution_count": 57,
     "metadata": {},
     "output_type": "execute_result"
    }
   ],
   "source": [
    "conn = sqlite3.connect('im.db')\n",
    "df = pd.read_sql(\"\"\"SELECT * FROM sqlite_master WHERE type='table';\"\"\", conn)\n",
    "df"
   ]
  },
  {
   "cell_type": "code",
   "execution_count": 58,
   "id": "e160bcbf",
   "metadata": {},
   "outputs": [
    {
     "data": {
      "application/vnd.microsoft.datawrangler.viewer.v0+json": {
       "columns": [
        {
         "name": "index",
         "rawType": "int64",
         "type": "integer"
        },
        {
         "name": "movie_id",
         "rawType": "object",
         "type": "string"
        },
        {
         "name": "person_id",
         "rawType": "object",
         "type": "string"
        },
        {
         "name": "movie_id",
         "rawType": "object",
         "type": "string"
        },
        {
         "name": "averagerating",
         "rawType": "float64",
         "type": "float"
        },
        {
         "name": "numvotes",
         "rawType": "int64",
         "type": "integer"
        }
       ],
       "ref": "19198248-35cf-4697-a9d4-d5c3991f12c7",
       "rows": [
        [
         "0",
         "tt1770682",
         "nm4166961",
         "tt1770682",
         "10.0",
         "5"
        ],
        [
         "1",
         "tt4960818",
         "nm6680574",
         "tt4960818",
         "10.0",
         "8"
        ],
        [
         "2",
         "tt4960818",
         "nm7223265",
         "tt4960818",
         "10.0",
         "8"
        ],
        [
         "3",
         "tt10176328",
         "nm10616933",
         "tt10176328",
         "10.0",
         "5"
        ],
        [
         "4",
         "tt10176328",
         "nm10617142",
         "tt10176328",
         "10.0",
         "5"
        ]
       ],
       "shape": {
        "columns": 5,
        "rows": 5
       }
      },
      "text/html": [
       "<div>\n",
       "<style scoped>\n",
       "    .dataframe tbody tr th:only-of-type {\n",
       "        vertical-align: middle;\n",
       "    }\n",
       "\n",
       "    .dataframe tbody tr th {\n",
       "        vertical-align: top;\n",
       "    }\n",
       "\n",
       "    .dataframe thead th {\n",
       "        text-align: right;\n",
       "    }\n",
       "</style>\n",
       "<table border=\"1\" class=\"dataframe\">\n",
       "  <thead>\n",
       "    <tr style=\"text-align: right;\">\n",
       "      <th></th>\n",
       "      <th>movie_id</th>\n",
       "      <th>person_id</th>\n",
       "      <th>movie_id</th>\n",
       "      <th>averagerating</th>\n",
       "      <th>numvotes</th>\n",
       "    </tr>\n",
       "  </thead>\n",
       "  <tbody>\n",
       "    <tr>\n",
       "      <th>0</th>\n",
       "      <td>tt1770682</td>\n",
       "      <td>nm4166961</td>\n",
       "      <td>tt1770682</td>\n",
       "      <td>10.0</td>\n",
       "      <td>5</td>\n",
       "    </tr>\n",
       "    <tr>\n",
       "      <th>1</th>\n",
       "      <td>tt4960818</td>\n",
       "      <td>nm6680574</td>\n",
       "      <td>tt4960818</td>\n",
       "      <td>10.0</td>\n",
       "      <td>8</td>\n",
       "    </tr>\n",
       "    <tr>\n",
       "      <th>2</th>\n",
       "      <td>tt4960818</td>\n",
       "      <td>nm7223265</td>\n",
       "      <td>tt4960818</td>\n",
       "      <td>10.0</td>\n",
       "      <td>8</td>\n",
       "    </tr>\n",
       "    <tr>\n",
       "      <th>3</th>\n",
       "      <td>tt10176328</td>\n",
       "      <td>nm10616933</td>\n",
       "      <td>tt10176328</td>\n",
       "      <td>10.0</td>\n",
       "      <td>5</td>\n",
       "    </tr>\n",
       "    <tr>\n",
       "      <th>4</th>\n",
       "      <td>tt10176328</td>\n",
       "      <td>nm10617142</td>\n",
       "      <td>tt10176328</td>\n",
       "      <td>10.0</td>\n",
       "      <td>5</td>\n",
       "    </tr>\n",
       "  </tbody>\n",
       "</table>\n",
       "</div>"
      ],
      "text/plain": [
       "     movie_id   person_id    movie_id  averagerating  numvotes\n",
       "0   tt1770682   nm4166961   tt1770682           10.0         5\n",
       "1   tt4960818   nm6680574   tt4960818           10.0         8\n",
       "2   tt4960818   nm7223265   tt4960818           10.0         8\n",
       "3  tt10176328  nm10616933  tt10176328           10.0         5\n",
       "4  tt10176328  nm10617142  tt10176328           10.0         5"
      ]
     },
     "execution_count": 58,
     "metadata": {},
     "output_type": "execute_result"
    }
   ],
   "source": [
    "query = \"\"\"\n",
    "SELECT *\n",
    "FROM writers AS w\n",
    "JOIN movie_ratings AS mr \n",
    "ON w.movie_id = mr.movie_id\n",
    "ORDER BY mr.averagerating DESC;\n",
    "\"\"\"\n",
    "\n",
    "df_joined = pd.read_sql(query, conn)\n",
    "df_joined.head()"
   ]
  },
  {
   "cell_type": "code",
   "execution_count": 59,
   "id": "612792e7",
   "metadata": {},
   "outputs": [
    {
     "data": {
      "application/vnd.microsoft.datawrangler.viewer.v0+json": {
       "columns": [
        {
         "name": "index",
         "rawType": "int64",
         "type": "integer"
        },
        {
         "name": "movie_id",
         "rawType": "object",
         "type": "string"
        },
        {
         "name": "person_id",
         "rawType": "object",
         "type": "string"
        },
        {
         "name": "person_id",
         "rawType": "object",
         "type": "string"
        },
        {
         "name": "primary_name",
         "rawType": "object",
         "type": "string"
        },
        {
         "name": "birth_year",
         "rawType": "float64",
         "type": "float"
        },
        {
         "name": "death_year",
         "rawType": "float64",
         "type": "float"
        },
        {
         "name": "primary_profession",
         "rawType": "object",
         "type": "string"
        },
        {
         "name": "movie_id",
         "rawType": "object",
         "type": "string"
        },
        {
         "name": "averagerating",
         "rawType": "float64",
         "type": "float"
        },
        {
         "name": "numvotes",
         "rawType": "int64",
         "type": "integer"
        }
       ],
       "ref": "5e48d07e-3cd6-4ff3-998c-4beebc9dbc3b",
       "rows": [
        [
         "0",
         "tt5344358",
         "nm6925060",
         "nm6925060",
         "Tristan David Luciotti",
         null,
         null,
         "actor,writer,producer",
         "tt5344358",
         "10.0",
         "6"
        ],
        [
         "1",
         "tt6295832",
         "nm3704168",
         "nm3704168",
         "Michiel Brongers",
         null,
         null,
         "director,writer",
         "tt6295832",
         "10.0",
         "5"
        ],
        [
         "2",
         "tt1770682",
         "nm4166962",
         "nm4166962",
         "Daniel Alexander",
         null,
         null,
         "director",
         "tt1770682",
         "10.0",
         "5"
        ],
        [
         "3",
         "tt4960818",
         "nm7223265",
         "nm7223265",
         "Loreto Di Cesare",
         null,
         null,
         "cinematographer,director,producer",
         "tt4960818",
         "10.0",
         "8"
        ],
        [
         "4",
         "tt4960818",
         "nm7223265",
         "nm7223265",
         "Loreto Di Cesare",
         null,
         null,
         "cinematographer,director,producer",
         "tt4960818",
         "10.0",
         "8"
        ]
       ],
       "shape": {
        "columns": 10,
        "rows": 5
       }
      },
      "text/html": [
       "<div>\n",
       "<style scoped>\n",
       "    .dataframe tbody tr th:only-of-type {\n",
       "        vertical-align: middle;\n",
       "    }\n",
       "\n",
       "    .dataframe tbody tr th {\n",
       "        vertical-align: top;\n",
       "    }\n",
       "\n",
       "    .dataframe thead th {\n",
       "        text-align: right;\n",
       "    }\n",
       "</style>\n",
       "<table border=\"1\" class=\"dataframe\">\n",
       "  <thead>\n",
       "    <tr style=\"text-align: right;\">\n",
       "      <th></th>\n",
       "      <th>movie_id</th>\n",
       "      <th>person_id</th>\n",
       "      <th>person_id</th>\n",
       "      <th>primary_name</th>\n",
       "      <th>birth_year</th>\n",
       "      <th>death_year</th>\n",
       "      <th>primary_profession</th>\n",
       "      <th>movie_id</th>\n",
       "      <th>averagerating</th>\n",
       "      <th>numvotes</th>\n",
       "    </tr>\n",
       "  </thead>\n",
       "  <tbody>\n",
       "    <tr>\n",
       "      <th>0</th>\n",
       "      <td>tt5344358</td>\n",
       "      <td>nm6925060</td>\n",
       "      <td>nm6925060</td>\n",
       "      <td>Tristan David Luciotti</td>\n",
       "      <td>NaN</td>\n",
       "      <td>NaN</td>\n",
       "      <td>actor,writer,producer</td>\n",
       "      <td>tt5344358</td>\n",
       "      <td>10.0</td>\n",
       "      <td>6</td>\n",
       "    </tr>\n",
       "    <tr>\n",
       "      <th>1</th>\n",
       "      <td>tt6295832</td>\n",
       "      <td>nm3704168</td>\n",
       "      <td>nm3704168</td>\n",
       "      <td>Michiel Brongers</td>\n",
       "      <td>NaN</td>\n",
       "      <td>NaN</td>\n",
       "      <td>director,writer</td>\n",
       "      <td>tt6295832</td>\n",
       "      <td>10.0</td>\n",
       "      <td>5</td>\n",
       "    </tr>\n",
       "    <tr>\n",
       "      <th>2</th>\n",
       "      <td>tt1770682</td>\n",
       "      <td>nm4166962</td>\n",
       "      <td>nm4166962</td>\n",
       "      <td>Daniel Alexander</td>\n",
       "      <td>NaN</td>\n",
       "      <td>NaN</td>\n",
       "      <td>director</td>\n",
       "      <td>tt1770682</td>\n",
       "      <td>10.0</td>\n",
       "      <td>5</td>\n",
       "    </tr>\n",
       "    <tr>\n",
       "      <th>3</th>\n",
       "      <td>tt4960818</td>\n",
       "      <td>nm7223265</td>\n",
       "      <td>nm7223265</td>\n",
       "      <td>Loreto Di Cesare</td>\n",
       "      <td>NaN</td>\n",
       "      <td>NaN</td>\n",
       "      <td>cinematographer,director,producer</td>\n",
       "      <td>tt4960818</td>\n",
       "      <td>10.0</td>\n",
       "      <td>8</td>\n",
       "    </tr>\n",
       "    <tr>\n",
       "      <th>4</th>\n",
       "      <td>tt4960818</td>\n",
       "      <td>nm7223265</td>\n",
       "      <td>nm7223265</td>\n",
       "      <td>Loreto Di Cesare</td>\n",
       "      <td>NaN</td>\n",
       "      <td>NaN</td>\n",
       "      <td>cinematographer,director,producer</td>\n",
       "      <td>tt4960818</td>\n",
       "      <td>10.0</td>\n",
       "      <td>8</td>\n",
       "    </tr>\n",
       "  </tbody>\n",
       "</table>\n",
       "</div>"
      ],
      "text/plain": [
       "    movie_id  person_id  person_id            primary_name  birth_year  \\\n",
       "0  tt5344358  nm6925060  nm6925060  Tristan David Luciotti         NaN   \n",
       "1  tt6295832  nm3704168  nm3704168        Michiel Brongers         NaN   \n",
       "2  tt1770682  nm4166962  nm4166962        Daniel Alexander         NaN   \n",
       "3  tt4960818  nm7223265  nm7223265        Loreto Di Cesare         NaN   \n",
       "4  tt4960818  nm7223265  nm7223265        Loreto Di Cesare         NaN   \n",
       "\n",
       "   death_year                 primary_profession   movie_id  averagerating  \\\n",
       "0         NaN              actor,writer,producer  tt5344358           10.0   \n",
       "1         NaN                    director,writer  tt6295832           10.0   \n",
       "2         NaN                           director  tt1770682           10.0   \n",
       "3         NaN  cinematographer,director,producer  tt4960818           10.0   \n",
       "4         NaN  cinematographer,director,producer  tt4960818           10.0   \n",
       "\n",
       "   numvotes  \n",
       "0         6  \n",
       "1         5  \n",
       "2         5  \n",
       "3         8  \n",
       "4         8  "
      ]
     },
     "execution_count": 59,
     "metadata": {},
     "output_type": "execute_result"
    }
   ],
   "source": [
    "query = \"\"\"\n",
    "SELECT *\n",
    "FROM directors AS d\n",
    "JOIN persons AS p\n",
    "ON d.person_id = p.person_id\n",
    "JOIN movie_ratings AS mr\n",
    "ON d.movie_id = mr.movie_id\n",
    "ORDER BY mr.averagerating DESC;\n",
    "\"\"\"\n",
    "df_directors = pd.read_sql(query, conn)\n",
    "df_directors.head()"
   ]
  },
  {
   "cell_type": "code",
   "execution_count": 60,
   "id": "08b6f320",
   "metadata": {},
   "outputs": [
    {
     "data": {
      "text/plain": [
       "(181387, 10)"
      ]
     },
     "execution_count": 60,
     "metadata": {},
     "output_type": "execute_result"
    }
   ],
   "source": [
    "df_directors.shape"
   ]
  },
  {
   "cell_type": "code",
   "execution_count": 61,
   "id": "36a91267",
   "metadata": {},
   "outputs": [
    {
     "data": {
      "application/vnd.microsoft.datawrangler.viewer.v0+json": {
       "columns": [
        {
         "name": "index",
         "rawType": "int64",
         "type": "integer"
        },
        {
         "name": "primary_name",
         "rawType": "object",
         "type": "string"
        },
        {
         "name": "averagerating",
         "rawType": "float64",
         "type": "float"
        },
        {
         "name": "genres",
         "rawType": "object",
         "type": "string"
        },
        {
         "name": "original_title",
         "rawType": "object",
         "type": "string"
        }
       ],
       "ref": "159adb93-da11-4feb-8543-f326ab69063e",
       "rows": [
        [
         "0",
         "Ivana Diniz",
         "10.0",
         "Documentary",
         "Exteriores: Mulheres Brasileiras na Diplomacia"
        ],
        [
         "1",
         "Ivana Diniz",
         "10.0",
         "Documentary",
         "Exteriores: Mulheres Brasileiras na Diplomacia"
        ],
        [
         "2",
         "Lindsay Thompson",
         "10.0",
         "Documentary",
         "Fly High: Story of the Disc Dog"
        ],
        [
         "3",
         "Tristan David Luciotti",
         "10.0",
         "Documentary",
         "All Around Us"
        ],
        [
         "4",
         "Robert Tutak",
         "10.0",
         "Documentary,History",
         "Ellis Island: The Making of a Master Race in America"
        ]
       ],
       "shape": {
        "columns": 4,
        "rows": 5
       }
      },
      "text/html": [
       "<div>\n",
       "<style scoped>\n",
       "    .dataframe tbody tr th:only-of-type {\n",
       "        vertical-align: middle;\n",
       "    }\n",
       "\n",
       "    .dataframe tbody tr th {\n",
       "        vertical-align: top;\n",
       "    }\n",
       "\n",
       "    .dataframe thead th {\n",
       "        text-align: right;\n",
       "    }\n",
       "</style>\n",
       "<table border=\"1\" class=\"dataframe\">\n",
       "  <thead>\n",
       "    <tr style=\"text-align: right;\">\n",
       "      <th></th>\n",
       "      <th>primary_name</th>\n",
       "      <th>averagerating</th>\n",
       "      <th>genres</th>\n",
       "      <th>original_title</th>\n",
       "    </tr>\n",
       "  </thead>\n",
       "  <tbody>\n",
       "    <tr>\n",
       "      <th>0</th>\n",
       "      <td>Ivana Diniz</td>\n",
       "      <td>10.0</td>\n",
       "      <td>Documentary</td>\n",
       "      <td>Exteriores: Mulheres Brasileiras na Diplomacia</td>\n",
       "    </tr>\n",
       "    <tr>\n",
       "      <th>1</th>\n",
       "      <td>Ivana Diniz</td>\n",
       "      <td>10.0</td>\n",
       "      <td>Documentary</td>\n",
       "      <td>Exteriores: Mulheres Brasileiras na Diplomacia</td>\n",
       "    </tr>\n",
       "    <tr>\n",
       "      <th>2</th>\n",
       "      <td>Lindsay Thompson</td>\n",
       "      <td>10.0</td>\n",
       "      <td>Documentary</td>\n",
       "      <td>Fly High: Story of the Disc Dog</td>\n",
       "    </tr>\n",
       "    <tr>\n",
       "      <th>3</th>\n",
       "      <td>Tristan David Luciotti</td>\n",
       "      <td>10.0</td>\n",
       "      <td>Documentary</td>\n",
       "      <td>All Around Us</td>\n",
       "    </tr>\n",
       "    <tr>\n",
       "      <th>4</th>\n",
       "      <td>Robert Tutak</td>\n",
       "      <td>10.0</td>\n",
       "      <td>Documentary,History</td>\n",
       "      <td>Ellis Island: The Making of a Master Race in A...</td>\n",
       "    </tr>\n",
       "  </tbody>\n",
       "</table>\n",
       "</div>"
      ],
      "text/plain": [
       "             primary_name  averagerating               genres  \\\n",
       "0             Ivana Diniz           10.0          Documentary   \n",
       "1             Ivana Diniz           10.0          Documentary   \n",
       "2        Lindsay Thompson           10.0          Documentary   \n",
       "3  Tristan David Luciotti           10.0          Documentary   \n",
       "4            Robert Tutak           10.0  Documentary,History   \n",
       "\n",
       "                                      original_title  \n",
       "0     Exteriores: Mulheres Brasileiras na Diplomacia  \n",
       "1     Exteriores: Mulheres Brasileiras na Diplomacia  \n",
       "2                    Fly High: Story of the Disc Dog  \n",
       "3                                      All Around Us  \n",
       "4  Ellis Island: The Making of a Master Race in A...  "
      ]
     },
     "execution_count": 61,
     "metadata": {},
     "output_type": "execute_result"
    }
   ],
   "source": [
    "query = \"\"\"\n",
    "SELECT p.primary_name, mr.averagerating, mb.genres, mb.original_title\n",
    "FROM directors AS d\n",
    "JOIN persons AS p\n",
    "ON d.person_id = p.person_id\n",
    "JOIN movie_ratings AS mr\n",
    "ON d.movie_id = mr.movie_id\n",
    "JOIN movie_basics as mb\n",
    "ON d.movie_id = mb.movie_id\n",
    "WHERE mb.start_year >=2018\n",
    "ORDER BY mr.averagerating DESC;\n",
    "\"\"\"\n",
    "df_directors = pd.read_sql(query, conn)\n",
    "df_directors.head()"
   ]
  },
  {
   "cell_type": "code",
   "execution_count": 62,
   "id": "2dcc1050",
   "metadata": {},
   "outputs": [
    {
     "name": "stdout",
     "output_type": "stream",
     "text": [
      "<class 'pandas.core.frame.DataFrame'>\n",
      "RangeIndex: 22317 entries, 0 to 22316\n",
      "Data columns (total 4 columns):\n",
      " #   Column          Non-Null Count  Dtype  \n",
      "---  ------          --------------  -----  \n",
      " 0   primary_name    22317 non-null  object \n",
      " 1   averagerating   22317 non-null  float64\n",
      " 2   genres          22119 non-null  object \n",
      " 3   original_title  22317 non-null  object \n",
      "dtypes: float64(1), object(3)\n",
      "memory usage: 697.5+ KB\n"
     ]
    }
   ],
   "source": [
    "df_directors.info()"
   ]
  },
  {
   "cell_type": "code",
   "execution_count": 63,
   "id": "c5dbc472",
   "metadata": {},
   "outputs": [],
   "source": [
    "df_directors['genres'] = df_directors['genres'].str.split(', ')"
   ]
  },
  {
   "cell_type": "code",
   "execution_count": 64,
   "id": "e1c81099",
   "metadata": {},
   "outputs": [],
   "source": [
    "df_directors_exploded = df_directors.explode('genres')"
   ]
  },
  {
   "cell_type": "code",
   "execution_count": 65,
   "id": "a9f67eb2",
   "metadata": {},
   "outputs": [],
   "source": [
    "genre_ratings = df_directors_exploded.groupby('genres')['averagerating'].mean().sort_values(ascending=False)"
   ]
  },
  {
   "cell_type": "code",
   "execution_count": 66,
   "id": "88d4da5f",
   "metadata": {},
   "outputs": [
    {
     "name": "stdout",
     "output_type": "stream",
     "text": [
      "<class 'pandas.core.frame.DataFrame'>\n",
      "Int64Index: 22317 entries, 0 to 22316\n",
      "Data columns (total 4 columns):\n",
      " #   Column          Non-Null Count  Dtype  \n",
      "---  ------          --------------  -----  \n",
      " 0   primary_name    22317 non-null  object \n",
      " 1   averagerating   22317 non-null  float64\n",
      " 2   genres          22119 non-null  object \n",
      " 3   original_title  22317 non-null  object \n",
      "dtypes: float64(1), object(3)\n",
      "memory usage: 871.8+ KB\n"
     ]
    }
   ],
   "source": [
    "df_directors_exploded.info()"
   ]
  },
  {
   "cell_type": "code",
   "execution_count": 67,
   "id": "1428d196",
   "metadata": {},
   "outputs": [],
   "source": [
    "df_directors_exploded = df_directors.explode('genres')\n",
    "genre_rating = df_directors_exploded.groupby('genres')['averagerating'].mean().sort_values()"
   ]
  },
  {
   "cell_type": "code",
   "execution_count": 68,
   "id": "6bfdfc74",
   "metadata": {},
   "outputs": [],
   "source": [
    "df_filtered = df_directors[(df_directors['averagerating'] >= 8) & (df_directors['averagerating'] <= 10)].copy()\n",
    "\n",
    "df_exploded = df_filtered.explode('genres')"
   ]
  },
  {
   "cell_type": "code",
   "execution_count": 69,
   "id": "090f06cf",
   "metadata": {},
   "outputs": [
    {
     "data": {
      "application/vnd.microsoft.datawrangler.viewer.v0+json": {
       "columns": [
        {
         "name": "index",
         "rawType": "int64",
         "type": "integer"
        },
        {
         "name": "primary_name",
         "rawType": "object",
         "type": "string"
        },
        {
         "name": "averagerating",
         "rawType": "float64",
         "type": "float"
        },
        {
         "name": "genres",
         "rawType": "object",
         "type": "string"
        },
        {
         "name": "original_title",
         "rawType": "object",
         "type": "string"
        }
       ],
       "ref": "9aabae65-fa1a-4b49-b562-293abcd2279d",
       "rows": [
        [
         "3312",
         "Goran Radovanovic",
         "8.0",
         "Documentary",
         "Slucaj Makavejev ili Proces u bioskopskoj sali"
        ],
        [
         "3313",
         "Goran Radovanovic",
         "8.0",
         "Documentary",
         "Slucaj Makavejev ili Proces u bioskopskoj sali"
        ],
        [
         "3314",
         "Rahul Kumar Shukla",
         "8.0",
         "Comedy",
         "Is She Raju?"
        ],
        [
         "3315",
         "Rahul Kumar Shukla",
         "8.0",
         "Comedy",
         "Is She Raju?"
        ],
        [
         "3316",
         "Sampath Rudra",
         "8.0",
         "Comedy,Drama,Romance",
         "Ishtangaa"
        ]
       ],
       "shape": {
        "columns": 4,
        "rows": 5
       }
      },
      "text/html": [
       "<div>\n",
       "<style scoped>\n",
       "    .dataframe tbody tr th:only-of-type {\n",
       "        vertical-align: middle;\n",
       "    }\n",
       "\n",
       "    .dataframe tbody tr th {\n",
       "        vertical-align: top;\n",
       "    }\n",
       "\n",
       "    .dataframe thead th {\n",
       "        text-align: right;\n",
       "    }\n",
       "</style>\n",
       "<table border=\"1\" class=\"dataframe\">\n",
       "  <thead>\n",
       "    <tr style=\"text-align: right;\">\n",
       "      <th></th>\n",
       "      <th>primary_name</th>\n",
       "      <th>averagerating</th>\n",
       "      <th>genres</th>\n",
       "      <th>original_title</th>\n",
       "    </tr>\n",
       "  </thead>\n",
       "  <tbody>\n",
       "    <tr>\n",
       "      <th>3312</th>\n",
       "      <td>Goran Radovanovic</td>\n",
       "      <td>8.0</td>\n",
       "      <td>Documentary</td>\n",
       "      <td>Slucaj Makavejev ili Proces u bioskopskoj sali</td>\n",
       "    </tr>\n",
       "    <tr>\n",
       "      <th>3313</th>\n",
       "      <td>Goran Radovanovic</td>\n",
       "      <td>8.0</td>\n",
       "      <td>Documentary</td>\n",
       "      <td>Slucaj Makavejev ili Proces u bioskopskoj sali</td>\n",
       "    </tr>\n",
       "    <tr>\n",
       "      <th>3314</th>\n",
       "      <td>Rahul Kumar Shukla</td>\n",
       "      <td>8.0</td>\n",
       "      <td>Comedy</td>\n",
       "      <td>Is She Raju?</td>\n",
       "    </tr>\n",
       "    <tr>\n",
       "      <th>3315</th>\n",
       "      <td>Rahul Kumar Shukla</td>\n",
       "      <td>8.0</td>\n",
       "      <td>Comedy</td>\n",
       "      <td>Is She Raju?</td>\n",
       "    </tr>\n",
       "    <tr>\n",
       "      <th>3316</th>\n",
       "      <td>Sampath Rudra</td>\n",
       "      <td>8.0</td>\n",
       "      <td>Comedy,Drama,Romance</td>\n",
       "      <td>Ishtangaa</td>\n",
       "    </tr>\n",
       "  </tbody>\n",
       "</table>\n",
       "</div>"
      ],
      "text/plain": [
       "            primary_name  averagerating                genres  \\\n",
       "3312   Goran Radovanovic            8.0           Documentary   \n",
       "3313   Goran Radovanovic            8.0           Documentary   \n",
       "3314  Rahul Kumar Shukla            8.0                Comedy   \n",
       "3315  Rahul Kumar Shukla            8.0                Comedy   \n",
       "3316       Sampath Rudra            8.0  Comedy,Drama,Romance   \n",
       "\n",
       "                                      original_title  \n",
       "3312  Slucaj Makavejev ili Proces u bioskopskoj sali  \n",
       "3313  Slucaj Makavejev ili Proces u bioskopskoj sali  \n",
       "3314                                    Is She Raju?  \n",
       "3315                                    Is She Raju?  \n",
       "3316                                       Ishtangaa  "
      ]
     },
     "execution_count": 69,
     "metadata": {},
     "output_type": "execute_result"
    }
   ],
   "source": [
    "df_exploded.tail()"
   ]
  },
  {
   "cell_type": "markdown",
   "id": "4acde824",
   "metadata": {},
   "source": [
    "### Data visualization"
   ]
  },
  {
   "cell_type": "code",
   "execution_count": 70,
   "id": "2e5f25d6",
   "metadata": {},
   "outputs": [
    {
     "data": {
      "image/png": "[encoded data removed]",
      "text/plain": [
       "<Figure size 720x576 with 1 Axes>"
      ]
     },
     "metadata": {
      "needs_background": "light"
     },
     "output_type": "display_data"
    }
   ],
   "source": [
    "genre_avg_rating = df_exploded.groupby('genres')['averagerating'].mean().sort_values()\n",
    "plt.figure(figsize=(10,8))\n",
    "sns.barplot(x=genre_avg_rating.values, y=genre_avg_rating.index, palette=\"viridis\")\n",
    "plt.xlabel('Average Rating')\n",
    "plt.ylabel('Genre')\n",
    "plt.title('Average Ratings (8–10) by Genre')\n",
    "plt.tight_layout()\n",
    "plt.show()"
   ]
  },
  {
   "cell_type": "markdown",
   "id": "1b32b613",
   "metadata": {},
   "source": [
    "Comedy, Documentary and Sport have the highest average rating while Action and Fantasy have the lowest average rating"
   ]
  }
 ],
 "metadata": {
  "kernelspec": {
   "display_name": "learn-env",
   "language": "python",
   "name": "python3"
  },
  "language_info": {
   "codemirror_mode": {
    "name": "ipython",
    "version": 3
   },
   "file_extension": ".py",
   "mimetype": "text/x-python",
   "name": "python",
   "nbconvert_exporter": "python",
   "pygments_lexer": "ipython3",
   "version": "3.8.5"
  }
 },
 "nbformat": 4,
 "nbformat_minor": 5
}
