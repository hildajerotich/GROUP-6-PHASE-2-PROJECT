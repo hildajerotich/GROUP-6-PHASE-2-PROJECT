{
 "cells": [
  {
   "cell_type": "markdown",
   "id": "c03ce0fa",
   "metadata": {},
   "source": [
    "## Final Project Submission\n",
    "\n",
    "Please fill out:\n",
    "* Student name: Erick Kibugi, Hilda Jerotich, David Muriithi, Alice Muia, Emmanuel Kipleting, Boniface Njeri, Bernice Nyawira  \n",
    "* Student pace: part time \n",
    "* Scheduled project review date/time: \n",
    "* Instructor name: George Kamundia\n",
    "* Blog post URL:\n"
   ]
  },
  {
   "cell_type": "markdown",
   "id": "384a5c99",
   "metadata": {},
   "source": [
    "## Introduction\n",
    "Golden Arc Pictures is preparing to launch a new movie studio with the goal of producing original video content. However, the company currently lacks experience in film production. This analysis will explore various datasets related to the movie industry to uncover trends, patterns, and audience preferences. The insights gained will be translated into actionable recommendations that the head of Golden Arc Pictures’s new studio can use to make informed decisions about the types of films to develop."
   ]
  },
  {
   "cell_type": "code",
   "execution_count": 1,
   "id": "6276dbb3",
   "metadata": {},
   "outputs": [],
   "source": [
    "#importing the required libraries\n",
    "import pandas as pd\n",
    "import numpy as np\n",
    "import gzip\n",
    "import sqlite3\n",
    "import seaborn as sns\n"
   ]
  },
  {
   "cell_type": "markdown",
   "id": "cae640c1",
   "metadata": {},
   "source": [
    "## Data loading, extraction and analysis"
   ]
  },
  {
   "cell_type": "markdown",
   "id": "165eeea7",
   "metadata": {},
   "source": [
    "For the first dataset, we are dealing with tmdd.movies.csv.gz "
   ]
  },
  {
   "cell_type": "code",
   "execution_count": 2,
   "id": "3435f69e",
   "metadata": {},
   "outputs": [
    {
     "data": {
      "text/html": [
       "<div>\n",
       "<style scoped>\n",
       "    .dataframe tbody tr th:only-of-type {\n",
       "        vertical-align: middle;\n",
       "    }\n",
       "\n",
       "    .dataframe tbody tr th {\n",
       "        vertical-align: top;\n",
       "    }\n",
       "\n",
       "    .dataframe thead th {\n",
       "        text-align: right;\n",
       "    }\n",
       "</style>\n",
       "<table border=\"1\" class=\"dataframe\">\n",
       "  <thead>\n",
       "    <tr style=\"text-align: right;\">\n",
       "      <th></th>\n",
       "      <th>Unnamed: 0</th>\n",
       "      <th>genre_ids</th>\n",
       "      <th>id</th>\n",
       "      <th>original_language</th>\n",
       "      <th>original_title</th>\n",
       "      <th>popularity</th>\n",
       "      <th>release_date</th>\n",
       "      <th>title</th>\n",
       "      <th>vote_average</th>\n",
       "      <th>vote_count</th>\n",
       "    </tr>\n",
       "  </thead>\n",
       "  <tbody>\n",
       "    <tr>\n",
       "      <th>0</th>\n",
       "      <td>0</td>\n",
       "      <td>[12, 14, 10751]</td>\n",
       "      <td>12444</td>\n",
       "      <td>en</td>\n",
       "      <td>Harry Potter and the Deathly Hallows: Part 1</td>\n",
       "      <td>33.533</td>\n",
       "      <td>2010-11-19</td>\n",
       "      <td>Harry Potter and the Deathly Hallows: Part 1</td>\n",
       "      <td>7.7</td>\n",
       "      <td>10788</td>\n",
       "    </tr>\n",
       "    <tr>\n",
       "      <th>1</th>\n",
       "      <td>1</td>\n",
       "      <td>[14, 12, 16, 10751]</td>\n",
       "      <td>10191</td>\n",
       "      <td>en</td>\n",
       "      <td>How to Train Your Dragon</td>\n",
       "      <td>28.734</td>\n",
       "      <td>2010-03-26</td>\n",
       "      <td>How to Train Your Dragon</td>\n",
       "      <td>7.7</td>\n",
       "      <td>7610</td>\n",
       "    </tr>\n",
       "    <tr>\n",
       "      <th>2</th>\n",
       "      <td>2</td>\n",
       "      <td>[12, 28, 878]</td>\n",
       "      <td>10138</td>\n",
       "      <td>en</td>\n",
       "      <td>Iron Man 2</td>\n",
       "      <td>28.515</td>\n",
       "      <td>2010-05-07</td>\n",
       "      <td>Iron Man 2</td>\n",
       "      <td>6.8</td>\n",
       "      <td>12368</td>\n",
       "    </tr>\n",
       "    <tr>\n",
       "      <th>3</th>\n",
       "      <td>3</td>\n",
       "      <td>[16, 35, 10751]</td>\n",
       "      <td>862</td>\n",
       "      <td>en</td>\n",
       "      <td>Toy Story</td>\n",
       "      <td>28.005</td>\n",
       "      <td>1995-11-22</td>\n",
       "      <td>Toy Story</td>\n",
       "      <td>7.9</td>\n",
       "      <td>10174</td>\n",
       "    </tr>\n",
       "    <tr>\n",
       "      <th>4</th>\n",
       "      <td>4</td>\n",
       "      <td>[28, 878, 12]</td>\n",
       "      <td>27205</td>\n",
       "      <td>en</td>\n",
       "      <td>Inception</td>\n",
       "      <td>27.920</td>\n",
       "      <td>2010-07-16</td>\n",
       "      <td>Inception</td>\n",
       "      <td>8.3</td>\n",
       "      <td>22186</td>\n",
       "    </tr>\n",
       "  </tbody>\n",
       "</table>\n",
       "</div>"
      ],
      "text/plain": [
       "   Unnamed: 0            genre_ids     id original_language  \\\n",
       "0           0      [12, 14, 10751]  12444                en   \n",
       "1           1  [14, 12, 16, 10751]  10191                en   \n",
       "2           2        [12, 28, 878]  10138                en   \n",
       "3           3      [16, 35, 10751]    862                en   \n",
       "4           4        [28, 878, 12]  27205                en   \n",
       "\n",
       "                                 original_title  popularity release_date  \\\n",
       "0  Harry Potter and the Deathly Hallows: Part 1      33.533   2010-11-19   \n",
       "1                      How to Train Your Dragon      28.734   2010-03-26   \n",
       "2                                    Iron Man 2      28.515   2010-05-07   \n",
       "3                                     Toy Story      28.005   1995-11-22   \n",
       "4                                     Inception      27.920   2010-07-16   \n",
       "\n",
       "                                          title  vote_average  vote_count  \n",
       "0  Harry Potter and the Deathly Hallows: Part 1           7.7       10788  \n",
       "1                      How to Train Your Dragon           7.7        7610  \n",
       "2                                    Iron Man 2           6.8       12368  \n",
       "3                                     Toy Story           7.9       10174  \n",
       "4                                     Inception           8.3       22186  "
      ]
     },
     "execution_count": 2,
     "metadata": {},
     "output_type": "execute_result"
    }
   ],
   "source": [
    "df_tmdb_mov = pd.read_csv('tmdb.movies.csv')\n",
    "df_tmdb_mov.head()"
   ]
  },
  {
   "cell_type": "code",
   "execution_count": 3,
   "id": "469824df",
   "metadata": {},
   "outputs": [
    {
     "name": "stdout",
     "output_type": "stream",
     "text": [
      "<class 'pandas.core.frame.DataFrame'>\n",
      "RangeIndex: 26517 entries, 0 to 26516\n",
      "Data columns (total 10 columns):\n",
      " #   Column             Non-Null Count  Dtype  \n",
      "---  ------             --------------  -----  \n",
      " 0   Unnamed: 0         26517 non-null  int64  \n",
      " 1   genre_ids          26517 non-null  object \n",
      " 2   id                 26517 non-null  int64  \n",
      " 3   original_language  26517 non-null  object \n",
      " 4   original_title     26517 non-null  object \n",
      " 5   popularity         26517 non-null  float64\n",
      " 6   release_date       26517 non-null  object \n",
      " 7   title              26517 non-null  object \n",
      " 8   vote_average       26517 non-null  float64\n",
      " 9   vote_count         26517 non-null  int64  \n",
      "dtypes: float64(2), int64(3), object(5)\n",
      "memory usage: 2.0+ MB\n"
     ]
    },
    {
     "data": {
      "text/plain": [
       "Unnamed: 0           0\n",
       "genre_ids            0\n",
       "id                   0\n",
       "original_language    0\n",
       "original_title       0\n",
       "popularity           0\n",
       "release_date         0\n",
       "title                0\n",
       "vote_average         0\n",
       "vote_count           0\n",
       "dtype: int64"
      ]
     },
     "execution_count": 3,
     "metadata": {},
     "output_type": "execute_result"
    }
   ],
   "source": [
    "# with the following lines of code, we aim to investigate the dataset and understand its structure, size, and data types.\n",
    "df_tmdb_mov.info()\n",
    "df_tmdb_mov.shape\n",
    "df_tmdb_mov.duplicated().sum()\n",
    "df_tmdb_mov.isnull().sum()"
   ]
  },
  {
   "cell_type": "markdown",
   "id": "f8c6f3ab",
   "metadata": {},
   "source": [
    "As a result, we have observed there are no duplicates, no null values and date format is YYYY-MM-DD."
   ]
  },
  {
   "cell_type": "code",
   "execution_count": 4,
   "id": "0a89d312",
   "metadata": {},
   "outputs": [
    {
     "name": "stdout",
     "output_type": "stream",
     "text": [
      "en    23291\n",
      "fr      507\n",
      "es      455\n",
      "ru      298\n",
      "ja      265\n",
      "      ...  \n",
      "bo        1\n",
      "si        1\n",
      "sl        1\n",
      "hz        1\n",
      "dz        1\n",
      "Name: original_language, Length: 76, dtype: int64\n"
     ]
    }
   ],
   "source": [
    "# We will now check the number of movies available in each language.\n",
    "count_by_language = df_tmdb_mov['original_language'].value_counts()\n",
    "print(count_by_language)"
   ]
  },
  {
   "cell_type": "markdown",
   "id": "be7b0ce5",
   "metadata": {},
   "source": [
    "## Data visualization"
   ]
  },
  {
   "cell_type": "code",
   "execution_count": 5,
   "id": "25dafc1f",
   "metadata": {},
   "outputs": [
    {
     "data": {
      "image/png": "[encoded data removed]",
      "text/plain": [
       "<Figure size 1000x600 with 1 Axes>"
      ]
     },
     "metadata": {},
     "output_type": "display_data"
    }
   ],
   "source": [
    "# the following is a simple bar plot to visualize the count of movies by original language\n",
    "import matplotlib.pyplot as plt\n",
    "top_languages = df_tmdb_mov['original_language'].value_counts().nlargest(5).index\n",
    "filtered_df = df_tmdb_mov[df_tmdb_mov['original_language'].isin(top_languages)]\n",
    "\n",
    "plt.figure(figsize=(10, 6))\n",
    "sns.barplot(data=filtered_df, x='original_language', y='popularity')\n",
    "plt.title('Popularity by Top Original Languages')\n",
    "plt.xlabel('Original Language')\n",
    "plt.ylabel('Popularity')\n",
    "plt.tight_layout()\n",
    "plt.show()"
   ]
  },
  {
   "cell_type": "markdown",
   "id": "81af8f18",
   "metadata": {},
   "source": [
    "Inference: Japanese is obsereved to have a higher popularity despite having less movie counts compares to a language like English that is the most common.  "
   ]
  },
  {
   "cell_type": "markdown",
   "id": "ab5d1df7",
   "metadata": {},
   "source": [
    "### Checking for normality"
   ]
  },
  {
   "cell_type": "code",
   "execution_count": 6,
   "id": "ef7b6e00",
   "metadata": {},
   "outputs": [
    {
     "name": "stdout",
     "output_type": "stream",
     "text": [
      "\n",
      "Language: en\n"
     ]
    },
    {
     "data": {
      "image/png": "[encoded data removed]",
      "text/plain": [
       "<Figure size 640x480 with 1 Axes>"
      ]
     },
     "metadata": {},
     "output_type": "display_data"
    },
    {
     "name": "stdout",
     "output_type": "stream",
     "text": [
      "\n",
      "Language: fr\n"
     ]
    },
    {
     "data": {
      "image/png": "[encoded data removed]",
      "text/plain": [
       "<Figure size 640x480 with 1 Axes>"
      ]
     },
     "metadata": {},
     "output_type": "display_data"
    },
    {
     "name": "stdout",
     "output_type": "stream",
     "text": [
      "\n",
      "Language: es\n"
     ]
    },
    {
     "data": {
      "image/png": "[encoded data removed]",
      "text/plain": [
       "<Figure size 640x480 with 1 Axes>"
      ]
     },
     "metadata": {},
     "output_type": "display_data"
    },
    {
     "name": "stdout",
     "output_type": "stream",
     "text": [
      "\n",
      "Language: ru\n"
     ]
    },
    {
     "data": {
      "image/png": "[encoded data removed]",
      "text/plain": [
       "<Figure size 640x480 with 1 Axes>"
      ]
     },
     "metadata": {},
     "output_type": "display_data"
    },
    {
     "name": "stdout",
     "output_type": "stream",
     "text": [
      "\n",
      "Language: ja\n"
     ]
    },
    {
     "data": {
      "image/png": "[encoded data removed]",
      "text/plain": [
       "<Figure size 640x480 with 1 Axes>"
      ]
     },
     "metadata": {},
     "output_type": "display_data"
    }
   ],
   "source": [
    "top_languages = df_tmdb_mov['original_language'].value_counts().nlargest(5).index\n",
    "\n",
    "for lang in top_languages:\n",
    "    lang_data = df_tmdb_mov[df_tmdb_mov['original_language'] == lang]['popularity']\n",
    "    \n",
    "    print(f'\\nLanguage: {lang}')\n",
    "\n",
    "    # Histogram\n",
    "    sns.histplot(lang_data, kde=True)\n",
    "    plt.title(f'Popularity Distribution - {lang}')\n",
    "    plt.xlabel('Popularity')\n",
    "    plt.ylabel('Frequency')\n",
    "    plt.show()"
   ]
  },
  {
   "cell_type": "markdown",
   "id": "b8639cc3",
   "metadata": {},
   "source": [
    "###  Hypothesis testing"
   ]
  },
  {
   "cell_type": "code",
   "execution_count": 7,
   "id": "755bd7d2",
   "metadata": {},
   "outputs": [
    {
     "name": "stdout",
     "output_type": "stream",
     "text": [
      "ANOVA test: F-statistic = 34.246, p-value = 0.0000\n"
     ]
    }
   ],
   "source": [
    "# Group popularity by language\n",
    "groups = [filtered_df[filtered_df['original_language'] == lang]['popularity'] for lang in top_languages]\n",
    "\n",
    "from scipy.stats import f_oneway\n",
    "# Perform one-way ANOVA\n",
    "f_stat, p_val = f_oneway(*groups)\n",
    "\n",
    "print(f\"ANOVA test: F-statistic = {f_stat:.3f}, p-value = {p_val:.4f}\")"
   ]
  },
  {
   "cell_type": "markdown",
   "id": "be4797f0",
   "metadata": {},
   "source": [
    "There is a significant difference in average popularity among languages since p<0.05"
   ]
  },
  {
   "cell_type": "markdown",
   "id": "c4f8c9a1",
   "metadata": {},
   "source": [
    "## The second dataset"
   ]
  },
  {
   "cell_type": "markdown",
   "id": "ac920a63",
   "metadata": {},
   "source": [
    "The second dataset under investigation is 'tn.movie_budgets.csv'."
   ]
  },
  {
   "cell_type": "markdown",
   "id": "fc7ac0d7",
   "metadata": {},
   "source": [
    "### Data loading, extraction, cleaning and analysis"
   ]
  },
  {
   "cell_type": "code",
   "execution_count": 8,
   "id": "e7b2e7ea",
   "metadata": {},
   "outputs": [
    {
     "data": {
      "text/html": [
       "<div>\n",
       "<style scoped>\n",
       "    .dataframe tbody tr th:only-of-type {\n",
       "        vertical-align: middle;\n",
       "    }\n",
       "\n",
       "    .dataframe tbody tr th {\n",
       "        vertical-align: top;\n",
       "    }\n",
       "\n",
       "    .dataframe thead th {\n",
       "        text-align: right;\n",
       "    }\n",
       "</style>\n",
       "<table border=\"1\" class=\"dataframe\">\n",
       "  <thead>\n",
       "    <tr style=\"text-align: right;\">\n",
       "      <th></th>\n",
       "      <th>id</th>\n",
       "      <th>release_date</th>\n",
       "      <th>movie</th>\n",
       "      <th>production_budget</th>\n",
       "      <th>domestic_gross</th>\n",
       "      <th>worldwide_gross</th>\n",
       "      <th>revenue</th>\n",
       "      <th>profit</th>\n",
       "      <th>roi</th>\n",
       "      <th>release_year</th>\n",
       "      <th>release_month</th>\n",
       "    </tr>\n",
       "  </thead>\n",
       "  <tbody>\n",
       "    <tr>\n",
       "      <th>0</th>\n",
       "      <td>1</td>\n",
       "      <td>1959-07-18</td>\n",
       "      <td>The Nun's Story</td>\n",
       "      <td>3500000</td>\n",
       "      <td>12800000</td>\n",
       "      <td>12800000</td>\n",
       "      <td>25600000</td>\n",
       "      <td>22100000</td>\n",
       "      <td>6.314286</td>\n",
       "      <td>1959</td>\n",
       "      <td>7</td>\n",
       "    </tr>\n",
       "    <tr>\n",
       "      <th>1</th>\n",
       "      <td>1</td>\n",
       "      <td>1962-06-13</td>\n",
       "      <td>Lolita</td>\n",
       "      <td>2000000</td>\n",
       "      <td>9250000</td>\n",
       "      <td>9250000</td>\n",
       "      <td>18500000</td>\n",
       "      <td>16500000</td>\n",
       "      <td>8.250000</td>\n",
       "      <td>1962</td>\n",
       "      <td>6</td>\n",
       "    </tr>\n",
       "    <tr>\n",
       "      <th>2</th>\n",
       "      <td>1</td>\n",
       "      <td>1974-02-07</td>\n",
       "      <td>Blazing Saddles</td>\n",
       "      <td>2600000</td>\n",
       "      <td>119500000</td>\n",
       "      <td>119500000</td>\n",
       "      <td>239000000</td>\n",
       "      <td>236400000</td>\n",
       "      <td>90.923077</td>\n",
       "      <td>1974</td>\n",
       "      <td>2</td>\n",
       "    </tr>\n",
       "    <tr>\n",
       "      <th>3</th>\n",
       "      <td>1</td>\n",
       "      <td>1978-06-16</td>\n",
       "      <td>Jaws 2</td>\n",
       "      <td>20000000</td>\n",
       "      <td>102922376</td>\n",
       "      <td>208900376</td>\n",
       "      <td>311822752</td>\n",
       "      <td>291822752</td>\n",
       "      <td>14.591138</td>\n",
       "      <td>1978</td>\n",
       "      <td>6</td>\n",
       "    </tr>\n",
       "    <tr>\n",
       "      <th>4</th>\n",
       "      <td>1</td>\n",
       "      <td>1980-11-14</td>\n",
       "      <td>Raging Bull</td>\n",
       "      <td>18000000</td>\n",
       "      <td>23380203</td>\n",
       "      <td>23380203</td>\n",
       "      <td>46760406</td>\n",
       "      <td>28760406</td>\n",
       "      <td>1.597800</td>\n",
       "      <td>1980</td>\n",
       "      <td>11</td>\n",
       "    </tr>\n",
       "  </tbody>\n",
       "</table>\n",
       "</div>"
      ],
      "text/plain": [
       "   id release_date            movie  production_budget  domestic_gross  \\\n",
       "0   1   1959-07-18  The Nun's Story            3500000        12800000   \n",
       "1   1   1962-06-13           Lolita            2000000         9250000   \n",
       "2   1   1974-02-07  Blazing Saddles            2600000       119500000   \n",
       "3   1   1978-06-16           Jaws 2           20000000       102922376   \n",
       "4   1   1980-11-14      Raging Bull           18000000        23380203   \n",
       "\n",
       "   worldwide_gross    revenue     profit        roi  release_year  \\\n",
       "0         12800000   25600000   22100000   6.314286          1959   \n",
       "1          9250000   18500000   16500000   8.250000          1962   \n",
       "2        119500000  239000000  236400000  90.923077          1974   \n",
       "3        208900376  311822752  291822752  14.591138          1978   \n",
       "4         23380203   46760406   28760406   1.597800          1980   \n",
       "\n",
       "   release_month  \n",
       "0              7  \n",
       "1              6  \n",
       "2              2  \n",
       "3              6  \n",
       "4             11  "
      ]
     },
     "execution_count": 8,
     "metadata": {},
     "output_type": "execute_result"
    }
   ],
   "source": [
    "df_tmdb_mov_bud = pd.read_csv('tn.movie_budgets.csv')\n",
    "df_tmdb_mov_bud.head()"
   ]
  },
  {
   "cell_type": "code",
   "execution_count": 9,
   "id": "53674594",
   "metadata": {},
   "outputs": [],
   "source": [
    "cols = ['production_budget', 'domestic_gross', 'worldwide_gross']\n",
    "for col in cols:\n",
    "    # Remove non-numeric characters\n",
    "    df_tmdb_mov_bud[col] = df_tmdb_mov_bud[col].replace('[\\$,]', '', regex=True)\n",
    "    # Convert to numeric, set errors='coerce' to handle bad data\n",
    "    df_tmdb_mov_bud[col] = pd.to_numeric(df_tmdb_mov_bud[col], errors='coerce')"
   ]
  },
  {
   "cell_type": "code",
   "execution_count": 10,
   "id": "efedc594",
   "metadata": {},
   "outputs": [],
   "source": [
    "cols = ['production_budget', 'domestic_gross', 'worldwide_gross']\n",
    "for col in cols:\n",
    "    df_tmdb_mov_bud[col] = df_tmdb_mov_bud[col].replace('[\\$,]', '', regex=True).astype(int)"
   ]
  },
  {
   "cell_type": "code",
   "execution_count": 11,
   "id": "cf9f8a5f",
   "metadata": {},
   "outputs": [],
   "source": [
    "## Remove rows where 'budget' values are missing or zero\n",
    "df_tmdb_mov_bud = df_tmdb_mov_bud.dropna(subset=['domestic_gross','worldwide_gross', 'production_budget'])\n",
    "df_tmdb_mov_bud = df_tmdb_mov_bud[\n",
    "    (df_tmdb_mov_bud['domestic_gross'] != 0) &\n",
    "    (df_tmdb_mov_bud['worldwide_gross'] != 0) &\n",
    "    (df_tmdb_mov_bud['production_budget'] != 0)\n",
    "]"
   ]
  },
  {
   "cell_type": "code",
   "execution_count": 12,
   "id": "b5c03c08",
   "metadata": {},
   "outputs": [],
   "source": [
    "# create a new column 'revenue' as the sum of 'domestic_gross' and 'worldwide_gross'\n",
    "df_tmdb_mov_bud['revenue'] = df_tmdb_mov_bud['domestic_gross'] + df_tmdb_mov_bud['worldwide_gross']"
   ]
  },
  {
   "cell_type": "code",
   "execution_count": 13,
   "id": "9edddef8",
   "metadata": {},
   "outputs": [],
   "source": [
    "# create a new column 'revenue' as the sum of 'domestic_gross' and 'worldwide_gross'\n",
    "df_tmdb_mov_bud['revenue'] = df_tmdb_mov_bud['domestic_gross'] + df_tmdb_mov_bud['worldwide_gross']"
   ]
  },
  {
   "cell_type": "code",
   "execution_count": 14,
   "id": "84a7b6d6",
   "metadata": {},
   "outputs": [],
   "source": [
    "# create ROI = (revenue - production_budget) / production_budget\n",
    "df_tmdb_mov_bud['roi'] = (df_tmdb_mov_bud['revenue'] - df_tmdb_mov_bud['production_budget']) / df_tmdb_mov_bud['production_budget']"
   ]
  },
  {
   "cell_type": "markdown",
   "id": "9adbb5f9",
   "metadata": {},
   "source": [
    "# Convert 'release_date' to datetime\n",
    "df_tmdb_mov_bud['release_date'] = pd.to_datetime(df_tmdb_mov_bud['release_date'], errors='coerce')\n",
    "\n",
    "# Extract year and month into new columns\n",
    "df_tmdb_mov_bud['release_year'] = df_tmdb_mov_bud['release_date'].dt.year\n",
    "df_tmdb_mov_bud['release_month'] = df_tmdb_mov_bud['release_date'].dt.month"
   ]
  },
  {
   "cell_type": "code",
   "execution_count": 15,
   "id": "2f520593",
   "metadata": {},
   "outputs": [
    {
     "name": "stdout",
     "output_type": "stream",
     "text": [
      "<class 'pandas.core.frame.DataFrame'>\n",
      "Int64Index: 5234 entries, 0 to 5233\n",
      "Data columns (total 11 columns):\n",
      " #   Column             Non-Null Count  Dtype  \n",
      "---  ------             --------------  -----  \n",
      " 0   id                 5234 non-null   int64  \n",
      " 1   release_date       5234 non-null   object \n",
      " 2   movie              5234 non-null   object \n",
      " 3   production_budget  5234 non-null   int32  \n",
      " 4   domestic_gross     5234 non-null   int32  \n",
      " 5   worldwide_gross    5234 non-null   int32  \n",
      " 6   revenue            5234 non-null   int32  \n",
      " 7   profit             5234 non-null   int64  \n",
      " 8   roi                5234 non-null   float64\n",
      " 9   release_year       5234 non-null   int64  \n",
      " 10  release_month      5234 non-null   int64  \n",
      "dtypes: float64(1), int32(4), int64(4), object(2)\n",
      "memory usage: 408.9+ KB\n"
     ]
    },
    {
     "data": {
      "text/plain": [
       "id                   0\n",
       "release_date         0\n",
       "movie                0\n",
       "production_budget    0\n",
       "domestic_gross       0\n",
       "worldwide_gross      0\n",
       "revenue              0\n",
       "profit               0\n",
       "roi                  0\n",
       "release_year         0\n",
       "release_month        0\n",
       "dtype: int64"
      ]
     },
     "execution_count": 15,
     "metadata": {},
     "output_type": "execute_result"
    }
   ],
   "source": [
    "df_tmdb_mov_bud.info()\n",
    "df_tmdb_mov_bud.shape\n",
    "df_tmdb_mov_bud.duplicated().sum()\n",
    "df_tmdb_mov_bud.isnull().sum()"
   ]
  },
  {
   "cell_type": "markdown",
   "id": "293096a1",
   "metadata": {},
   "source": []
  },
  {
   "cell_type": "code",
   "execution_count": 16,
   "id": "fa9261eb",
   "metadata": {},
   "outputs": [
    {
     "data": {
      "text/html": [
       "<div>\n",
       "<style scoped>\n",
       "    .dataframe tbody tr th:only-of-type {\n",
       "        vertical-align: middle;\n",
       "    }\n",
       "\n",
       "    .dataframe tbody tr th {\n",
       "        vertical-align: top;\n",
       "    }\n",
       "\n",
       "    .dataframe thead th {\n",
       "        text-align: right;\n",
       "    }\n",
       "</style>\n",
       "<table border=\"1\" class=\"dataframe\">\n",
       "  <thead>\n",
       "    <tr style=\"text-align: right;\">\n",
       "      <th></th>\n",
       "      <th>id</th>\n",
       "      <th>release_date</th>\n",
       "      <th>movie</th>\n",
       "      <th>production_budget</th>\n",
       "      <th>domestic_gross</th>\n",
       "      <th>worldwide_gross</th>\n",
       "      <th>revenue</th>\n",
       "      <th>profit</th>\n",
       "      <th>roi</th>\n",
       "      <th>release_year</th>\n",
       "      <th>release_month</th>\n",
       "    </tr>\n",
       "  </thead>\n",
       "  <tbody>\n",
       "    <tr>\n",
       "      <th>0</th>\n",
       "      <td>1</td>\n",
       "      <td>1959-07-18</td>\n",
       "      <td>The Nun's Story</td>\n",
       "      <td>3500000</td>\n",
       "      <td>12800000</td>\n",
       "      <td>12800000</td>\n",
       "      <td>25600000</td>\n",
       "      <td>22100000</td>\n",
       "      <td>6.314286</td>\n",
       "      <td>1959</td>\n",
       "      <td>7</td>\n",
       "    </tr>\n",
       "    <tr>\n",
       "      <th>1</th>\n",
       "      <td>1</td>\n",
       "      <td>1962-06-13</td>\n",
       "      <td>Lolita</td>\n",
       "      <td>2000000</td>\n",
       "      <td>9250000</td>\n",
       "      <td>9250000</td>\n",
       "      <td>18500000</td>\n",
       "      <td>16500000</td>\n",
       "      <td>8.250000</td>\n",
       "      <td>1962</td>\n",
       "      <td>6</td>\n",
       "    </tr>\n",
       "    <tr>\n",
       "      <th>2</th>\n",
       "      <td>1</td>\n",
       "      <td>1974-02-07</td>\n",
       "      <td>Blazing Saddles</td>\n",
       "      <td>2600000</td>\n",
       "      <td>119500000</td>\n",
       "      <td>119500000</td>\n",
       "      <td>239000000</td>\n",
       "      <td>236400000</td>\n",
       "      <td>90.923077</td>\n",
       "      <td>1974</td>\n",
       "      <td>2</td>\n",
       "    </tr>\n",
       "    <tr>\n",
       "      <th>3</th>\n",
       "      <td>1</td>\n",
       "      <td>1978-06-16</td>\n",
       "      <td>Jaws 2</td>\n",
       "      <td>20000000</td>\n",
       "      <td>102922376</td>\n",
       "      <td>208900376</td>\n",
       "      <td>311822752</td>\n",
       "      <td>291822752</td>\n",
       "      <td>14.591138</td>\n",
       "      <td>1978</td>\n",
       "      <td>6</td>\n",
       "    </tr>\n",
       "    <tr>\n",
       "      <th>4</th>\n",
       "      <td>1</td>\n",
       "      <td>1980-11-14</td>\n",
       "      <td>Raging Bull</td>\n",
       "      <td>18000000</td>\n",
       "      <td>23380203</td>\n",
       "      <td>23380203</td>\n",
       "      <td>46760406</td>\n",
       "      <td>28760406</td>\n",
       "      <td>1.597800</td>\n",
       "      <td>1980</td>\n",
       "      <td>11</td>\n",
       "    </tr>\n",
       "  </tbody>\n",
       "</table>\n",
       "</div>"
      ],
      "text/plain": [
       "   id release_date            movie  production_budget  domestic_gross  \\\n",
       "0   1   1959-07-18  The Nun's Story            3500000        12800000   \n",
       "1   1   1962-06-13           Lolita            2000000         9250000   \n",
       "2   1   1974-02-07  Blazing Saddles            2600000       119500000   \n",
       "3   1   1978-06-16           Jaws 2           20000000       102922376   \n",
       "4   1   1980-11-14      Raging Bull           18000000        23380203   \n",
       "\n",
       "   worldwide_gross    revenue     profit        roi  release_year  \\\n",
       "0         12800000   25600000   22100000   6.314286          1959   \n",
       "1          9250000   18500000   16500000   8.250000          1962   \n",
       "2        119500000  239000000  236400000  90.923077          1974   \n",
       "3        208900376  311822752  291822752  14.591138          1978   \n",
       "4         23380203   46760406   28760406   1.597800          1980   \n",
       "\n",
       "   release_month  \n",
       "0              7  \n",
       "1              6  \n",
       "2              2  \n",
       "3              6  \n",
       "4             11  "
      ]
     },
     "execution_count": 16,
     "metadata": {},
     "output_type": "execute_result"
    }
   ],
   "source": [
    "df_tmdb_mov_bud_sorted = df_tmdb_mov_bud.sort_values(\n",
    "    by=['id','release_date','production_budget', 'domestic_gross', 'worldwide_gross','release_year','release_month', 'revenue', 'profit', 'roi'],\n",
    "    ascending=True)\n",
    "df_tmdb_mov_bud_sorted.head()"
   ]
  },
  {
   "cell_type": "code",
   "execution_count": 17,
   "id": "2f72f9cd",
   "metadata": {},
   "outputs": [
    {
     "data": {
      "text/plain": [
       "425000000"
      ]
     },
     "execution_count": 17,
     "metadata": {},
     "output_type": "execute_result"
    }
   ],
   "source": [
    "df_tmdb_mov_bud['production_budget'].max()"
   ]
  },
  {
   "cell_type": "code",
   "execution_count": 18,
   "id": "41024faf",
   "metadata": {},
   "outputs": [],
   "source": [
    "#Saving df_tmdb_mov_bud_sorted as a csv file\n",
    "df_tmdb_mov_bud_sorted.to_csv('tn.movie_budgets.csv', index= False)"
   ]
  },
  {
   "cell_type": "markdown",
   "id": "e67a76db",
   "metadata": {},
   "source": [
    "### Data visualization"
   ]
  },
  {
   "cell_type": "code",
   "execution_count": 19,
   "id": "d82a938b",
   "metadata": {},
   "outputs": [],
   "source": [
    "# Create labeled budget range column\n",
    "bin_edges = [0, 10_000_000, 50_000_000, 100_000_000, 200_000_000, 300_000_000, 425_000_000]\n",
    "bin_labels = ['0–10M', '10M–50M', '50M–100M', '100M–200M', '200M–300M', '300M–425M']\n",
    "df_tmdb_mov_bud['budget_range'] = pd.cut(df_tmdb_mov_bud['production_budget'], bins=bin_edges, labels=bin_labels, include_lowest=True)"
   ]
  },
  {
   "cell_type": "code",
   "execution_count": 20,
   "id": "0bb4c9c4",
   "metadata": {},
   "outputs": [
    {
     "data": {
      "image/png": "[encoded data removed]",
      "text/plain": [
       "<Figure size 1000x600 with 1 Axes>"
      ]
     },
     "metadata": {},
     "output_type": "display_data"
    }
   ],
   "source": [
    "plt.figure(figsize=(10, 6))\n",
    "sns.barplot(data=df_tmdb_mov_bud, x='budget_range', y='roi', palette='viridis')\n",
    "\n",
    "plt.title('ROI by Production Budget Range')\n",
    "plt.xlabel('Production Budget Range')\n",
    "plt.ylabel('ROI')\n",
    "plt.xticks(rotation=0, fontsize=10)  # Keep horizontal and readable\n",
    "plt.tight_layout()\n",
    "plt.show()"
   ]
  },
  {
   "cell_type": "markdown",
   "id": "7aa0e242",
   "metadata": {},
   "source": [
    "The lower budgeted movies have the highest return on interest compared to the highest budgeted movies which have lowest return on interest."
   ]
  },
  {
   "cell_type": "markdown",
   "id": "124469db",
   "metadata": {},
   "source": [
    "### Hypothesis testing"
   ]
  },
  {
   "cell_type": "code",
   "execution_count": 21,
   "id": "4f3d691f",
   "metadata": {},
   "outputs": [
    {
     "name": "stdout",
     "output_type": "stream",
     "text": [
      "ANOVA: F = 10.263, p = 0.0000\n"
     ]
    }
   ],
   "source": [
    "# Group ROI by range\n",
    "groups = [group['roi'] for _, group in df_tmdb_mov_bud.groupby('budget_range')]\n",
    "\n",
    "# ANOVA\n",
    "f_stat, p_val = f_oneway(*groups)\n",
    "print(f\"ANOVA: F = {f_stat:.3f}, p = {p_val:.4f}\")"
   ]
  },
  {
   "cell_type": "markdown",
   "id": "fec54b3c",
   "metadata": {},
   "source": [
    "There is a statistical significance in ROI across budget ranges since p<0.05"
   ]
  },
  {
   "cell_type": "markdown",
   "id": "7e441ce3",
   "metadata": {},
   "source": [
    "## The third dataset"
   ]
  },
  {
   "cell_type": "markdown",
   "id": "9cf80ebc",
   "metadata": {},
   "source": [
    "The third dataset under investigation is 'bom.movie_gross.csv'."
   ]
  },
  {
   "cell_type": "markdown",
   "id": "f6ee556f",
   "metadata": {},
   "source": [
    "### Data loading, extraction, cleaning and analysis"
   ]
  },
  {
   "cell_type": "code",
   "execution_count": 22,
   "id": "85fd75b1",
   "metadata": {},
   "outputs": [
    {
     "data": {
      "text/html": [
       "<div>\n",
       "<style scoped>\n",
       "    .dataframe tbody tr th:only-of-type {\n",
       "        vertical-align: middle;\n",
       "    }\n",
       "\n",
       "    .dataframe tbody tr th {\n",
       "        vertical-align: top;\n",
       "    }\n",
       "\n",
       "    .dataframe thead th {\n",
       "        text-align: right;\n",
       "    }\n",
       "</style>\n",
       "<table border=\"1\" class=\"dataframe\">\n",
       "  <thead>\n",
       "    <tr style=\"text-align: right;\">\n",
       "      <th></th>\n",
       "      <th>title</th>\n",
       "      <th>studio</th>\n",
       "      <th>domestic_gross</th>\n",
       "      <th>foreign_gross</th>\n",
       "      <th>year</th>\n",
       "      <th>revenue</th>\n",
       "    </tr>\n",
       "  </thead>\n",
       "  <tbody>\n",
       "    <tr>\n",
       "      <th>0</th>\n",
       "      <td>Toy Story 3</td>\n",
       "      <td>BV</td>\n",
       "      <td>415000000.0</td>\n",
       "      <td>652000000.0</td>\n",
       "      <td>2010</td>\n",
       "      <td>1.067000e+09</td>\n",
       "    </tr>\n",
       "    <tr>\n",
       "      <th>1</th>\n",
       "      <td>Alice in Wonderland (2010)</td>\n",
       "      <td>BV</td>\n",
       "      <td>334200000.0</td>\n",
       "      <td>691300000.0</td>\n",
       "      <td>2010</td>\n",
       "      <td>1.025500e+09</td>\n",
       "    </tr>\n",
       "    <tr>\n",
       "      <th>2</th>\n",
       "      <td>Harry Potter and the Deathly Hallows Part 1</td>\n",
       "      <td>WB</td>\n",
       "      <td>296000000.0</td>\n",
       "      <td>664300000.0</td>\n",
       "      <td>2010</td>\n",
       "      <td>9.603000e+08</td>\n",
       "    </tr>\n",
       "    <tr>\n",
       "      <th>3</th>\n",
       "      <td>Inception</td>\n",
       "      <td>WB</td>\n",
       "      <td>292600000.0</td>\n",
       "      <td>535700000.0</td>\n",
       "      <td>2010</td>\n",
       "      <td>8.283000e+08</td>\n",
       "    </tr>\n",
       "    <tr>\n",
       "      <th>4</th>\n",
       "      <td>Shrek Forever After</td>\n",
       "      <td>P/DW</td>\n",
       "      <td>238700000.0</td>\n",
       "      <td>513900000.0</td>\n",
       "      <td>2010</td>\n",
       "      <td>7.526000e+08</td>\n",
       "    </tr>\n",
       "    <tr>\n",
       "      <th>...</th>\n",
       "      <td>...</td>\n",
       "      <td>...</td>\n",
       "      <td>...</td>\n",
       "      <td>...</td>\n",
       "      <td>...</td>\n",
       "      <td>...</td>\n",
       "    </tr>\n",
       "    <tr>\n",
       "      <th>2002</th>\n",
       "      <td>I Still See You</td>\n",
       "      <td>LGF</td>\n",
       "      <td>1400.0</td>\n",
       "      <td>1500000.0</td>\n",
       "      <td>2018</td>\n",
       "      <td>1.501400e+06</td>\n",
       "    </tr>\n",
       "    <tr>\n",
       "      <th>2003</th>\n",
       "      <td>The Catcher Was a Spy</td>\n",
       "      <td>IFC</td>\n",
       "      <td>725000.0</td>\n",
       "      <td>229000.0</td>\n",
       "      <td>2018</td>\n",
       "      <td>9.540000e+05</td>\n",
       "    </tr>\n",
       "    <tr>\n",
       "      <th>2004</th>\n",
       "      <td>Time Freak</td>\n",
       "      <td>Grindstone</td>\n",
       "      <td>10000.0</td>\n",
       "      <td>256000.0</td>\n",
       "      <td>2018</td>\n",
       "      <td>2.660000e+05</td>\n",
       "    </tr>\n",
       "    <tr>\n",
       "      <th>2005</th>\n",
       "      <td>Reign of Judges: Title of Liberty - Concept Short</td>\n",
       "      <td>Darin Southa</td>\n",
       "      <td>93200.0</td>\n",
       "      <td>5200.0</td>\n",
       "      <td>2018</td>\n",
       "      <td>9.840000e+04</td>\n",
       "    </tr>\n",
       "    <tr>\n",
       "      <th>2006</th>\n",
       "      <td>Antonio Lopez 1970: Sex Fashion &amp; Disco</td>\n",
       "      <td>FM</td>\n",
       "      <td>43200.0</td>\n",
       "      <td>30000.0</td>\n",
       "      <td>2018</td>\n",
       "      <td>7.320000e+04</td>\n",
       "    </tr>\n",
       "  </tbody>\n",
       "</table>\n",
       "<p>2007 rows × 6 columns</p>\n",
       "</div>"
      ],
      "text/plain": [
       "                                                  title        studio  \\\n",
       "0                                           Toy Story 3            BV   \n",
       "1                            Alice in Wonderland (2010)            BV   \n",
       "2           Harry Potter and the Deathly Hallows Part 1            WB   \n",
       "3                                             Inception            WB   \n",
       "4                                   Shrek Forever After          P/DW   \n",
       "...                                                 ...           ...   \n",
       "2002                                    I Still See You           LGF   \n",
       "2003                              The Catcher Was a Spy           IFC   \n",
       "2004                                         Time Freak    Grindstone   \n",
       "2005  Reign of Judges: Title of Liberty - Concept Short  Darin Southa   \n",
       "2006            Antonio Lopez 1970: Sex Fashion & Disco            FM   \n",
       "\n",
       "      domestic_gross  foreign_gross  year       revenue  \n",
       "0        415000000.0    652000000.0  2010  1.067000e+09  \n",
       "1        334200000.0    691300000.0  2010  1.025500e+09  \n",
       "2        296000000.0    664300000.0  2010  9.603000e+08  \n",
       "3        292600000.0    535700000.0  2010  8.283000e+08  \n",
       "4        238700000.0    513900000.0  2010  7.526000e+08  \n",
       "...              ...            ...   ...           ...  \n",
       "2002          1400.0      1500000.0  2018  1.501400e+06  \n",
       "2003        725000.0       229000.0  2018  9.540000e+05  \n",
       "2004         10000.0       256000.0  2018  2.660000e+05  \n",
       "2005         93200.0         5200.0  2018  9.840000e+04  \n",
       "2006         43200.0        30000.0  2018  7.320000e+04  \n",
       "\n",
       "[2007 rows x 6 columns]"
      ]
     },
     "execution_count": 22,
     "metadata": {},
     "output_type": "execute_result"
    }
   ],
   "source": [
    "df_tmdb_mov_gross = pd.read_csv('bom.movie_gross.csv')\n",
    "df_tmdb_mov_gross"
   ]
  },
  {
   "cell_type": "code",
   "execution_count": 23,
   "id": "739095bb",
   "metadata": {},
   "outputs": [],
   "source": [
    "cols = ['domestic_gross', 'foreign_gross']\n",
    "for col in cols:\n",
    "    # Remove non-numeric characters\n",
    "    df_tmdb_mov_gross[col] = df_tmdb_mov_gross[col].replace('[\\$,]', '', regex=True)\n",
    "    # Convert to numeric, set errors='coerce' to handle bad data\n",
    "    df_tmdb_mov_gross[col] = pd.to_numeric(df_tmdb_mov_gross[col], errors='coerce')"
   ]
  },
  {
   "cell_type": "code",
   "execution_count": 24,
   "id": "83959e5f",
   "metadata": {},
   "outputs": [],
   "source": [
    "## Remove rows where 'revenue' or 'budget' are missing or zero\n",
    "df_tmdb_mov_gross = df_tmdb_mov_gross.dropna(subset=['domestic_gross','foreign_gross'])\n",
    "df_tmdb_mov_gross = df_tmdb_mov_gross[\n",
    "    (df_tmdb_mov_gross['domestic_gross'] != 0) &\n",
    "    (df_tmdb_mov_gross['foreign_gross'] != 0)\n",
    "]"
   ]
  },
  {
   "cell_type": "code",
   "execution_count": 25,
   "id": "b3fdb61f",
   "metadata": {},
   "outputs": [],
   "source": [
    "# creating the 'revenue' column by summing 'domestic_gross' and 'foreign_gross'\n",
    "df_tmdb_mov_gross['revenue'] = df_tmdb_mov_gross['domestic_gross'] + df_tmdb_mov_gross['foreign_gross']"
   ]
  },
  {
   "cell_type": "code",
   "execution_count": 26,
   "id": "eceed3a2",
   "metadata": {},
   "outputs": [
    {
     "name": "stdout",
     "output_type": "stream",
     "text": [
      "<class 'pandas.core.frame.DataFrame'>\n",
      "Int64Index: 2007 entries, 0 to 2006\n",
      "Data columns (total 6 columns):\n",
      " #   Column          Non-Null Count  Dtype  \n",
      "---  ------          --------------  -----  \n",
      " 0   title           2007 non-null   object \n",
      " 1   studio          2007 non-null   object \n",
      " 2   domestic_gross  2007 non-null   float64\n",
      " 3   foreign_gross   2007 non-null   float64\n",
      " 4   year            2007 non-null   int64  \n",
      " 5   revenue         2007 non-null   float64\n",
      "dtypes: float64(3), int64(1), object(2)\n",
      "memory usage: 109.8+ KB\n"
     ]
    },
    {
     "data": {
      "text/plain": [
       "title             0\n",
       "studio            0\n",
       "domestic_gross    0\n",
       "foreign_gross     0\n",
       "year              0\n",
       "revenue           0\n",
       "dtype: int64"
      ]
     },
     "execution_count": 26,
     "metadata": {},
     "output_type": "execute_result"
    }
   ],
   "source": [
    "df_tmdb_mov_gross.info()\n",
    "df_tmdb_mov_gross.shape\n",
    "df_tmdb_mov_gross.duplicated().sum()\n",
    "df_tmdb_mov_gross.isnull().sum()"
   ]
  },
  {
   "cell_type": "code",
   "execution_count": 27,
   "id": "10bd0444",
   "metadata": {},
   "outputs": [],
   "source": [
    "#Dropping rows with missing 'studio' values\n",
    "df_tmdb_mov_gross = df_tmdb_mov_gross.dropna(subset=['studio'])"
   ]
  },
  {
   "cell_type": "code",
   "execution_count": 28,
   "id": "9e6d2e29",
   "metadata": {},
   "outputs": [
    {
     "data": {
      "text/plain": [
       "title             0\n",
       "studio            0\n",
       "domestic_gross    0\n",
       "foreign_gross     0\n",
       "year              0\n",
       "revenue           0\n",
       "dtype: int64"
      ]
     },
     "execution_count": 28,
     "metadata": {},
     "output_type": "execute_result"
    }
   ],
   "source": [
    "df_tmdb_mov_gross.shape\n",
    "df_tmdb_mov_gross.isnull().sum()"
   ]
  },
  {
   "cell_type": "code",
   "execution_count": 29,
   "id": "114961bc",
   "metadata": {},
   "outputs": [
    {
     "data": {
      "text/html": [
       "<div>\n",
       "<style scoped>\n",
       "    .dataframe tbody tr th:only-of-type {\n",
       "        vertical-align: middle;\n",
       "    }\n",
       "\n",
       "    .dataframe tbody tr th {\n",
       "        vertical-align: top;\n",
       "    }\n",
       "\n",
       "    .dataframe thead th {\n",
       "        text-align: right;\n",
       "    }\n",
       "</style>\n",
       "<table border=\"1\" class=\"dataframe\">\n",
       "  <thead>\n",
       "    <tr style=\"text-align: right;\">\n",
       "      <th></th>\n",
       "      <th>title</th>\n",
       "      <th>studio</th>\n",
       "      <th>domestic_gross</th>\n",
       "      <th>foreign_gross</th>\n",
       "      <th>year</th>\n",
       "      <th>revenue</th>\n",
       "    </tr>\n",
       "  </thead>\n",
       "  <tbody>\n",
       "    <tr>\n",
       "      <th>0</th>\n",
       "      <td>Toy Story 3</td>\n",
       "      <td>BV</td>\n",
       "      <td>415000000.0</td>\n",
       "      <td>652000000.0</td>\n",
       "      <td>2010</td>\n",
       "      <td>1.067000e+09</td>\n",
       "    </tr>\n",
       "    <tr>\n",
       "      <th>1</th>\n",
       "      <td>Alice in Wonderland (2010)</td>\n",
       "      <td>BV</td>\n",
       "      <td>334200000.0</td>\n",
       "      <td>691300000.0</td>\n",
       "      <td>2010</td>\n",
       "      <td>1.025500e+09</td>\n",
       "    </tr>\n",
       "    <tr>\n",
       "      <th>2</th>\n",
       "      <td>Harry Potter and the Deathly Hallows Part 1</td>\n",
       "      <td>WB</td>\n",
       "      <td>296000000.0</td>\n",
       "      <td>664300000.0</td>\n",
       "      <td>2010</td>\n",
       "      <td>9.603000e+08</td>\n",
       "    </tr>\n",
       "    <tr>\n",
       "      <th>3</th>\n",
       "      <td>Inception</td>\n",
       "      <td>WB</td>\n",
       "      <td>292600000.0</td>\n",
       "      <td>535700000.0</td>\n",
       "      <td>2010</td>\n",
       "      <td>8.283000e+08</td>\n",
       "    </tr>\n",
       "    <tr>\n",
       "      <th>4</th>\n",
       "      <td>Shrek Forever After</td>\n",
       "      <td>P/DW</td>\n",
       "      <td>238700000.0</td>\n",
       "      <td>513900000.0</td>\n",
       "      <td>2010</td>\n",
       "      <td>7.526000e+08</td>\n",
       "    </tr>\n",
       "  </tbody>\n",
       "</table>\n",
       "</div>"
      ],
      "text/plain": [
       "                                         title studio  domestic_gross  \\\n",
       "0                                  Toy Story 3     BV     415000000.0   \n",
       "1                   Alice in Wonderland (2010)     BV     334200000.0   \n",
       "2  Harry Potter and the Deathly Hallows Part 1     WB     296000000.0   \n",
       "3                                    Inception     WB     292600000.0   \n",
       "4                          Shrek Forever After   P/DW     238700000.0   \n",
       "\n",
       "   foreign_gross  year       revenue  \n",
       "0    652000000.0  2010  1.067000e+09  \n",
       "1    691300000.0  2010  1.025500e+09  \n",
       "2    664300000.0  2010  9.603000e+08  \n",
       "3    535700000.0  2010  8.283000e+08  \n",
       "4    513900000.0  2010  7.526000e+08  "
      ]
     },
     "execution_count": 29,
     "metadata": {},
     "output_type": "execute_result"
    }
   ],
   "source": [
    "df_tmdb_mov_gross.head()"
   ]
  },
  {
   "cell_type": "code",
   "execution_count": 32,
   "id": "9d6afbb3",
   "metadata": {},
   "outputs": [],
   "source": [
    "df_tmdb_mov_gross.to_csv('bom.movie_gross.csv', index=False)"
   ]
  },
  {
   "cell_type": "markdown",
   "id": "ac4d88d5",
   "metadata": {},
   "source": [
    "### Data visualization"
   ]
  },
  {
   "cell_type": "code",
   "execution_count": 33,
   "id": "9b57577d",
   "metadata": {},
   "outputs": [],
   "source": [
    "#Filtering to get the top studios\n",
    "top_studios = df_tmdb_mov_gross['studio'].value_counts().head(5).index\n",
    "df_filtered = df_tmdb_mov_gross[df_tmdb_mov_gross['studio'].isin(top_studios)].dropna(subset=['revenue'])"
   ]
  },
  {
   "cell_type": "code",
   "execution_count": 34,
   "id": "4ddaf565",
   "metadata": {},
   "outputs": [
    {
     "data": {
      "image/png": "[encoded data removed]",
      "text/plain": [
       "<Figure size 1000x600 with 1 Axes>"
      ]
     },
     "metadata": {},
     "output_type": "display_data"
    }
   ],
   "source": [
    "#Plotting a barplot\n",
    "plt.figure(figsize=(10, 6))\n",
    "sns.barplot(data=df_filtered, x='studio', y='revenue', palette='coolwarm')\n",
    "plt.title('Revenue by Studio')\n",
    "plt.xlabel('Studio')\n",
    "plt.ylabel('Revenue')\n",
    "plt.xticks(rotation=30)\n",
    "plt.tight_layout()\n",
    "plt.show()"
   ]
  },
  {
   "cell_type": "markdown",
   "id": "0a6a1f57",
   "metadata": {},
   "source": [
    "The BV studio has the highest revenue while the UNI studio has the lowest revenue."
   ]
  },
  {
   "cell_type": "markdown",
   "id": "e50e6638",
   "metadata": {},
   "source": [
    "### Checking for normality"
   ]
  },
  {
   "cell_type": "code",
   "execution_count": 35,
   "id": "a87de224",
   "metadata": {},
   "outputs": [
    {
     "data": {
      "image/png": "[encoded data removed]",
      "text/plain": [
       "<Figure size 800x500 with 1 Axes>"
      ]
     },
     "metadata": {},
     "output_type": "display_data"
    }
   ],
   "source": [
    "plt.figure(figsize=(8, 5))\n",
    "sns.histplot(df_filtered['revenue'], kde=True, bins=30)\n",
    "plt.title('Revenue Distribution')\n",
    "plt.xlabel('Revenue')\n",
    "plt.ylabel('Count')\n",
    "plt.tight_layout()\n",
    "plt.show()"
   ]
  },
  {
   "cell_type": "markdown",
   "id": "0bd4a055",
   "metadata": {},
   "source": [
    "### Hypothesis testing"
   ]
  },
  {
   "cell_type": "code",
   "execution_count": 36,
   "id": "21c21382",
   "metadata": {},
   "outputs": [
    {
     "name": "stdout",
     "output_type": "stream",
     "text": [
      "ANOVA: F = 12.439, p = 0.0000\n"
     ]
    }
   ],
   "source": [
    "# Group revenue values by studio\n",
    "groups = [group['revenue'] for _, group in df_filtered.groupby('studio')]\n",
    "\n",
    "# Perform ANOVA\n",
    "f_stat, p_val = f_oneway(*groups)\n",
    "print(f\"ANOVA: F = {f_stat:.3f}, p = {p_val:.4f}\")"
   ]
  },
  {
   "cell_type": "markdown",
   "id": "641f63b9",
   "metadata": {},
   "source": [
    "At least 1 studio has significantly different average revenue, since p<0.05"
   ]
  }
 ],
 "metadata": {
  "kernelspec": {
   "display_name": "base",
   "language": "python",
   "name": "python3"
  },
  "language_info": {
   "codemirror_mode": {
    "name": "ipython",
    "version": 3
   },
   "file_extension": ".py",
   "mimetype": "text/x-python",
   "name": "python",
   "nbconvert_exporter": "python",
   "pygments_lexer": "ipython3",
   "version": "3.10.9"
  }
 },
 "nbformat": 4,
 "nbformat_minor": 5
}
